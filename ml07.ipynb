{
 "cells": [
  {
   "cell_type": "markdown",
   "metadata": {},
   "source": [
    "## 1. Perceptron - OR Gate"
   ]
  },
  {
   "cell_type": "code",
   "execution_count": 1,
   "metadata": {},
   "outputs": [],
   "source": [
    "import numpy as np\n",
    "import matplotlib.pyplot as plt"
   ]
  },
  {
   "cell_type": "code",
   "execution_count": 35,
   "metadata": {},
   "outputs": [],
   "source": [
    "X1 = np.array([[0, 0], [0, 1], [1, 0], [1, 1]])\n",
    "y = np.array([0, 1, 1, 1])"
   ]
  },
  {
   "cell_type": "code",
   "execution_count": 36,
   "metadata": {},
   "outputs": [],
   "source": [
    "def add_bias(X):\n",
    "    bias = np.ones((X.shape[0], 1)) # number of samples\n",
    "    return np.hstack((bias, X))"
   ]
  },
  {
   "cell_type": "code",
   "execution_count": 37,
   "metadata": {},
   "outputs": [
    {
     "data": {
      "text/plain": [
       "array([[1., 0., 0.],\n",
       "       [1., 0., 1.],\n",
       "       [1., 1., 0.],\n",
       "       [1., 1., 1.]])"
      ]
     },
     "execution_count": 37,
     "metadata": {},
     "output_type": "execute_result"
    }
   ],
   "source": [
    "X = add_bias(X1)\n",
    "X"
   ]
  },
  {
   "cell_type": "code",
   "execution_count": 38,
   "metadata": {},
   "outputs": [],
   "source": [
    "def create_theta(X):\n",
    "    theta = np.zeros(X.shape[1])\n",
    "    return theta"
   ]
  },
  {
   "cell_type": "code",
   "execution_count": 39,
   "metadata": {
    "scrolled": true
   },
   "outputs": [
    {
     "data": {
      "text/plain": [
       "array([0., 0., 0.])"
      ]
     },
     "execution_count": 39,
     "metadata": {},
     "output_type": "execute_result"
    }
   ],
   "source": [
    "theta = create_theta(X)\n",
    "theta"
   ]
  },
  {
   "cell_type": "code",
   "execution_count": 129,
   "metadata": {},
   "outputs": [],
   "source": [
    "def step_function(X):\n",
    "    if X<0:\n",
    "        return 0\n",
    "    else:\n",
    "        return 1"
   ]
  },
  {
   "cell_type": "code",
   "execution_count": 130,
   "metadata": {},
   "outputs": [],
   "source": [
    "def predict(X, theta):\n",
    "    return step_function(np.sum(X * theta, axis=0))"
   ]
  },
  {
   "cell_type": "code",
   "execution_count": 9,
   "metadata": {},
   "outputs": [
    {
     "data": {
      "text/plain": [
       "array([0., 0., 0.])"
      ]
     },
     "execution_count": 9,
     "metadata": {},
     "output_type": "execute_result"
    }
   ],
   "source": [
    "theta"
   ]
  },
  {
   "cell_type": "code",
   "execution_count": 13,
   "metadata": {
    "scrolled": false
   },
   "outputs": [
    {
     "name": "stdout",
     "output_type": "stream",
     "text": [
      "[0. 0. 0.] and the predict is 0\n",
      "y is 0\n",
      "so the error of the 0 index will be 0\n",
      "Update Theta: theta = [-1.  1.  1.] \n",
      "\n",
      "[0. 0. 2.] and the predict is 1\n",
      "y is 1\n",
      "so the error of the 1 index will be 0\n",
      "Update Theta: theta = [-1.  1.  1.] \n",
      "\n",
      "[0. 2. 0.] and the predict is 1\n",
      "y is 1\n",
      "so the error of the 2 index will be 0\n",
      "Update Theta: theta = [-1.  1.  1.] \n",
      "\n",
      "[0. 2. 2.] and the predict is 1\n",
      "y is 1\n",
      "so the error of the 3 index will be 0\n",
      "Update Theta: theta = [-1.  1.  1.] \n",
      "\n"
     ]
    }
   ],
   "source": [
    "# มันจะอกมาทีละชุดงี้นี่เอง\n",
    "for i, (xi, yi) in enumerate(zip(X, y)):\n",
    "    pred = predict(xi, theta)\n",
    "    print(xi* (theta+1), \"and the predict is\", pred)\n",
    "    print('y is', yi)\n",
    "    error = yi-pred\n",
    "    print('so the error of the', i,'index will be', error)\n",
    "    theta = theta + (alpha*error*xi)\n",
    "    print(\"Update Theta: theta =\", theta, \"\\n\")"
   ]
  },
  {
   "cell_type": "code",
   "execution_count": 11,
   "metadata": {},
   "outputs": [],
   "source": [
    "def perceptron(X, y, theta, alpha, nit):\n",
    "    errorList = np.zeros([nit, 4])\n",
    "    for iter in range(nit):\n",
    "        for i, (xi,yi) in enumerate(zip(X,y)):\n",
    "            y_pred = predict(xi,theta)\n",
    "            error = yi - y_pred\n",
    "            theta = theta + alpha*error*xi\n",
    "            errorList[iter, i] = error\n",
    "        #errorList.append(error)\n",
    "    return theta, errorList"
   ]
  },
  {
   "cell_type": "code",
   "execution_count": 30,
   "metadata": {},
   "outputs": [],
   "source": [
    "def decision_bound(X, theta):\n",
    "    c = -theta[0]/theta[2]\n",
    "    m = -theta[1]/theta[2]\n",
    "    return (m*X + c)"
   ]
  },
  {
   "cell_type": "code",
   "execution_count": 56,
   "metadata": {},
   "outputs": [],
   "source": [
    "alpha = 1\n",
    "nit = 100\n",
    "theta = create_theta(X)\n",
    "\n",
    "theta, errorList = perceptron(X, y, theta, alpha, nit)\n"
   ]
  },
  {
   "cell_type": "code",
   "execution_count": 58,
   "metadata": {
    "scrolled": true
   },
   "outputs": [
    {
     "data": {
      "text/plain": [
       "array([-1.,  1.,  1.])"
      ]
     },
     "execution_count": 58,
     "metadata": {},
     "output_type": "execute_result"
    }
   ],
   "source": [
    "theta"
   ]
  },
  {
   "cell_type": "code",
   "execution_count": 20,
   "metadata": {},
   "outputs": [
    {
     "data": {
      "text/plain": [
       "(100, 4)"
      ]
     },
     "execution_count": 20,
     "metadata": {},
     "output_type": "execute_result"
    }
   ],
   "source": [
    "errorList.shape"
   ]
  },
  {
   "cell_type": "code",
   "execution_count": 23,
   "metadata": {
    "collapsed": true
   },
   "outputs": [
    {
     "name": "stdout",
     "output_type": "stream",
     "text": [
      "Iteration 1 | Error = [-1.  1.  0.  0.]\n",
      "Iteration 2 | Error = [-1.  0.  1.  0.]\n",
      "Iteration 3 | Error = [-1.  0.  0.  0.]\n",
      "Iteration 4 | Error = [0. 0. 0. 0.]\n",
      "Iteration 5 | Error = [0. 0. 0. 0.]\n",
      "Iteration 6 | Error = [0. 0. 0. 0.]\n",
      "Iteration 7 | Error = [0. 0. 0. 0.]\n",
      "Iteration 8 | Error = [0. 0. 0. 0.]\n",
      "Iteration 9 | Error = [0. 0. 0. 0.]\n",
      "Iteration 10 | Error = [0. 0. 0. 0.]\n",
      "Iteration 11 | Error = [0. 0. 0. 0.]\n",
      "Iteration 12 | Error = [0. 0. 0. 0.]\n",
      "Iteration 13 | Error = [0. 0. 0. 0.]\n",
      "Iteration 14 | Error = [0. 0. 0. 0.]\n",
      "Iteration 15 | Error = [0. 0. 0. 0.]\n",
      "Iteration 16 | Error = [0. 0. 0. 0.]\n",
      "Iteration 17 | Error = [0. 0. 0. 0.]\n",
      "Iteration 18 | Error = [0. 0. 0. 0.]\n",
      "Iteration 19 | Error = [0. 0. 0. 0.]\n",
      "Iteration 20 | Error = [0. 0. 0. 0.]\n",
      "Iteration 21 | Error = [0. 0. 0. 0.]\n",
      "Iteration 22 | Error = [0. 0. 0. 0.]\n",
      "Iteration 23 | Error = [0. 0. 0. 0.]\n",
      "Iteration 24 | Error = [0. 0. 0. 0.]\n",
      "Iteration 25 | Error = [0. 0. 0. 0.]\n",
      "Iteration 26 | Error = [0. 0. 0. 0.]\n",
      "Iteration 27 | Error = [0. 0. 0. 0.]\n",
      "Iteration 28 | Error = [0. 0. 0. 0.]\n",
      "Iteration 29 | Error = [0. 0. 0. 0.]\n",
      "Iteration 30 | Error = [0. 0. 0. 0.]\n",
      "Iteration 31 | Error = [0. 0. 0. 0.]\n",
      "Iteration 32 | Error = [0. 0. 0. 0.]\n",
      "Iteration 33 | Error = [0. 0. 0. 0.]\n",
      "Iteration 34 | Error = [0. 0. 0. 0.]\n",
      "Iteration 35 | Error = [0. 0. 0. 0.]\n",
      "Iteration 36 | Error = [0. 0. 0. 0.]\n",
      "Iteration 37 | Error = [0. 0. 0. 0.]\n",
      "Iteration 38 | Error = [0. 0. 0. 0.]\n",
      "Iteration 39 | Error = [0. 0. 0. 0.]\n",
      "Iteration 40 | Error = [0. 0. 0. 0.]\n",
      "Iteration 41 | Error = [0. 0. 0. 0.]\n",
      "Iteration 42 | Error = [0. 0. 0. 0.]\n",
      "Iteration 43 | Error = [0. 0. 0. 0.]\n",
      "Iteration 44 | Error = [0. 0. 0. 0.]\n",
      "Iteration 45 | Error = [0. 0. 0. 0.]\n",
      "Iteration 46 | Error = [0. 0. 0. 0.]\n",
      "Iteration 47 | Error = [0. 0. 0. 0.]\n",
      "Iteration 48 | Error = [0. 0. 0. 0.]\n",
      "Iteration 49 | Error = [0. 0. 0. 0.]\n",
      "Iteration 50 | Error = [0. 0. 0. 0.]\n",
      "Iteration 51 | Error = [0. 0. 0. 0.]\n",
      "Iteration 52 | Error = [0. 0. 0. 0.]\n",
      "Iteration 53 | Error = [0. 0. 0. 0.]\n",
      "Iteration 54 | Error = [0. 0. 0. 0.]\n",
      "Iteration 55 | Error = [0. 0. 0. 0.]\n",
      "Iteration 56 | Error = [0. 0. 0. 0.]\n",
      "Iteration 57 | Error = [0. 0. 0. 0.]\n",
      "Iteration 58 | Error = [0. 0. 0. 0.]\n",
      "Iteration 59 | Error = [0. 0. 0. 0.]\n",
      "Iteration 60 | Error = [0. 0. 0. 0.]\n",
      "Iteration 61 | Error = [0. 0. 0. 0.]\n",
      "Iteration 62 | Error = [0. 0. 0. 0.]\n",
      "Iteration 63 | Error = [0. 0. 0. 0.]\n",
      "Iteration 64 | Error = [0. 0. 0. 0.]\n",
      "Iteration 65 | Error = [0. 0. 0. 0.]\n",
      "Iteration 66 | Error = [0. 0. 0. 0.]\n",
      "Iteration 67 | Error = [0. 0. 0. 0.]\n",
      "Iteration 68 | Error = [0. 0. 0. 0.]\n",
      "Iteration 69 | Error = [0. 0. 0. 0.]\n",
      "Iteration 70 | Error = [0. 0. 0. 0.]\n",
      "Iteration 71 | Error = [0. 0. 0. 0.]\n",
      "Iteration 72 | Error = [0. 0. 0. 0.]\n",
      "Iteration 73 | Error = [0. 0. 0. 0.]\n",
      "Iteration 74 | Error = [0. 0. 0. 0.]\n",
      "Iteration 75 | Error = [0. 0. 0. 0.]\n",
      "Iteration 76 | Error = [0. 0. 0. 0.]\n",
      "Iteration 77 | Error = [0. 0. 0. 0.]\n",
      "Iteration 78 | Error = [0. 0. 0. 0.]\n",
      "Iteration 79 | Error = [0. 0. 0. 0.]\n",
      "Iteration 80 | Error = [0. 0. 0. 0.]\n",
      "Iteration 81 | Error = [0. 0. 0. 0.]\n",
      "Iteration 82 | Error = [0. 0. 0. 0.]\n",
      "Iteration 83 | Error = [0. 0. 0. 0.]\n",
      "Iteration 84 | Error = [0. 0. 0. 0.]\n",
      "Iteration 85 | Error = [0. 0. 0. 0.]\n",
      "Iteration 86 | Error = [0. 0. 0. 0.]\n",
      "Iteration 87 | Error = [0. 0. 0. 0.]\n",
      "Iteration 88 | Error = [0. 0. 0. 0.]\n",
      "Iteration 89 | Error = [0. 0. 0. 0.]\n",
      "Iteration 90 | Error = [0. 0. 0. 0.]\n",
      "Iteration 91 | Error = [0. 0. 0. 0.]\n",
      "Iteration 92 | Error = [0. 0. 0. 0.]\n",
      "Iteration 93 | Error = [0. 0. 0. 0.]\n",
      "Iteration 94 | Error = [0. 0. 0. 0.]\n",
      "Iteration 95 | Error = [0. 0. 0. 0.]\n",
      "Iteration 96 | Error = [0. 0. 0. 0.]\n",
      "Iteration 97 | Error = [0. 0. 0. 0.]\n",
      "Iteration 98 | Error = [0. 0. 0. 0.]\n",
      "Iteration 99 | Error = [0. 0. 0. 0.]\n",
      "Iteration 100 | Error = [0. 0. 0. 0.]\n"
     ]
    }
   ],
   "source": [
    "for i in range(errorList.shape[0]):\n",
    "    print(f'Iteration {i+1} | Error = {errorList[i]}')"
   ]
  },
  {
   "cell_type": "code",
   "execution_count": 59,
   "metadata": {},
   "outputs": [
    {
     "data": {
      "text/plain": [
       "array([[1., 1.],\n",
       "       [1., 0.],\n",
       "       [0., 1.],\n",
       "       [0., 0.]])"
      ]
     },
     "execution_count": 59,
     "metadata": {},
     "output_type": "execute_result"
    }
   ],
   "source": [
    "debound = decision_bound(X, theta)\n",
    "debound = debound[:, 1:]\n",
    "debound"
   ]
  },
  {
   "cell_type": "code",
   "execution_count": 62,
   "metadata": {},
   "outputs": [
    {
     "data": {
      "text/plain": [
       "(-0.1, 1.1)"
      ]
     },
     "execution_count": 62,
     "metadata": {},
     "output_type": "execute_result"
    },
    {
     "data": {
      "image/png": "[encoded data removed]",
      "text/plain": [
       "<Figure size 432x288 with 1 Axes>"
      ]
     },
     "metadata": {
      "needs_background": "light"
     },
     "output_type": "display_data"
    }
   ],
   "source": [
    "plt.scatter(X[:, 1], X[:, 2])\n",
    "plt.plot(debound[1])\n",
    "plt.ylim(-0.1, 1.1);\n",
    "plt.xlim(-0.1, 1.1)\n"
   ]
  },
  {
   "cell_type": "markdown",
   "metadata": {},
   "source": [
    "#### plot decision boundary"
   ]
  },
  {
   "cell_type": "markdown",
   "metadata": {},
   "source": [
    "## 2. Perceptron - XOR Gate"
   ]
  },
  {
   "cell_type": "code",
   "execution_count": 63,
   "metadata": {},
   "outputs": [],
   "source": [
    "X1 = np.array([[0, 0], [0, 1], [1, 0], [1, 1]])\n",
    "y = np.array([0, 1, 1, 0])"
   ]
  },
  {
   "cell_type": "code",
   "execution_count": 64,
   "metadata": {},
   "outputs": [
    {
     "data": {
      "text/plain": [
       "array([[1., 0., 0.],\n",
       "       [1., 0., 1.],\n",
       "       [1., 1., 0.],\n",
       "       [1., 1., 1.]])"
      ]
     },
     "execution_count": 64,
     "metadata": {},
     "output_type": "execute_result"
    }
   ],
   "source": [
    "X = add_bias(X1)\n",
    "X"
   ]
  },
  {
   "cell_type": "code",
   "execution_count": 65,
   "metadata": {},
   "outputs": [
    {
     "data": {
      "text/plain": [
       "array([0, 1, 1, 0])"
      ]
     },
     "execution_count": 65,
     "metadata": {},
     "output_type": "execute_result"
    }
   ],
   "source": [
    "y"
   ]
  },
  {
   "cell_type": "code",
   "execution_count": 66,
   "metadata": {},
   "outputs": [],
   "source": [
    "alpha = 1\n",
    "nit = 100\n",
    "theta = create_theta(X)\n",
    "\n",
    "theta, errorList = perceptron(X, y, theta, alpha, nit)\n"
   ]
  },
  {
   "cell_type": "markdown",
   "metadata": {},
   "source": [
    "### there are some error"
   ]
  },
  {
   "cell_type": "code",
   "execution_count": 28,
   "metadata": {
    "scrolled": true
   },
   "outputs": [
    {
     "data": {
      "text/plain": [
       "array([ 0., -1.,  0.])"
      ]
     },
     "execution_count": 28,
     "metadata": {},
     "output_type": "execute_result"
    }
   ],
   "source": [
    "theta"
   ]
  },
  {
   "cell_type": "markdown",
   "metadata": {},
   "source": [
    "### there are some error"
   ]
  },
  {
   "cell_type": "code",
   "execution_count": 29,
   "metadata": {
    "scrolled": true
   },
   "outputs": [
    {
     "data": {
      "text/plain": [
       "array([[-1.,  1.,  0., -1.],\n",
       "       [ 0.,  1.,  1., -1.],\n",
       "       [-1.,  1.,  1., -1.],\n",
       "       [-1.,  1.,  1., -1.],\n",
       "       [-1.,  1.,  1., -1.],\n",
       "       [-1.,  1.,  1., -1.],\n",
       "       [-1.,  1.,  1., -1.],\n",
       "       [-1.,  1.,  1., -1.],\n",
       "       [-1.,  1.,  1., -1.],\n",
       "       [-1.,  1.,  1., -1.],\n",
       "       [-1.,  1.,  1., -1.],\n",
       "       [-1.,  1.,  1., -1.],\n",
       "       [-1.,  1.,  1., -1.],\n",
       "       [-1.,  1.,  1., -1.],\n",
       "       [-1.,  1.,  1., -1.],\n",
       "       [-1.,  1.,  1., -1.],\n",
       "       [-1.,  1.,  1., -1.],\n",
       "       [-1.,  1.,  1., -1.],\n",
       "       [-1.,  1.,  1., -1.],\n",
       "       [-1.,  1.,  1., -1.],\n",
       "       [-1.,  1.,  1., -1.],\n",
       "       [-1.,  1.,  1., -1.],\n",
       "       [-1.,  1.,  1., -1.],\n",
       "       [-1.,  1.,  1., -1.],\n",
       "       [-1.,  1.,  1., -1.],\n",
       "       [-1.,  1.,  1., -1.],\n",
       "       [-1.,  1.,  1., -1.],\n",
       "       [-1.,  1.,  1., -1.],\n",
       "       [-1.,  1.,  1., -1.],\n",
       "       [-1.,  1.,  1., -1.],\n",
       "       [-1.,  1.,  1., -1.],\n",
       "       [-1.,  1.,  1., -1.],\n",
       "       [-1.,  1.,  1., -1.],\n",
       "       [-1.,  1.,  1., -1.],\n",
       "       [-1.,  1.,  1., -1.],\n",
       "       [-1.,  1.,  1., -1.],\n",
       "       [-1.,  1.,  1., -1.],\n",
       "       [-1.,  1.,  1., -1.],\n",
       "       [-1.,  1.,  1., -1.],\n",
       "       [-1.,  1.,  1., -1.],\n",
       "       [-1.,  1.,  1., -1.],\n",
       "       [-1.,  1.,  1., -1.],\n",
       "       [-1.,  1.,  1., -1.],\n",
       "       [-1.,  1.,  1., -1.],\n",
       "       [-1.,  1.,  1., -1.],\n",
       "       [-1.,  1.,  1., -1.],\n",
       "       [-1.,  1.,  1., -1.],\n",
       "       [-1.,  1.,  1., -1.],\n",
       "       [-1.,  1.,  1., -1.],\n",
       "       [-1.,  1.,  1., -1.],\n",
       "       [-1.,  1.,  1., -1.],\n",
       "       [-1.,  1.,  1., -1.],\n",
       "       [-1.,  1.,  1., -1.],\n",
       "       [-1.,  1.,  1., -1.],\n",
       "       [-1.,  1.,  1., -1.],\n",
       "       [-1.,  1.,  1., -1.],\n",
       "       [-1.,  1.,  1., -1.],\n",
       "       [-1.,  1.,  1., -1.],\n",
       "       [-1.,  1.,  1., -1.],\n",
       "       [-1.,  1.,  1., -1.],\n",
       "       [-1.,  1.,  1., -1.],\n",
       "       [-1.,  1.,  1., -1.],\n",
       "       [-1.,  1.,  1., -1.],\n",
       "       [-1.,  1.,  1., -1.],\n",
       "       [-1.,  1.,  1., -1.],\n",
       "       [-1.,  1.,  1., -1.],\n",
       "       [-1.,  1.,  1., -1.],\n",
       "       [-1.,  1.,  1., -1.],\n",
       "       [-1.,  1.,  1., -1.],\n",
       "       [-1.,  1.,  1., -1.],\n",
       "       [-1.,  1.,  1., -1.],\n",
       "       [-1.,  1.,  1., -1.],\n",
       "       [-1.,  1.,  1., -1.],\n",
       "       [-1.,  1.,  1., -1.],\n",
       "       [-1.,  1.,  1., -1.],\n",
       "       [-1.,  1.,  1., -1.],\n",
       "       [-1.,  1.,  1., -1.],\n",
       "       [-1.,  1.,  1., -1.],\n",
       "       [-1.,  1.,  1., -1.],\n",
       "       [-1.,  1.,  1., -1.],\n",
       "       [-1.,  1.,  1., -1.],\n",
       "       [-1.,  1.,  1., -1.],\n",
       "       [-1.,  1.,  1., -1.],\n",
       "       [-1.,  1.,  1., -1.],\n",
       "       [-1.,  1.,  1., -1.],\n",
       "       [-1.,  1.,  1., -1.],\n",
       "       [-1.,  1.,  1., -1.],\n",
       "       [-1.,  1.,  1., -1.],\n",
       "       [-1.,  1.,  1., -1.],\n",
       "       [-1.,  1.,  1., -1.],\n",
       "       [-1.,  1.,  1., -1.],\n",
       "       [-1.,  1.,  1., -1.],\n",
       "       [-1.,  1.,  1., -1.],\n",
       "       [-1.,  1.,  1., -1.],\n",
       "       [-1.,  1.,  1., -1.],\n",
       "       [-1.,  1.,  1., -1.],\n",
       "       [-1.,  1.,  1., -1.],\n",
       "       [-1.,  1.,  1., -1.],\n",
       "       [-1.,  1.,  1., -1.],\n",
       "       [-1.,  1.,  1., -1.]])"
      ]
     },
     "execution_count": 29,
     "metadata": {},
     "output_type": "execute_result"
    }
   ],
   "source": [
    "errorList"
   ]
  },
  {
   "cell_type": "code",
   "execution_count": 67,
   "metadata": {},
   "outputs": [
    {
     "name": "stderr",
     "output_type": "stream",
     "text": [
      "C:\\Users\\theka\\AppData\\Local\\Continuum\\anaconda3\\lib\\site-packages\\ipykernel_launcher.py:2: RuntimeWarning: invalid value encountered in double_scalars\n",
      "  \n",
      "C:\\Users\\theka\\AppData\\Local\\Continuum\\anaconda3\\lib\\site-packages\\ipykernel_launcher.py:3: RuntimeWarning: divide by zero encountered in double_scalars\n",
      "  This is separate from the ipykernel package so we can avoid doing imports until\n",
      "C:\\Users\\theka\\AppData\\Local\\Continuum\\anaconda3\\lib\\site-packages\\ipykernel_launcher.py:4: RuntimeWarning: invalid value encountered in multiply\n",
      "  after removing the cwd from sys.path.\n"
     ]
    },
    {
     "data": {
      "text/plain": [
       "array([[nan, nan, nan],\n",
       "       [nan, nan, nan],\n",
       "       [nan, nan, nan],\n",
       "       [nan, nan, nan]])"
      ]
     },
     "execution_count": 67,
     "metadata": {},
     "output_type": "execute_result"
    }
   ],
   "source": [
    "bound = decision_bound(X, theta)\n",
    "bound"
   ]
  },
  {
   "cell_type": "markdown",
   "metadata": {},
   "source": [
    "## 3. Perceptron - Iris"
   ]
  },
  {
   "cell_type": "code",
   "execution_count": 140,
   "metadata": {},
   "outputs": [],
   "source": [
    "from sklearn import datasets"
   ]
  },
  {
   "cell_type": "code",
   "execution_count": 141,
   "metadata": {},
   "outputs": [],
   "source": [
    "iris = datasets.load_iris()"
   ]
  },
  {
   "cell_type": "code",
   "execution_count": 142,
   "metadata": {},
   "outputs": [
    {
     "data": {
      "text/plain": [
       "['sepal length (cm)',\n",
       " 'sepal width (cm)',\n",
       " 'petal length (cm)',\n",
       " 'petal width (cm)']"
      ]
     },
     "execution_count": 142,
     "metadata": {},
     "output_type": "execute_result"
    }
   ],
   "source": [
    "iris.feature_names"
   ]
  },
  {
   "cell_type": "code",
   "execution_count": 143,
   "metadata": {},
   "outputs": [
    {
     "data": {
      "text/plain": [
       "array(['setosa', 'versicolor', 'virginica'], dtype='<U10')"
      ]
     },
     "execution_count": 143,
     "metadata": {},
     "output_type": "execute_result"
    }
   ],
   "source": [
    "iris.target_names"
   ]
  },
  {
   "cell_type": "code",
   "execution_count": 144,
   "metadata": {},
   "outputs": [],
   "source": [
    "X = iris.data[:100, :2]\n",
    "y = iris.target[:100].reshape((-1, 1))"
   ]
  },
  {
   "cell_type": "markdown",
   "metadata": {},
   "source": [
    "#### write function to randomly split"
   ]
  },
  {
   "cell_type": "code",
   "execution_count": 145,
   "metadata": {},
   "outputs": [],
   "source": [
    "def splitData(X, y, p_train, seedgot):\n",
    "    np.random.seed(seedgot)\n",
    "    \n",
    "    arr = np.arange(X.shape[0])\n",
    "    np.random.shuffle(arr)\n",
    "    X = X[arr].copy()\n",
    "    y = y[arr].copy()\n",
    "    \n",
    "    train_sam = int(p_train*X.shape[0])\n",
    "    X_train = X[:train_sam, :]\n",
    "    y_train = y[:train_sam]\n",
    "    X_test = X[train_sam:, :]\n",
    "    y_test = y[train_sam:]\n",
    "    return X_train, y_train, X_test, y_test"
   ]
  },
  {
   "cell_type": "code",
   "execution_count": 146,
   "metadata": {
    "collapsed": true
   },
   "outputs": [
    {
     "data": {
      "text/plain": [
       "array([[1. , 5.1, 3.5],\n",
       "       [1. , 4.9, 3. ],\n",
       "       [1. , 4.7, 3.2],\n",
       "       [1. , 4.6, 3.1],\n",
       "       [1. , 5. , 3.6],\n",
       "       [1. , 5.4, 3.9],\n",
       "       [1. , 4.6, 3.4],\n",
       "       [1. , 5. , 3.4],\n",
       "       [1. , 4.4, 2.9],\n",
       "       [1. , 4.9, 3.1],\n",
       "       [1. , 5.4, 3.7],\n",
       "       [1. , 4.8, 3.4],\n",
       "       [1. , 4.8, 3. ],\n",
       "       [1. , 4.3, 3. ],\n",
       "       [1. , 5.8, 4. ],\n",
       "       [1. , 5.7, 4.4],\n",
       "       [1. , 5.4, 3.9],\n",
       "       [1. , 5.1, 3.5],\n",
       "       [1. , 5.7, 3.8],\n",
       "       [1. , 5.1, 3.8],\n",
       "       [1. , 5.4, 3.4],\n",
       "       [1. , 5.1, 3.7],\n",
       "       [1. , 4.6, 3.6],\n",
       "       [1. , 5.1, 3.3],\n",
       "       [1. , 4.8, 3.4],\n",
       "       [1. , 5. , 3. ],\n",
       "       [1. , 5. , 3.4],\n",
       "       [1. , 5.2, 3.5],\n",
       "       [1. , 5.2, 3.4],\n",
       "       [1. , 4.7, 3.2],\n",
       "       [1. , 4.8, 3.1],\n",
       "       [1. , 5.4, 3.4],\n",
       "       [1. , 5.2, 4.1],\n",
       "       [1. , 5.5, 4.2],\n",
       "       [1. , 4.9, 3.1],\n",
       "       [1. , 5. , 3.2],\n",
       "       [1. , 5.5, 3.5],\n",
       "       [1. , 4.9, 3.6],\n",
       "       [1. , 4.4, 3. ],\n",
       "       [1. , 5.1, 3.4],\n",
       "       [1. , 5. , 3.5],\n",
       "       [1. , 4.5, 2.3],\n",
       "       [1. , 4.4, 3.2],\n",
       "       [1. , 5. , 3.5],\n",
       "       [1. , 5.1, 3.8],\n",
       "       [1. , 4.8, 3. ],\n",
       "       [1. , 5.1, 3.8],\n",
       "       [1. , 4.6, 3.2],\n",
       "       [1. , 5.3, 3.7],\n",
       "       [1. , 5. , 3.3],\n",
       "       [1. , 7. , 3.2],\n",
       "       [1. , 6.4, 3.2],\n",
       "       [1. , 6.9, 3.1],\n",
       "       [1. , 5.5, 2.3],\n",
       "       [1. , 6.5, 2.8],\n",
       "       [1. , 5.7, 2.8],\n",
       "       [1. , 6.3, 3.3],\n",
       "       [1. , 4.9, 2.4],\n",
       "       [1. , 6.6, 2.9],\n",
       "       [1. , 5.2, 2.7],\n",
       "       [1. , 5. , 2. ],\n",
       "       [1. , 5.9, 3. ],\n",
       "       [1. , 6. , 2.2],\n",
       "       [1. , 6.1, 2.9],\n",
       "       [1. , 5.6, 2.9],\n",
       "       [1. , 6.7, 3.1],\n",
       "       [1. , 5.6, 3. ],\n",
       "       [1. , 5.8, 2.7],\n",
       "       [1. , 6.2, 2.2],\n",
       "       [1. , 5.6, 2.5],\n",
       "       [1. , 5.9, 3.2],\n",
       "       [1. , 6.1, 2.8],\n",
       "       [1. , 6.3, 2.5],\n",
       "       [1. , 6.1, 2.8],\n",
       "       [1. , 6.4, 2.9],\n",
       "       [1. , 6.6, 3. ],\n",
       "       [1. , 6.8, 2.8],\n",
       "       [1. , 6.7, 3. ],\n",
       "       [1. , 6. , 2.9],\n",
       "       [1. , 5.7, 2.6],\n",
       "       [1. , 5.5, 2.4],\n",
       "       [1. , 5.5, 2.4],\n",
       "       [1. , 5.8, 2.7],\n",
       "       [1. , 6. , 2.7],\n",
       "       [1. , 5.4, 3. ],\n",
       "       [1. , 6. , 3.4],\n",
       "       [1. , 6.7, 3.1],\n",
       "       [1. , 6.3, 2.3],\n",
       "       [1. , 5.6, 3. ],\n",
       "       [1. , 5.5, 2.5],\n",
       "       [1. , 5.5, 2.6],\n",
       "       [1. , 6.1, 3. ],\n",
       "       [1. , 5.8, 2.6],\n",
       "       [1. , 5. , 2.3],\n",
       "       [1. , 5.6, 2.7],\n",
       "       [1. , 5.7, 3. ],\n",
       "       [1. , 5.7, 2.9],\n",
       "       [1. , 6.2, 2.9],\n",
       "       [1. , 5.1, 2.5],\n",
       "       [1. , 5.7, 2.8]])"
      ]
     },
     "execution_count": 146,
     "metadata": {},
     "output_type": "execute_result"
    }
   ],
   "source": [
    "X = add_bias(X)\n",
    "X"
   ]
  },
  {
   "cell_type": "code",
   "execution_count": 147,
   "metadata": {},
   "outputs": [],
   "source": [
    "p_train = 0.7\n",
    "seedgot = 100\n",
    "\n",
    "X_train, y_train, X_test, y_test = splitData(X, y, p_train, seedgot)"
   ]
  },
  {
   "cell_type": "code",
   "execution_count": 148,
   "metadata": {
    "scrolled": true
   },
   "outputs": [
    {
     "data": {
      "text/plain": [
       "(30, 3)"
      ]
     },
     "execution_count": 148,
     "metadata": {},
     "output_type": "execute_result"
    }
   ],
   "source": [
    "X_test.shape"
   ]
  },
  {
   "cell_type": "code",
   "execution_count": 154,
   "metadata": {},
   "outputs": [],
   "source": [
    "def perceptron(X, y, theta, alpha, nit):\n",
    "    for iter in range(nit):\n",
    "        for i, (xi,yi) in enumerate(zip(X,y)):\n",
    "            y_pred = predict(xi,theta)\n",
    "            error = (yi - y_pred)\n",
    "            theta = theta + alpha*error*xi\n",
    "            cost = np.mean(np.square(y_pred - y))/2\n",
    "    return theta, cost"
   ]
  },
  {
   "cell_type": "code",
   "execution_count": 155,
   "metadata": {},
   "outputs": [],
   "source": [
    "def step_function(X):\n",
    "    if X<0:\n",
    "        return 0\n",
    "    else:\n",
    "        return 1"
   ]
  },
  {
   "cell_type": "code",
   "execution_count": 165,
   "metadata": {},
   "outputs": [],
   "source": [
    "def predict(X, theta):\n",
    "    return step_function(np.sum(X * theta, axis=0))"
   ]
  },
  {
   "cell_type": "code",
   "execution_count": 157,
   "metadata": {},
   "outputs": [
    {
     "data": {
      "text/plain": [
       "0.22857142857142856"
      ]
     },
     "execution_count": 157,
     "metadata": {},
     "output_type": "execute_result"
    }
   ],
   "source": [
    "alpha = 1\n",
    "nit = 100\n",
    "theta = create_theta(X_train)\n",
    "\n",
    "theta, cost = perceptron(X_train, y_train, theta, alpha, nit)\n",
    "cost"
   ]
  },
  {
   "cell_type": "code",
   "execution_count": 158,
   "metadata": {},
   "outputs": [
    {
     "data": {
      "text/plain": [
       "array([-38. ,  40.4, -60.9])"
      ]
     },
     "execution_count": 158,
     "metadata": {},
     "output_type": "execute_result"
    }
   ],
   "source": [
    "theta"
   ]
  },
  {
   "cell_type": "markdown",
   "metadata": {},
   "source": [
    "#### write a function to normalise"
   ]
  },
  {
   "cell_type": "code",
   "execution_count": 80,
   "metadata": {},
   "outputs": [],
   "source": [
    "def normaliseTrain(X):\n",
    "    X_min = np.min(X, axis=0) # column min\n",
    "    X_max = np.max(X, axis=0)\n",
    "    X_train_norm = (X - X_min) / (X_max - X_min)\n",
    "    return X_train_norm, X_max, X_min"
   ]
  },
  {
   "cell_type": "code",
   "execution_count": 81,
   "metadata": {},
   "outputs": [],
   "source": [
    "def normaliseTest(X_test, X_max, X_min):\n",
    "    return (X_test - X_min) / (X_max - X_min)"
   ]
  },
  {
   "cell_type": "markdown",
   "metadata": {},
   "source": [
    "#### write a function to calculate the accuracy"
   ]
  },
  {
   "cell_type": "code",
   "execution_count": 85,
   "metadata": {},
   "outputs": [],
   "source": [
    "def accuracy(y_pred, y):\n",
    "    acc = np.sum(y_pred == y)/y_pred.shape[0]\n",
    "    return acc"
   ]
  },
  {
   "cell_type": "code",
   "execution_count": 214,
   "metadata": {},
   "outputs": [],
   "source": [
    "def hypo(X, theta):\n",
    "    pred = np.matmul(X, theta)\n",
    "    for i in range(len(pred)):\n",
    "        pred[i] = step_function(pred[i])\n",
    "    return pred.astype(int)"
   ]
  },
  {
   "cell_type": "code",
   "execution_count": 215,
   "metadata": {},
   "outputs": [],
   "source": [
    "pred = hypo(X_test, theta)\n",
    "#pred = pred[pred > 0].astype(int)\n",
    "pred = pred.reshape((-1, 1))"
   ]
  },
  {
   "cell_type": "code",
   "execution_count": 217,
   "metadata": {
    "collapsed": true
   },
   "outputs": [
    {
     "name": "stdout",
     "output_type": "stream",
     "text": [
      "Predict = [0] | and Real = [0]\n",
      "Predict = [0] | and Real = [0]\n",
      "Predict = [0] | and Real = [0]\n",
      "Predict = [1] | and Real = [1]\n",
      "Predict = [1] | and Real = [1]\n",
      "Predict = [1] | and Real = [1]\n",
      "Predict = [0] | and Real = [0]\n",
      "Predict = [0] | and Real = [0]\n",
      "Predict = [0] | and Real = [0]\n",
      "Predict = [0] | and Real = [0]\n",
      "Predict = [0] | and Real = [0]\n",
      "Predict = [0] | and Real = [0]\n",
      "Predict = [0] | and Real = [0]\n",
      "Predict = [0] | and Real = [0]\n",
      "Predict = [1] | and Real = [1]\n",
      "Predict = [1] | and Real = [1]\n",
      "Predict = [0] | and Real = [0]\n",
      "Predict = [1] | and Real = [1]\n",
      "Predict = [0] | and Real = [0]\n",
      "Predict = [0] | and Real = [0]\n",
      "Predict = [1] | and Real = [1]\n",
      "Predict = [1] | and Real = [1]\n",
      "Predict = [1] | and Real = [1]\n",
      "Predict = [0] | and Real = [0]\n",
      "Predict = [0] | and Real = [0]\n",
      "Predict = [1] | and Real = [1]\n",
      "Predict = [1] | and Real = [1]\n",
      "Predict = [1] | and Real = [1]\n",
      "Predict = [0] | and Real = [0]\n",
      "Predict = [0] | and Real = [0]\n"
     ]
    }
   ],
   "source": [
    "for yh, yi in zip(pred, y_test):\n",
    "    print(f'Predict = {yh} | and Real = {yi}')\n",
    "    if yh == yi"
   ]
  },
  {
   "cell_type": "code",
   "execution_count": 218,
   "metadata": {},
   "outputs": [
    {
     "data": {
      "text/plain": [
       "1.0"
      ]
     },
     "execution_count": 218,
     "metadata": {},
     "output_type": "execute_result"
    }
   ],
   "source": [
    "accuracy(pred, y_test)"
   ]
  },
  {
   "cell_type": "code",
   "execution_count": 184,
   "metadata": {},
   "outputs": [
    {
     "data": {
      "text/plain": [
       "array([-47.04, -36.97, -43.06,  35.87,   7.65,   9.58, -46.98, -22.74,\n",
       "       -26.9 , -55.24, -41.07, -43.  , -28.83, -57.35,  52.03,  42.2 ,\n",
       "       -75.68,  15.79, -28.83, -47.28,   5.54,  44.13,  51.97, -45.17,\n",
       "       -49.21,  33.94,  76.45,  31.89, -51.14, -36.85])"
      ]
     },
     "execution_count": 184,
     "metadata": {},
     "output_type": "execute_result"
    }
   ],
   "source": [
    "np.sum(X_test * theta, axis=1)"
   ]
  },
  {
   "cell_type": "code",
   "execution_count": 180,
   "metadata": {
    "scrolled": true
   },
   "outputs": [
    {
     "data": {
      "text/plain": [
       "array([-47.04, -36.97, -43.06,  35.87,   7.65,   9.58, -46.98, -22.74,\n",
       "       -26.9 , -55.24, -41.07, -43.  , -28.83, -57.35,  52.03,  42.2 ,\n",
       "       -75.68,  15.79, -28.83, -47.28,   5.54,  44.13,  51.97, -45.17,\n",
       "       -49.21,  33.94,  76.45,  31.89, -51.14, -36.85])"
      ]
     },
     "execution_count": 180,
     "metadata": {},
     "output_type": "execute_result"
    }
   ],
   "source": [
    "np.matmul(X_test, theta)"
   ]
  },
  {
   "cell_type": "markdown",
   "metadata": {},
   "source": [
    "### graph"
   ]
  },
  {
   "cell_type": "code",
   "execution_count": 230,
   "metadata": {},
   "outputs": [
    {
     "data": {
      "text/plain": [
       "(50,)"
      ]
     },
     "execution_count": 230,
     "metadata": {},
     "output_type": "execute_result"
    }
   ],
   "source": [
    "y[y == 1].shape"
   ]
  },
  {
   "cell_type": "code",
   "execution_count": 232,
   "metadata": {
    "scrolled": true
   },
   "outputs": [
    {
     "data": {
      "text/plain": [
       "array([0, 0, 0, 0, 0, 0, 0, 0, 0, 0, 0, 0, 0, 0, 0, 0, 0, 0, 0, 0, 0, 0,\n",
       "       0, 0, 0, 0, 0, 0, 0, 0, 0, 0, 0, 0, 0, 0, 0, 0, 0, 0, 0, 0, 0, 0,\n",
       "       0, 0, 0, 0, 0, 0, 1, 1, 1, 1, 1, 1, 1, 1, 1, 1, 1, 1, 1, 1, 1, 1,\n",
       "       1, 1, 1, 1, 1, 1, 1, 1, 1, 1, 1, 1, 1, 1, 1, 1, 1, 1, 1, 1, 1, 1,\n",
       "       1, 1, 1, 1, 1, 1, 1, 1, 1, 1, 1, 1])"
      ]
     },
     "execution_count": 232,
     "metadata": {},
     "output_type": "execute_result"
    }
   ],
   "source": [
    "iris.target[iris.target < 2]"
   ]
  },
  {
   "cell_type": "code",
   "execution_count": 237,
   "metadata": {},
   "outputs": [],
   "source": [
    "bound = decision_bound(X, theta)"
   ]
  },
  {
   "cell_type": "code",
   "execution_count": 241,
   "metadata": {},
   "outputs": [
    {
     "data": {
      "text/plain": [
       "array([-38. ,  40.4, -60.9])"
      ]
     },
     "execution_count": 241,
     "metadata": {},
     "output_type": "execute_result"
    }
   ],
   "source": [
    "theta"
   ]
  },
  {
   "cell_type": "code",
   "execution_count": 245,
   "metadata": {},
   "outputs": [
    {
     "data": {
      "text/plain": [
       "array([3.31691297, 3.37106665, 3.42522033, 3.47937402, 3.5335277 ,\n",
       "       3.58768138, 3.64183506, 3.69598874, 3.75014242, 3.8042961 ,\n",
       "       3.85844978, 3.91260347, 3.96675715, 4.02091083, 4.07506451,\n",
       "       4.12921819, 4.18337187, 4.23752555, 4.29167923, 4.34583291,\n",
       "       4.3999866 , 4.45414028, 4.50829396, 4.56244764, 4.61660132,\n",
       "       4.670755  , 4.72490868, 4.77906236, 4.83321605, 4.88736973,\n",
       "       4.94152341, 4.99567709, 5.04983077, 5.10398445, 5.15813813,\n",
       "       5.21229181, 5.26644549, 5.32059918, 5.37475286, 5.42890654,\n",
       "       5.48306022, 5.5372139 , 5.59136758, 5.64552126, 5.69967494,\n",
       "       5.75382863, 5.80798231, 5.86213599, 5.91628967, 5.97044335])"
      ]
     },
     "execution_count": 245,
     "metadata": {},
     "output_type": "execute_result"
    }
   ],
   "source": [
    "#w = theta[0]\n",
    "a = -theta[1] / theta[2]\n",
    "xx = np.linspace(4, 8)\n",
    "yy= a * xx - theta[1] / theta[2]\n",
    "yy"
   ]
  },
  {
   "cell_type": "code",
   "execution_count": 246,
   "metadata": {},
   "outputs": [
    {
     "data": {
      "text/plain": [
       "array([4.        , 4.08163265, 4.16326531, 4.24489796, 4.32653061,\n",
       "       4.40816327, 4.48979592, 4.57142857, 4.65306122, 4.73469388,\n",
       "       4.81632653, 4.89795918, 4.97959184, 5.06122449, 5.14285714,\n",
       "       5.2244898 , 5.30612245, 5.3877551 , 5.46938776, 5.55102041,\n",
       "       5.63265306, 5.71428571, 5.79591837, 5.87755102, 5.95918367,\n",
       "       6.04081633, 6.12244898, 6.20408163, 6.28571429, 6.36734694,\n",
       "       6.44897959, 6.53061224, 6.6122449 , 6.69387755, 6.7755102 ,\n",
       "       6.85714286, 6.93877551, 7.02040816, 7.10204082, 7.18367347,\n",
       "       7.26530612, 7.34693878, 7.42857143, 7.51020408, 7.59183673,\n",
       "       7.67346939, 7.75510204, 7.83673469, 7.91836735, 8.        ])"
      ]
     },
     "execution_count": 246,
     "metadata": {},
     "output_type": "execute_result"
    }
   ],
   "source": [
    "xx"
   ]
  },
  {
   "cell_type": "code",
   "execution_count": 247,
   "metadata": {},
   "outputs": [
    {
     "data": {
      "text/plain": [
       "Text(0, 0.5, 'Sepal width (cm)')"
      ]
     },
     "execution_count": 247,
     "metadata": {},
     "output_type": "execute_result"
    },
    {
     "data": {
      "image/png": "[encoded data removed]",
      "text/plain": [
       "<Figure size 432x288 with 1 Axes>"
      ]
     },
     "metadata": {
      "needs_background": "light"
     },
     "output_type": "display_data"
    }
   ],
   "source": [
    "plt.scatter(iris.data[:100, 0], iris.data[:100, 1],\\\n",
    "            c=iris.target[iris.target < 2])\n",
    "plt.plot(xx, yy)\n",
    "plt.xlabel(\"Sepal length (cm)\")\n",
    "plt.ylabel(\"Sepal width (cm)\")"
   ]
  },
  {
   "cell_type": "code",
   "execution_count": null,
   "metadata": {},
   "outputs": [],
   "source": []
  }
 ],
 "metadata": {
  "kernelspec": {
   "display_name": "Python 3",
   "language": "python",
   "name": "python3"
  },
  "language_info": {
   "codemirror_mode": {
    "name": "ipython",
    "version": 3
   },
   "file_extension": ".py",
   "mimetype": "text/x-python",
   "name": "python",
   "nbconvert_exporter": "python",
   "pygments_lexer": "ipython3",
   "version": "3.7.4"
  }
 },
 "nbformat": 4,
 "nbformat_minor": 2
}

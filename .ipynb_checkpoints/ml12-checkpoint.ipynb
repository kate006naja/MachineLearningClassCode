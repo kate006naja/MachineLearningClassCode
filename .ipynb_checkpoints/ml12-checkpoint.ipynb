{
 "cells": [
  {
   "cell_type": "markdown",
   "metadata": {},
   "source": [
    "# Performance Evaluation\n",
    "<hr>"
   ]
  },
  {
   "cell_type": "markdown",
   "metadata": {},
   "source": [
    "## Demo\n"
   ]
  },
  {
   "cell_type": "code",
   "execution_count": 1,
   "metadata": {},
   "outputs": [],
   "source": [
    "import numpy as np\n",
    "import matplotlib.pyplot as plt"
   ]
  },
  {
   "cell_type": "code",
   "execution_count": 2,
   "metadata": {},
   "outputs": [],
   "source": [
    "np.random.seed(100)"
   ]
  },
  {
   "cell_type": "code",
   "execution_count": 3,
   "metadata": {},
   "outputs": [],
   "source": [
    "y_pred = np.random.rand(10)"
   ]
  },
  {
   "cell_type": "code",
   "execution_count": 4,
   "metadata": {},
   "outputs": [
    {
     "data": {
      "text/plain": [
       "array([0.54340494, 0.27836939, 0.42451759, 0.84477613, 0.00471886,\n",
       "       0.12156912, 0.67074908, 0.82585276, 0.13670659, 0.57509333])"
      ]
     },
     "execution_count": 4,
     "metadata": {},
     "output_type": "execute_result"
    }
   ],
   "source": [
    "y_pred"
   ]
  },
  {
   "cell_type": "code",
   "execution_count": 5,
   "metadata": {},
   "outputs": [],
   "source": [
    "y_true = np.random.choice(2, 10)"
   ]
  },
  {
   "cell_type": "code",
   "execution_count": 7,
   "metadata": {},
   "outputs": [
    {
     "data": {
      "text/plain": [
       "(array([0.54340494, 0.27836939, 0.42451759, 0.84477613, 0.00471886,\n",
       "        0.12156912, 0.67074908, 0.82585276, 0.13670659, 0.57509333]),\n",
       " array([0, 1, 0, 0, 0, 1, 1, 1, 0, 0]))"
      ]
     },
     "execution_count": 7,
     "metadata": {},
     "output_type": "execute_result"
    }
   ],
   "source": [
    "y_pred, y_true"
   ]
  },
  {
   "cell_type": "code",
   "execution_count": 8,
   "metadata": {},
   "outputs": [],
   "source": [
    "round_pred = np.round(y_pred).astype(int)"
   ]
  },
  {
   "cell_type": "code",
   "execution_count": 11,
   "metadata": {},
   "outputs": [
    {
     "name": "stdout",
     "output_type": "stream",
     "text": [
      "Prediction : [1 0 0 1 0 0 1 1 0 1]\n",
      "Actual     : [0 1 0 0 0 1 1 1 0 0] \n"
     ]
    }
   ],
   "source": [
    "print(f'Prediction : {round_pred}\\nActual     : {y_true} ')"
   ]
  },
  {
   "cell_type": "code",
   "execution_count": 12,
   "metadata": {},
   "outputs": [],
   "source": [
    "def perf_measure(y_true, y_pred):\n",
    "    TP, FP, TN, FN = [0, 0, 0, 0]\n",
    "    \n",
    "    for i in range(len(y_pred)):\n",
    "        if y_pred[i] == y_true[i] == 1:\n",
    "            TP += 1\n",
    "        elif y_pred[i] == 1 and y_true[i] == 0:\n",
    "            FP += 1\n",
    "        elif y_pred[i] == y_true[i] == 0:\n",
    "            TN += 1\n",
    "        elif y_pred[i] == 0 and y_true[i] == 1:\n",
    "            FN += 1\n",
    "    return TP, FP, TN, FN"
   ]
  },
  {
   "cell_type": "code",
   "execution_count": 15,
   "metadata": {},
   "outputs": [],
   "source": [
    "TP, FP, TN, FN = perf_measure(y_true, round_pred)"
   ]
  },
  {
   "cell_type": "code",
   "execution_count": 16,
   "metadata": {},
   "outputs": [
    {
     "data": {
      "text/plain": [
       "(2, 3, 3, 2)"
      ]
     },
     "execution_count": 16,
     "metadata": {},
     "output_type": "execute_result"
    }
   ],
   "source": [
    "TP, FP, TN, FN"
   ]
  },
  {
   "cell_type": "code",
   "execution_count": 18,
   "metadata": {},
   "outputs": [],
   "source": [
    "from sklearn.datasets import make_classification\n",
    "from sklearn.linear_model import LogisticRegression\n",
    "from sklearn.model_selection import train_test_split"
   ]
  },
  {
   "cell_type": "code",
   "execution_count": 19,
   "metadata": {},
   "outputs": [
    {
     "data": {
      "text/plain": [
       "LogisticRegression(C=1.0, class_weight=None, dual=False, fit_intercept=True,\n",
       "                   intercept_scaling=1, l1_ratio=None, max_iter=100,\n",
       "                   multi_class='auto', n_jobs=None, penalty='l2',\n",
       "                   random_state=None, solver='lbfgs', tol=0.0001, verbose=0,\n",
       "                   warm_start=False)"
      ]
     },
     "execution_count": 19,
     "metadata": {},
     "output_type": "execute_result"
    }
   ],
   "source": [
    "X ,y = make_classification(n_samples = 1000,\n",
    "                           n_classes = 2, \n",
    "                           random_state = 1)\n",
    "\n",
    "X_train, X_test, y_train, y_test = train_test_split(X, \n",
    "                                                    y, \n",
    "                                                    test_size = 0.5, \n",
    "                                                    random_state = 2)\n",
    "\n",
    "model = LogisticRegression(solver = 'lbfgs')\n",
    "model.fit(X_train, y_train)"
   ]
  },
  {
   "cell_type": "code",
   "execution_count": 20,
   "metadata": {},
   "outputs": [],
   "source": [
    "y_pred = model.predict_proba(X_test)"
   ]
  },
  {
   "cell_type": "code",
   "execution_count": 22,
   "metadata": {},
   "outputs": [],
   "source": [
    "y_pred = y_pred[:, 1]"
   ]
  },
  {
   "cell_type": "code",
   "execution_count": 24,
   "metadata": {
    "scrolled": false
   },
   "outputs": [
    {
     "data": {
      "text/plain": [
       "array([0.        , 0.01010101, 0.02020202, 0.03030303, 0.04040404,\n",
       "       0.05050505, 0.06060606, 0.07070707, 0.08080808, 0.09090909,\n",
       "       0.1010101 , 0.11111111, 0.12121212, 0.13131313, 0.14141414,\n",
       "       0.15151515, 0.16161616, 0.17171717, 0.18181818, 0.19191919,\n",
       "       0.2020202 , 0.21212121, 0.22222222, 0.23232323, 0.24242424,\n",
       "       0.25252525, 0.26262626, 0.27272727, 0.28282828, 0.29292929,\n",
       "       0.3030303 , 0.31313131, 0.32323232, 0.33333333, 0.34343434,\n",
       "       0.35353535, 0.36363636, 0.37373737, 0.38383838, 0.39393939,\n",
       "       0.4040404 , 0.41414141, 0.42424242, 0.43434343, 0.44444444,\n",
       "       0.45454545, 0.46464646, 0.47474747, 0.48484848, 0.49494949,\n",
       "       0.50505051, 0.51515152, 0.52525253, 0.53535354, 0.54545455,\n",
       "       0.55555556, 0.56565657, 0.57575758, 0.58585859, 0.5959596 ,\n",
       "       0.60606061, 0.61616162, 0.62626263, 0.63636364, 0.64646465,\n",
       "       0.65656566, 0.66666667, 0.67676768, 0.68686869, 0.6969697 ,\n",
       "       0.70707071, 0.71717172, 0.72727273, 0.73737374, 0.74747475,\n",
       "       0.75757576, 0.76767677, 0.77777778, 0.78787879, 0.7979798 ,\n",
       "       0.80808081, 0.81818182, 0.82828283, 0.83838384, 0.84848485,\n",
       "       0.85858586, 0.86868687, 0.87878788, 0.88888889, 0.8989899 ,\n",
       "       0.90909091, 0.91919192, 0.92929293, 0.93939394, 0.94949495,\n",
       "       0.95959596, 0.96969697, 0.97979798, 0.98989899, 1.        ])"
      ]
     },
     "execution_count": 24,
     "metadata": {},
     "output_type": "execute_result"
    }
   ],
   "source": [
    "threshold = np.linspace(0, 1, 100)\n",
    "threshold"
   ]
  },
  {
   "cell_type": "code",
   "execution_count": 25,
   "metadata": {},
   "outputs": [],
   "source": [
    "TPR_list = []\n",
    "FPR_list = []\n",
    "\n",
    "for th in threshold:\n",
    "    round_pred = np.zeros(len(y_pred))\n",
    "    round_pred[y_pred >= th] = 1\n",
    "    round_pred[y_pred < th] = 0\n",
    "    \n",
    "    TP, FP, TN, FN = perf_measure(y_test, round_pred)\n",
    "    \n",
    "    TPR = TP / (TP + FN)\n",
    "    FPR = FP / (FP + TN)\n",
    "    \n",
    "    TPR_list.append(TPR)\n",
    "    FPR_list.append(FPR)"
   ]
  },
  {
   "cell_type": "code",
   "execution_count": 26,
   "metadata": {},
   "outputs": [
    {
     "data": {
      "text/plain": [
       "([1.0,\n",
       "  0.9961538461538462,\n",
       "  0.9923076923076923,\n",
       "  0.9884615384615385,\n",
       "  0.9884615384615385,\n",
       "  0.9846153846153847,\n",
       "  0.9807692307692307,\n",
       "  0.9807692307692307,\n",
       "  0.9769230769230769,\n",
       "  0.9692307692307692,\n",
       "  0.9653846153846154,\n",
       "  0.9653846153846154,\n",
       "  0.9615384615384616,\n",
       "  0.9615384615384616,\n",
       "  0.9615384615384616,\n",
       "  0.9615384615384616,\n",
       "  0.9615384615384616,\n",
       "  0.9615384615384616,\n",
       "  0.9615384615384616,\n",
       "  0.9576923076923077,\n",
       "  0.9576923076923077,\n",
       "  0.9538461538461539,\n",
       "  0.95,\n",
       "  0.9423076923076923,\n",
       "  0.9384615384615385,\n",
       "  0.9384615384615385,\n",
       "  0.9384615384615385,\n",
       "  0.9384615384615385,\n",
       "  0.9192307692307692,\n",
       "  0.9153846153846154,\n",
       "  0.9076923076923077,\n",
       "  0.9038461538461539,\n",
       "  0.9038461538461539,\n",
       "  0.9,\n",
       "  0.8923076923076924,\n",
       "  0.8923076923076924,\n",
       "  0.8923076923076924,\n",
       "  0.8923076923076924,\n",
       "  0.8769230769230769,\n",
       "  0.8769230769230769,\n",
       "  0.8769230769230769,\n",
       "  0.8769230769230769,\n",
       "  0.8769230769230769,\n",
       "  0.8730769230769231,\n",
       "  0.8692307692307693,\n",
       "  0.8615384615384616,\n",
       "  0.8576923076923076,\n",
       "  0.8576923076923076,\n",
       "  0.8576923076923076,\n",
       "  0.85,\n",
       "  0.8384615384615385,\n",
       "  0.8346153846153846,\n",
       "  0.8346153846153846,\n",
       "  0.8307692307692308,\n",
       "  0.8307692307692308,\n",
       "  0.8269230769230769,\n",
       "  0.823076923076923,\n",
       "  0.8115384615384615,\n",
       "  0.8038461538461539,\n",
       "  0.7923076923076923,\n",
       "  0.7846153846153846,\n",
       "  0.7730769230769231,\n",
       "  0.7653846153846153,\n",
       "  0.7538461538461538,\n",
       "  0.7461538461538462,\n",
       "  0.7307692307692307,\n",
       "  0.7307692307692307,\n",
       "  0.7230769230769231,\n",
       "  0.7038461538461539,\n",
       "  0.6846153846153846,\n",
       "  0.6692307692307692,\n",
       "  0.6615384615384615,\n",
       "  0.6576923076923077,\n",
       "  0.6538461538461539,\n",
       "  0.6423076923076924,\n",
       "  0.6269230769230769,\n",
       "  0.6153846153846154,\n",
       "  0.6153846153846154,\n",
       "  0.6076923076923076,\n",
       "  0.5923076923076923,\n",
       "  0.5769230769230769,\n",
       "  0.5576923076923077,\n",
       "  0.5384615384615384,\n",
       "  0.5153846153846153,\n",
       "  0.5076923076923077,\n",
       "  0.4807692307692308,\n",
       "  0.4653846153846154,\n",
       "  0.45384615384615384,\n",
       "  0.4269230769230769,\n",
       "  0.40384615384615385,\n",
       "  0.39615384615384613,\n",
       "  0.36923076923076925,\n",
       "  0.34615384615384615,\n",
       "  0.3153846153846154,\n",
       "  0.28846153846153844,\n",
       "  0.25,\n",
       "  0.2230769230769231,\n",
       "  0.18461538461538463,\n",
       "  0.12692307692307692,\n",
       "  0.0],\n",
       " [1.0,\n",
       "  0.8125,\n",
       "  0.7125,\n",
       "  0.6458333333333334,\n",
       "  0.6,\n",
       "  0.5625,\n",
       "  0.5416666666666666,\n",
       "  0.5208333333333334,\n",
       "  0.5041666666666667,\n",
       "  0.4625,\n",
       "  0.45,\n",
       "  0.4375,\n",
       "  0.4375,\n",
       "  0.43333333333333335,\n",
       "  0.42083333333333334,\n",
       "  0.4041666666666667,\n",
       "  0.3875,\n",
       "  0.36666666666666664,\n",
       "  0.3541666666666667,\n",
       "  0.3541666666666667,\n",
       "  0.35,\n",
       "  0.3458333333333333,\n",
       "  0.3458333333333333,\n",
       "  0.3375,\n",
       "  0.3375,\n",
       "  0.3333333333333333,\n",
       "  0.32916666666666666,\n",
       "  0.325,\n",
       "  0.3125,\n",
       "  0.30833333333333335,\n",
       "  0.3,\n",
       "  0.29583333333333334,\n",
       "  0.275,\n",
       "  0.25833333333333336,\n",
       "  0.25416666666666665,\n",
       "  0.25416666666666665,\n",
       "  0.24583333333333332,\n",
       "  0.2375,\n",
       "  0.2375,\n",
       "  0.2375,\n",
       "  0.22916666666666666,\n",
       "  0.22083333333333333,\n",
       "  0.22083333333333333,\n",
       "  0.21666666666666667,\n",
       "  0.20833333333333334,\n",
       "  0.20416666666666666,\n",
       "  0.18333333333333332,\n",
       "  0.17916666666666667,\n",
       "  0.17916666666666667,\n",
       "  0.17916666666666667,\n",
       "  0.175,\n",
       "  0.175,\n",
       "  0.175,\n",
       "  0.1625,\n",
       "  0.1625,\n",
       "  0.15833333333333333,\n",
       "  0.15416666666666667,\n",
       "  0.14583333333333334,\n",
       "  0.14583333333333334,\n",
       "  0.14166666666666666,\n",
       "  0.1375,\n",
       "  0.13333333333333333,\n",
       "  0.13333333333333333,\n",
       "  0.12916666666666668,\n",
       "  0.125,\n",
       "  0.125,\n",
       "  0.11666666666666667,\n",
       "  0.1125,\n",
       "  0.10416666666666667,\n",
       "  0.09166666666666666,\n",
       "  0.09166666666666666,\n",
       "  0.0875,\n",
       "  0.0875,\n",
       "  0.08333333333333333,\n",
       "  0.07916666666666666,\n",
       "  0.07916666666666666,\n",
       "  0.07083333333333333,\n",
       "  0.06666666666666667,\n",
       "  0.06666666666666667,\n",
       "  0.06666666666666667,\n",
       "  0.0625,\n",
       "  0.0625,\n",
       "  0.05416666666666667,\n",
       "  0.05416666666666667,\n",
       "  0.05416666666666667,\n",
       "  0.05416666666666667,\n",
       "  0.05416666666666667,\n",
       "  0.04583333333333333,\n",
       "  0.0375,\n",
       "  0.03333333333333333,\n",
       "  0.029166666666666667,\n",
       "  0.029166666666666667,\n",
       "  0.025,\n",
       "  0.025,\n",
       "  0.016666666666666666,\n",
       "  0.016666666666666666,\n",
       "  0.0125,\n",
       "  0.008333333333333333,\n",
       "  0.004166666666666667,\n",
       "  0.0])"
      ]
     },
     "execution_count": 26,
     "metadata": {},
     "output_type": "execute_result"
    }
   ],
   "source": [
    "TPR_list, FPR_list"
   ]
  },
  {
   "cell_type": "code",
   "execution_count": 27,
   "metadata": {},
   "outputs": [
    {
     "data": {
      "image/png": "[encoded data removed]",
      "text/plain": [
       "<Figure size 432x288 with 1 Axes>"
      ]
     },
     "metadata": {
      "needs_background": "light"
     },
     "output_type": "display_data"
    }
   ],
   "source": [
    "plt.plot(FPR_list, TPR_list, marker = '.')\n",
    "plt.plot([0, 1], [0, 1], linestyle = '--', label = 'random')\n",
    "plt.xlabel('False Positive Rate')\n",
    "plt.ylabel('True Positive Rate')\n",
    "plt.title('Reveiving Operating Characteristic')\n",
    "plt.legend()\n",
    "plt.show()"
   ]
  },
  {
   "cell_type": "code",
   "execution_count": 28,
   "metadata": {},
   "outputs": [],
   "source": [
    "from sklearn.linear_model import LinearRegression"
   ]
  },
  {
   "cell_type": "code",
   "execution_count": 30,
   "metadata": {
    "collapsed": true
   },
   "outputs": [
    {
     "data": {
      "text/plain": [
       "(array([0.77132064, 0.02075195, 0.63364823, 0.74880388, 0.49850701,\n",
       "        0.22479665, 0.19806286, 0.76053071, 0.16911084, 0.08833981,\n",
       "        0.68535982, 0.95339335, 0.00394827, 0.51219226, 0.81262096,\n",
       "        0.61252607, 0.72175532, 0.29187607, 0.91777412, 0.71457578,\n",
       "        0.54254437, 0.14217005, 0.37334076, 0.67413362, 0.44183317,\n",
       "        0.43401399, 0.61776698, 0.51313824, 0.65039718, 0.60103895,\n",
       "        0.8052232 , 0.52164715, 0.90864888, 0.31923609, 0.09045935,\n",
       "        0.30070006, 0.11398436, 0.82868133, 0.04689632, 0.62628715,\n",
       "        0.54758616, 0.819287  , 0.19894754, 0.8568503 , 0.35165264,\n",
       "        0.75464769, 0.29596171, 0.88393648, 0.32551164, 0.1650159 ]),\n",
       " array([4.93517053, 3.13496427, 5.08840213, 4.64875978, 4.38112847,\n",
       "        4.393854  , 4.3837512 , 4.97736597, 4.16434452, 3.42805376,\n",
       "        4.96809128, 5.80961845, 3.54245448, 4.61458589, 4.66452369,\n",
       "        4.58223389, 4.52312373, 3.88921205, 5.16626756, 5.20298186,\n",
       "        4.12504794, 3.71383227, 4.06160839, 4.98475837, 4.2300135 ,\n",
       "        3.91112534, 5.11544913, 4.78951707, 5.17889101, 4.61958705,\n",
       "        5.21602396, 4.55676093, 5.41513441, 3.90068784, 3.48179001,\n",
       "        3.6267999 , 3.53103128, 4.89943853, 3.65137083, 4.81808132,\n",
       "        4.57030456, 4.93137197, 3.46214614, 5.69251975, 4.04301312,\n",
       "        5.00434401, 4.56900414, 5.20864678, 3.96929608, 3.84982878]))"
      ]
     },
     "execution_count": 30,
     "metadata": {},
     "output_type": "execute_result"
    }
   ],
   "source": [
    "np.random.seed(10)\n",
    "\n",
    "X = np.random.rand(50)\n",
    "y = 3 + 2 * X + np.random.rand(50)\n",
    "X, y"
   ]
  },
  {
   "cell_type": "code",
   "execution_count": 31,
   "metadata": {},
   "outputs": [
    {
     "data": {
      "image/png": "[encoded data removed]",
      "text/plain": [
       "<Figure size 432x288 with 1 Axes>"
      ]
     },
     "metadata": {
      "needs_background": "light"
     },
     "output_type": "display_data"
    }
   ],
   "source": [
    "plt.scatter(X, y)\n",
    "plt.xlabel('X')\n",
    "plt.ylabel('y')\n",
    "plt.show()"
   ]
  },
  {
   "cell_type": "code",
   "execution_count": 32,
   "metadata": {},
   "outputs": [],
   "source": [
    "X = X.reshape(-1 ,1)\n",
    "y = y.reshape(-1, 1)"
   ]
  },
  {
   "cell_type": "code",
   "execution_count": 33,
   "metadata": {},
   "outputs": [],
   "source": [
    "reg = LinearRegression().fit(X, y)"
   ]
  },
  {
   "cell_type": "code",
   "execution_count": 37,
   "metadata": {},
   "outputs": [],
   "source": [
    "def r_coef(y_true, y_pred):\n",
    "    dividend = np.sum((y_true - y_pred) ** 2)\n",
    "    diviser = np.sum((y_true - np.mean(y_pred)) ** 2)\n",
    "    r_sq = 1 - (dividend / diviser)\n",
    "    \n",
    "    return r_sq"
   ]
  },
  {
   "cell_type": "code",
   "execution_count": 38,
   "metadata": {},
   "outputs": [
    {
     "data": {
      "text/plain": [
       "0.8176272794893478"
      ]
     },
     "execution_count": 38,
     "metadata": {},
     "output_type": "execute_result"
    }
   ],
   "source": [
    "y_pred = reg.predict(X)\n",
    "r_coef(y, y_pred)"
   ]
  },
  {
   "cell_type": "markdown",
   "metadata": {},
   "source": [
    "<hr>"
   ]
  },
  {
   "cell_type": "markdown",
   "metadata": {},
   "source": [
    "## Lab Part"
   ]
  },
  {
   "cell_type": "code",
   "execution_count": 39,
   "metadata": {},
   "outputs": [],
   "source": [
    "# Generate Classification dataset\n",
    "X, y = make_classification(n_samples = 1000,\n",
    "                           n_classes = 2)"
   ]
  },
  {
   "cell_type": "code",
   "execution_count": 41,
   "metadata": {},
   "outputs": [],
   "source": [
    "X_train, X_test, y_train, y_test = train_test_split(X,\n",
    "                                                    y, \n",
    "                                                    test_size = 0.3, \n",
    "                                                    shuffle = False)"
   ]
  },
  {
   "cell_type": "code",
   "execution_count": 43,
   "metadata": {
    "scrolled": true
   },
   "outputs": [
    {
     "data": {
      "text/plain": [
       "LogisticRegression(C=1.0, class_weight=None, dual=False, fit_intercept=True,\n",
       "                   intercept_scaling=1, l1_ratio=None, max_iter=100,\n",
       "                   multi_class='auto', n_jobs=None, penalty='l2',\n",
       "                   random_state=None, solver='lbfgs', tol=0.0001, verbose=0,\n",
       "                   warm_start=False)"
      ]
     },
     "execution_count": 43,
     "metadata": {},
     "output_type": "execute_result"
    }
   ],
   "source": [
    "model = LogisticRegression(solver = 'lbfgs')\n",
    "model.fit(X_train, y_train)"
   ]
  },
  {
   "cell_type": "code",
   "execution_count": 46,
   "metadata": {},
   "outputs": [
    {
     "data": {
      "text/plain": [
       "(300,)"
      ]
     },
     "execution_count": 46,
     "metadata": {},
     "output_type": "execute_result"
    }
   ],
   "source": [
    "y_test.shape"
   ]
  },
  {
   "cell_type": "code",
   "execution_count": 53,
   "metadata": {},
   "outputs": [
    {
     "data": {
      "text/plain": [
       "array([0.91887901, 0.98801369, 0.06436241, 0.75842063, 0.76083386])"
      ]
     },
     "execution_count": 53,
     "metadata": {},
     "output_type": "execute_result"
    }
   ],
   "source": [
    "y_pred = model.predict_proba(X_test)\n",
    "y_pred[:5, 1]"
   ]
  },
  {
   "cell_type": "code",
   "execution_count": 76,
   "metadata": {},
   "outputs": [
    {
     "data": {
      "text/plain": [
       "[0.25, 0.5, 0.75]"
      ]
     },
     "execution_count": 76,
     "metadata": {},
     "output_type": "execute_result"
    }
   ],
   "source": [
    "threshold"
   ]
  },
  {
   "cell_type": "code",
   "execution_count": 80,
   "metadata": {},
   "outputs": [
    {
     "data": {
      "text/plain": [
       "array([1., 1., 0., 1., 1., 1., 0., 1., 1., 0., 0., 1., 1., 0., 0., 1., 0.,\n",
       "       1., 1., 1., 1., 0., 1., 1., 1., 0., 1., 1., 0., 1., 1., 0., 0., 1.,\n",
       "       1., 0., 0., 1., 0., 1., 1., 1., 1., 0., 0., 1., 1., 0., 1., 1., 1.,\n",
       "       0., 1., 1., 1., 0., 1., 0., 0., 1., 0., 0., 1., 1., 0., 0., 0., 0.,\n",
       "       0., 0., 1., 0., 1., 0., 0., 0., 1., 1., 1., 0., 0., 0., 1., 1., 1.,\n",
       "       0., 1., 0., 1., 0., 0., 1., 0., 1., 0., 0., 1., 1., 0., 1., 1., 1.,\n",
       "       1., 0., 1., 0., 1., 0., 1., 0., 1., 0., 1., 1., 1., 1., 0., 1., 0.,\n",
       "       1., 1., 0., 1., 0., 1., 1., 1., 0., 1., 0., 1., 0., 0., 0., 1., 1.,\n",
       "       0., 0., 1., 0., 1., 1., 1., 1., 1., 1., 0., 0., 0., 0., 1., 1., 1.,\n",
       "       0., 0., 1., 0., 0., 1., 1., 1., 0., 0., 1., 0., 0., 1., 1., 1., 1.,\n",
       "       1., 0., 0., 0., 1., 1., 1., 1., 1., 0., 1., 1., 0., 0., 1., 0., 1.,\n",
       "       0., 0., 1., 0., 0., 1., 0., 1., 0., 0., 0., 1., 0., 1., 1., 1., 1.,\n",
       "       0., 1., 0., 1., 1., 0., 0., 1., 1., 1., 0., 1., 1., 0., 1., 0., 0.,\n",
       "       1., 0., 0., 1., 0., 0., 0., 1., 1., 1., 1., 1., 0., 1., 0., 0., 1.,\n",
       "       0., 0., 0., 0., 0., 0., 1., 0., 1., 0., 1., 1., 0., 0., 1., 1., 1.,\n",
       "       1., 0., 0., 1., 0., 0., 1., 1., 0., 0., 1., 1., 0., 0., 1., 0., 1.,\n",
       "       1., 1., 1., 1., 0., 0., 0., 0., 1., 1., 1., 0., 0., 1., 0., 0., 0.,\n",
       "       1., 0., 0., 0., 0., 0., 0., 1., 1., 1., 1.])"
      ]
     },
     "execution_count": 80,
     "metadata": {},
     "output_type": "execute_result"
    }
   ],
   "source": [
    "round_pred = np.zeros(len(y_pred))\n",
    "round_pred[y_pred >= threshold[0]] = 1\n",
    "round_pred[y_pred < threshold[0]] = 0\n",
    "round_pred"
   ]
  },
  {
   "cell_type": "code",
   "execution_count": 81,
   "metadata": {},
   "outputs": [],
   "source": [
    "def confusion_matrix(y_true, y_pred, threshold):\n",
    "    \n",
    "    TP, FP, TN, FN = [0, 0, 0, 0]\n",
    "    \n",
    "    round_pred = np.zeros(len(y_pred))\n",
    "    round_pred[y_pred >= threshold] = 1\n",
    "    round_pred[y_pred < threshold] = 0\n",
    "    \n",
    "    for i in range(len(y_pred)):\n",
    "        if round_pred[i] == y_true[i] == 1:\n",
    "            TP += 1\n",
    "        elif round_pred[i] == y_true[i] == 0:\n",
    "            TN += 1\n",
    "        elif round_pred[i] == 0 and y_true[i] == 1:\n",
    "            FN += 1 \n",
    "        elif round_pred[i] == 1 and y_true[i] == 0:\n",
    "            FP += 1\n",
    "    \n",
    "    return TP, FP, TN, FN"
   ]
  },
  {
   "cell_type": "code",
   "execution_count": 56,
   "metadata": {},
   "outputs": [],
   "source": [
    "def accuracy_error(y_true, y_pred, threshold):\n",
    "    TP, FP, TN, FN = confusion_matrix(y_true, y_pred, threshold)\n",
    "    \n",
    "    Accuracy = (TP + TN)/(TP+FP+TN+FN)\n",
    "    Error = (FP+FN)/(TP+FP+TN+FN)\n",
    "    return Accuracy, Error"
   ]
  },
  {
   "cell_type": "code",
   "execution_count": 85,
   "metadata": {},
   "outputs": [],
   "source": [
    "def classification_performance(y_true, y_pred, threshold, beta=1):\n",
    "    TP, FP, TN, FN = confusion_matrix(y_true, \n",
    "                                    y_pred, \n",
    "                                    threshold)\n",
    "    precision = TP / (TP + FP)\n",
    "    recall = TP / (TP + FN)\n",
    "    f_1score = 2 * ((precision * recall)/(precision + recall))\n",
    "    \n",
    "    return precision, recall, f_1score"
   ]
  },
  {
   "cell_type": "code",
   "execution_count": 86,
   "metadata": {},
   "outputs": [],
   "source": [
    "def f_beta(y_true, y_pred, threshold, beta=1):\n",
    "    \n",
    "    precision, recall, f_1score = classification_performance(y_true, y_pred, threshold, beta)\n",
    "    \n",
    "    try:\n",
    "        F_beta = (precision * recall) / ((beta**2*precision)+recall)\n",
    "        F_beta_score = (1 + beta**2) * F_beta\n",
    "    except ValueError:\n",
    "        if beta < 0:\n",
    "            print(\"beta must >= 0\")\n",
    "    \n",
    "    return F_beta_score"
   ]
  },
  {
   "cell_type": "code",
   "execution_count": 62,
   "metadata": {},
   "outputs": [],
   "source": [
    "def matt_corr(y_true, y_pred, threshold):\n",
    "    TP, FP, TN, FN = confusion_matrix(y_true, \n",
    "                                    y_pred, \n",
    "                                    threshold)\n",
    "    dividend = (TP*TN) - (FP*FN)\n",
    "    divisor = ((TP+FP)*(TP+FN)*(TN+FP)*(TN+FN))\n",
    "    MCC = dividend / divisor\n",
    "    \n",
    "    return MCC"
   ]
  },
  {
   "cell_type": "code",
   "execution_count": 63,
   "metadata": {},
   "outputs": [],
   "source": [
    "def tf_rate(y_true, y_pred, threshold):\n",
    "    TP, FP, TN, FN = confusion_matrix(y_true, \n",
    "                                    y_pred, \n",
    "                                    threshold)\n",
    "    TP_rate = TP / (TP + FN)\n",
    "    TN_rate = TN / (TN + FP)\n",
    "    FP_rate = FP / (FP + TN)\n",
    "    FN_rate = FN / (FN + TP)\n",
    "    \n",
    "    return TP_rate, TN_rate, FP_rate, FN_rate "
   ]
  },
  {
   "cell_type": "markdown",
   "metadata": {},
   "source": [
    "#### use all performance evaluation"
   ]
  },
  {
   "cell_type": "code",
   "execution_count": null,
   "metadata": {},
   "outputs": [],
   "source": []
  },
  {
   "cell_type": "code",
   "execution_count": 84,
   "metadata": {},
   "outputs": [
    {
     "name": "stdout",
     "output_type": "stream",
     "text": [
      "Threshold :0.25\n",
      "True Positive :133 False Positive :27\n",
      "False Negative :7 True Negative :133\n",
      "\n",
      "\n",
      "Threshold :0.5\n",
      "True Positive :132 False Positive :15\n",
      "False Negative :8 True Negative :145\n",
      "\n",
      "\n",
      "Threshold :0.75\n",
      "True Positive :126 False Positive :8\n",
      "False Negative :14 True Negative :152\n",
      "\n",
      "\n"
     ]
    }
   ],
   "source": [
    "# confusion_matrix, accuracy_error, f_beta, classification_perf,\n",
    "# tf_rate\n",
    "threshold = [0.25, 0.50, 0.75]\n",
    "y_true = y_test\n",
    "#y_pred = y_pred[:, 1]\n",
    "\n",
    "for thres in threshold:\n",
    "    TP, FP, TN, FN = confusion_matrix(y_true, y_pred, thres)\n",
    "    print(f'Threshold :{thres}')\n",
    "    print(f'True Positive :{TP} False Positive :{FP}')\n",
    "    print(f'False Negative :{FN} True Negative :{TN}')\n",
    "    print('\\n')\n"
   ]
  },
  {
   "cell_type": "code",
   "execution_count": null,
   "metadata": {},
   "outputs": [],
   "source": [
    "# classification performance\n"
   ]
  }
 ],
 "metadata": {
  "kernelspec": {
   "display_name": "Python 3",
   "language": "python",
   "name": "python3"
  },
  "language_info": {
   "codemirror_mode": {
    "name": "ipython",
    "version": 3
   },
   "file_extension": ".py",
   "mimetype": "text/x-python",
   "name": "python",
   "nbconvert_exporter": "python",
   "pygments_lexer": "ipython3",
   "version": "3.7.6"
  }
 },
 "nbformat": 4,
 "nbformat_minor": 4
}

{
 "cells": [
  {
   "cell_type": "markdown",
   "metadata": {},
   "source": [
    "# PCA Demo"
   ]
  },
  {
   "cell_type": "markdown",
   "metadata": {},
   "source": [
    "<hr>"
   ]
  },
  {
   "cell_type": "code",
   "execution_count": 8,
   "metadata": {},
   "outputs": [],
   "source": [
    "import numpy as np\n",
    "from numpy import cov\n",
    "from numpy.linalg import eig"
   ]
  },
  {
   "cell_type": "code",
   "execution_count": 2,
   "metadata": {},
   "outputs": [
    {
     "data": {
      "text/plain": [
       "array([[0.58375545, 0.60337471, 0.77026526, 0.97079104, 0.8367956 ],\n",
       "       [0.16524767, 0.54450956, 0.94332788, 0.66389105, 0.34948485],\n",
       "       [0.93877256, 0.7104511 , 0.22878175, 0.46186758, 0.80642696],\n",
       "       [0.46419755, 0.89263646, 0.0874798 , 0.09096722, 0.37905779],\n",
       "       [0.85271112, 0.49695092, 0.15976797, 0.49856018, 0.97756187],\n",
       "       [0.03805642, 0.1689007 , 0.04032388, 0.37543987, 0.6247289 ],\n",
       "       [0.1890991 , 0.5041089 , 0.5265118 , 0.28466541, 0.75673814],\n",
       "       [0.57971384, 0.70266794, 0.73888534, 0.48146764, 0.477751  ],\n",
       "       [0.85467822, 0.13870562, 0.92847234, 0.59559252, 0.14732949],\n",
       "       [0.74877564, 0.41991429, 0.75014387, 0.11516542, 0.65936314]])"
      ]
     },
     "execution_count": 2,
     "metadata": {},
     "output_type": "execute_result"
    }
   ],
   "source": [
    "A = np.random.rand(10, 5)\n",
    "A"
   ]
  },
  {
   "cell_type": "code",
   "execution_count": 3,
   "metadata": {},
   "outputs": [
    {
     "data": {
      "text/plain": [
       "array([0.30399848, 0.2225926 , 0.33782814, 0.2480776 , 0.24522338])"
      ]
     },
     "execution_count": 3,
     "metadata": {},
     "output_type": "execute_result"
    }
   ],
   "source": [
    "np.std(A, axis=0)"
   ]
  },
  {
   "cell_type": "code",
   "execution_count": 4,
   "metadata": {},
   "outputs": [],
   "source": [
    "# 1. Normalize data\n",
    "M = np.mean(A, axis=0)"
   ]
  },
  {
   "cell_type": "code",
   "execution_count": 5,
   "metadata": {},
   "outputs": [
    {
     "data": {
      "text/plain": [
       "array([[-0.1389964 , -0.38254952, -0.74851453, -2.08382473, -0.95941841],\n",
       "       [ 1.23768081, -0.11809708, -1.26079459, -0.8467119 ,  1.02779323],\n",
       "       [-1.30682165, -0.86359153,  0.85432268, -0.03235596, -0.83557769],\n",
       "       [ 0.25428814, -1.68206153,  1.27258845,  1.46274219,  0.9071973 ],\n",
       "       [-1.02372341,  0.09556069,  1.05860931, -0.18026371, -1.53345128],\n",
       "       [ 1.65607517,  1.56933038,  1.41217398,  0.31603387, -0.09462854],\n",
       "       [ 1.15922177,  0.06340336, -0.02698357,  0.6819454 , -0.63295092],\n",
       "       [-0.12570157, -0.82862558, -0.6556273 , -0.11136374,  0.50473482],\n",
       "       [-1.03019416,  1.70498213, -1.21682093, -0.57140074,  1.8521655 ],\n",
       "       [-0.68182869,  0.44164869, -0.68895351,  1.36519933, -0.23586401]])"
      ]
     },
     "execution_count": 5,
     "metadata": {},
     "output_type": "execute_result"
    }
   ],
   "source": [
    "X = (M - A)/np.std(A, axis=0)\n",
    "X"
   ]
  },
  {
   "cell_type": "code",
   "execution_count": 6,
   "metadata": {},
   "outputs": [],
   "source": [
    "X = M-A"
   ]
  },
  {
   "cell_type": "code",
   "execution_count": 7,
   "metadata": {},
   "outputs": [
    {
     "data": {
      "text/plain": [
       "array([[-0.0422547 , -0.08515269, -0.25286927, -0.51695024, -0.23527182],\n",
       "       [ 0.37625309, -0.02628754, -0.42593189, -0.21005026,  0.25203893],\n",
       "       [-0.3972718 , -0.19222908,  0.28861424, -0.00802679, -0.20490318],\n",
       "       [ 0.07730321, -0.37441444,  0.42991619,  0.36287357,  0.22246599],\n",
       "       [-0.31121037,  0.0212711 ,  0.35762801, -0.04471939, -0.3760381 ],\n",
       "       [ 0.50344434,  0.34932132,  0.47707211,  0.07840092, -0.02320513],\n",
       "       [ 0.35240166,  0.01411312, -0.00911581,  0.16917538, -0.15521436],\n",
       "       [-0.03821309, -0.18444592, -0.22148935, -0.02762685,  0.12377278],\n",
       "       [-0.31317746,  0.3795164 , -0.41107635, -0.14175173,  0.45419428],\n",
       "       [-0.20727489,  0.09830773, -0.23274788,  0.33867538, -0.05783937]])"
      ]
     },
     "execution_count": 7,
     "metadata": {},
     "output_type": "execute_result"
    }
   ],
   "source": [
    "X"
   ]
  },
  {
   "cell_type": "code",
   "execution_count": 8,
   "metadata": {},
   "outputs": [],
   "source": [
    "# 2. Find covariance\n",
    "def sigma(X):\n",
    "    m = X.shape[0]\n",
    "    cov = (1/(m-1)) * (np.matmul(X.T, X))\n",
    "    return cov"
   ]
  },
  {
   "cell_type": "code",
   "execution_count": 9,
   "metadata": {},
   "outputs": [],
   "source": [
    "sigma = sigma(X)"
   ]
  },
  {
   "cell_type": "code",
   "execution_count": 10,
   "metadata": {},
   "outputs": [
    {
     "data": {
      "text/plain": [
       "array([[ 0.10268342,  0.00924046,  0.008902  ,  0.00692302,  0.01322595],\n",
       "       [ 0.00924046,  0.05505274, -0.0164029 , -0.00792936,  0.01056287],\n",
       "       [ 0.008902  , -0.0164029 ,  0.12680872,  0.04214535, -0.03957255],\n",
       "       [ 0.00692302, -0.00792936,  0.04214535,  0.06838055,  0.00582246],\n",
       "       [ 0.01322595,  0.01056287, -0.03957255,  0.00582246,  0.06681612]])"
      ]
     },
     "execution_count": 10,
     "metadata": {},
     "output_type": "execute_result"
    }
   ],
   "source": [
    "sigma"
   ]
  },
  {
   "cell_type": "code",
   "execution_count": 11,
   "metadata": {},
   "outputs": [],
   "source": [
    "# Find eigenvalues and eigenvectors\n",
    "\n",
    "eig_values, eig_vectors = np.linalg.eig(sigma)"
   ]
  },
  {
   "cell_type": "code",
   "execution_count": 12,
   "metadata": {},
   "outputs": [],
   "source": [
    "acs_index = np.argsort(eig_values)"
   ]
  },
  {
   "cell_type": "code",
   "execution_count": 13,
   "metadata": {},
   "outputs": [
    {
     "data": {
      "text/plain": [
       "array([0.02687461, 0.04927063, 0.06800704, 0.11077492, 0.16481435])"
      ]
     },
     "execution_count": 13,
     "metadata": {},
     "output_type": "execute_result"
    }
   ],
   "source": [
    "eig_values[acs_index]"
   ]
  },
  {
   "cell_type": "code",
   "execution_count": 14,
   "metadata": {},
   "outputs": [
    {
     "data": {
      "text/plain": [
       "array([0, 1, 2, 4, 3], dtype=int64)"
      ]
     },
     "execution_count": 14,
     "metadata": {},
     "output_type": "execute_result"
    }
   ],
   "source": [
    "dsc_index = acs_index[::-1]\n",
    "dsc_index"
   ]
  },
  {
   "cell_type": "code",
   "execution_count": 15,
   "metadata": {},
   "outputs": [
    {
     "data": {
      "text/plain": [
       "array([0.16481435, 0.11077492, 0.06800704, 0.04927063, 0.02687461])"
      ]
     },
     "execution_count": 15,
     "metadata": {},
     "output_type": "execute_result"
    }
   ],
   "source": [
    "eig_values[dsc_index]"
   ]
  },
  {
   "cell_type": "code",
   "execution_count": 16,
   "metadata": {},
   "outputs": [
    {
     "data": {
      "text/plain": [
       "array([[ 0.06547121,  0.91071581,  0.33871318,  0.20172465,  0.10435886],\n",
       "       [-0.17959443,  0.18220659,  0.09137318, -0.95906899,  0.07990124],\n",
       "       [ 0.84704515,  0.01786857,  0.05386661, -0.1911382 , -0.49270662],\n",
       "       [ 0.36969855,  0.17706164, -0.69659441, -0.05310044,  0.58643732],\n",
       "       [-0.33060076,  0.32515743, -0.6235214 ,  0.01184741, -0.62933018]])"
      ]
     },
     "execution_count": 16,
     "metadata": {},
     "output_type": "execute_result"
    }
   ],
   "source": [
    "eig_vectors[:, dsc_index]"
   ]
  },
  {
   "cell_type": "code",
   "execution_count": 17,
   "metadata": {},
   "outputs": [],
   "source": [
    "dsc_eigVec = eig_vectors[:, dsc_index]"
   ]
  },
  {
   "cell_type": "code",
   "execution_count": 18,
   "metadata": {},
   "outputs": [],
   "source": [
    "new_x = np.matmul(X, dsc_eigVec)"
   ]
  },
  {
   "cell_type": "code",
   "execution_count": 19,
   "metadata": {},
   "outputs": [
    {
     "data": {
      "text/plain": [
       "(5, 5)"
      ]
     },
     "execution_count": 19,
     "metadata": {},
     "output_type": "execute_result"
    }
   ],
   "source": [
    "dsc_eigVec.shape"
   ]
  },
  {
   "cell_type": "code",
   "execution_count": 20,
   "metadata": {},
   "outputs": [],
   "source": [
    "new_2d_x = np.matmul(X, dsc_eigVec[:, :2])"
   ]
  },
  {
   "cell_type": "code",
   "execution_count": 21,
   "metadata": {},
   "outputs": [
    {
     "data": {
      "text/plain": [
       "(10, 5)"
      ]
     },
     "execution_count": 21,
     "metadata": {},
     "output_type": "execute_result"
    }
   ],
   "source": [
    "new_x.shape"
   ]
  },
  {
   "cell_type": "code",
   "execution_count": 22,
   "metadata": {},
   "outputs": [
    {
     "data": {
      "text/plain": [
       "(10, 2)"
      ]
     },
     "execution_count": 22,
     "metadata": {},
     "output_type": "execute_result"
    }
   ],
   "source": [
    "new_2d_x.shape"
   ]
  },
  {
   "cell_type": "code",
   "execution_count": 23,
   "metadata": {},
   "outputs": [],
   "source": [
    "import matplotlib.pyplot as plt"
   ]
  },
  {
   "cell_type": "code",
   "execution_count": 24,
   "metadata": {},
   "outputs": [
    {
     "data": {
      "text/plain": [
       "<matplotlib.collections.PathCollection at 0x25af7bf2388>"
      ]
     },
     "execution_count": 24,
     "metadata": {},
     "output_type": "execute_result"
    },
    {
     "data": {
      "image/png": "[encoded data removed]",
      "text/plain": [
       "<Figure size 432x288 with 1 Axes>"
      ]
     },
     "metadata": {
      "needs_background": "light"
     },
     "output_type": "display_data"
    }
   ],
   "source": [
    "plt.scatter(new_2d_x[:, 0], new_2d_x[:, 1])"
   ]
  },
  {
   "cell_type": "code",
   "execution_count": 25,
   "metadata": {},
   "outputs": [],
   "source": [
    "u, d, v = np.linalg.svd(sigma)"
   ]
  },
  {
   "cell_type": "code",
   "execution_count": 26,
   "metadata": {},
   "outputs": [
    {
     "data": {
      "text/plain": [
       "array([[-0.06547121,  0.91071581, -0.33871318, -0.20172465, -0.10435886],\n",
       "       [ 0.17959443,  0.18220659, -0.09137318,  0.95906899, -0.07990124],\n",
       "       [-0.84704515,  0.01786857, -0.05386661,  0.1911382 ,  0.49270662],\n",
       "       [-0.36969855,  0.17706164,  0.69659441,  0.05310044, -0.58643732],\n",
       "       [ 0.33060076,  0.32515743,  0.6235214 , -0.01184741,  0.62933018]])"
      ]
     },
     "execution_count": 26,
     "metadata": {},
     "output_type": "execute_result"
    }
   ],
   "source": [
    "# u = eigenvector\n",
    "u"
   ]
  },
  {
   "cell_type": "code",
   "execution_count": 27,
   "metadata": {},
   "outputs": [
    {
     "data": {
      "text/plain": [
       "array([0.16481435, 0.11077492, 0.06800704, 0.04927063, 0.02687461])"
      ]
     },
     "execution_count": 27,
     "metadata": {},
     "output_type": "execute_result"
    }
   ],
   "source": [
    "# d = eigenvalues\n",
    "d"
   ]
  },
  {
   "cell_type": "code",
   "execution_count": 28,
   "metadata": {},
   "outputs": [
    {
     "data": {
      "text/plain": [
       "array([[ 0.31499992, -0.22654825],\n",
       "       [ 0.49240824,  0.37501957],\n",
       "       [-0.31775635, -0.45971702],\n",
       "       [-0.49706871,  0.14644992],\n",
       "       [-0.38651737, -0.40334784],\n",
       "       [-0.4109829 ,  0.53700444],\n",
       "       [-0.1266739 ,  0.30283175],\n",
       "       [ 0.20812086, -0.03701224],\n",
       "       [ 0.63942575, -0.10082477],\n",
       "       [ 0.08404449, -0.13385556]])"
      ]
     },
     "execution_count": 28,
     "metadata": {},
     "output_type": "execute_result"
    }
   ],
   "source": [
    "svd_x = np.matmul(X, u[:, :2])\n",
    "svd_x"
   ]
  },
  {
   "cell_type": "code",
   "execution_count": 29,
   "metadata": {},
   "outputs": [
    {
     "data": {
      "text/plain": [
       "<matplotlib.collections.PathCollection at 0x25af7ca9108>"
      ]
     },
     "execution_count": 29,
     "metadata": {},
     "output_type": "execute_result"
    },
    {
     "data": {
      "image/png": "[encoded data removed]",
      "text/plain": [
       "<Figure size 432x288 with 1 Axes>"
      ]
     },
     "metadata": {
      "needs_background": "light"
     },
     "output_type": "display_data"
    }
   ],
   "source": [
    "plt.scatter(svd_x[:, 0], svd_x[:, 1])"
   ]
  },
  {
   "cell_type": "code",
   "execution_count": 30,
   "metadata": {},
   "outputs": [
    {
     "data": {
      "text/plain": [
       "array([ 39.26567521,  65.65689598,  81.85901798,  93.59734248,\n",
       "       100.        ])"
      ]
     },
     "execution_count": 30,
     "metadata": {},
     "output_type": "execute_result"
    }
   ],
   "source": [
    "# Cumulative variance\n",
    "cum_var = (np.cumsum(eig_values[dsc_index]) / eig_values[dsc_index].sum())*100\n",
    "cum_var"
   ]
  },
  {
   "cell_type": "code",
   "execution_count": 31,
   "metadata": {},
   "outputs": [
    {
     "data": {
      "text/plain": [
       "array([39.26567521, 26.39122076, 16.20212201, 11.7383245 ,  6.40265752])"
      ]
     },
     "execution_count": 31,
     "metadata": {},
     "output_type": "execute_result"
    }
   ],
   "source": [
    "variance = eig_values[dsc_index]/eig_values[dsc_index].sum()*100\n",
    "variance"
   ]
  },
  {
   "cell_type": "code",
   "execution_count": 32,
   "metadata": {},
   "outputs": [
    {
     "data": {
      "image/png": "[encoded data removed]",
      "text/plain": [
       "<Figure size 432x288 with 1 Axes>"
      ]
     },
     "metadata": {
      "needs_background": "light"
     },
     "output_type": "display_data"
    }
   ],
   "source": [
    "plt.plot(np.arange(1, X.shape[1] + 1), cum_var, c= 'red', marker = 'o')\n",
    "plt.bar(np.arange(1, X.shape[1] + 1), variance)\n",
    "plt.xticks(np.arange(1, X.shape[1] + 1))\n",
    "plt.show()"
   ]
  },
  {
   "cell_type": "markdown",
   "metadata": {},
   "source": [
    "# PCA Lab part\n",
    "<hr>"
   ]
  },
  {
   "cell_type": "code",
   "execution_count": 33,
   "metadata": {
    "scrolled": true
   },
   "outputs": [
    {
     "data": {
      "text/plain": [
       "(1000, 3)"
      ]
     },
     "execution_count": 33,
     "metadata": {},
     "output_type": "execute_result"
    }
   ],
   "source": [
    "from sklearn import datasets\n",
    "X, color = datasets.make_swiss_roll(n_samples=1000, noise=0.05, random_state=None)\n",
    "X.shape"
   ]
  },
  {
   "cell_type": "code",
   "execution_count": 34,
   "metadata": {},
   "outputs": [
    {
     "data": {
      "text/plain": [
       "array([[  7.23781415,  15.44633321,  -9.18525982],\n",
       "       [ -1.78126002,   3.75878207, -10.7196553 ],\n",
       "       [  0.82052158,   4.08823259,   7.77416505],\n",
       "       ...,\n",
       "       [ -8.57104855,   5.02322531,   3.04066388],\n",
       "       [  0.63945078,   3.18808867, -11.06679828],\n",
       "       [  6.93365987,  14.02844673,  -9.38779546]])"
      ]
     },
     "execution_count": 34,
     "metadata": {},
     "output_type": "execute_result"
    }
   ],
   "source": [
    "X"
   ]
  },
  {
   "cell_type": "code",
   "execution_count": 35,
   "metadata": {},
   "outputs": [
    {
     "data": {
      "text/plain": [
       "(1000,)"
      ]
     },
     "execution_count": 35,
     "metadata": {},
     "output_type": "execute_result"
    }
   ],
   "source": [
    "color.shape"
   ]
  },
  {
   "cell_type": "code",
   "execution_count": 36,
   "metadata": {},
   "outputs": [
    {
     "data": {
      "text/plain": [
       "array([1.95085521e+00, 1.05491897e+01, 7.33929338e-03])"
      ]
     },
     "execution_count": 36,
     "metadata": {},
     "output_type": "execute_result"
    }
   ],
   "source": [
    "np.mean(X, axis=0)"
   ]
  },
  {
   "cell_type": "code",
   "execution_count": 6,
   "metadata": {},
   "outputs": [],
   "source": [
    "def normalise_data(X):\n",
    "    mu = np.mean(X, axis=0)\n",
    "    std = np.std(X, axis=0)\n",
    "    norm = (X-mu)/std\n",
    "    return norm"
   ]
  },
  {
   "cell_type": "code",
   "execution_count": 38,
   "metadata": {},
   "outputs": [],
   "source": [
    "X_norm = normalise_data(X)"
   ]
  },
  {
   "cell_type": "code",
   "execution_count": 39,
   "metadata": {},
   "outputs": [],
   "source": [
    "def CovarMatrix(norm):\n",
    "    m = X.shape[0]\n",
    "    cov = (1/(m-1)) * (np.matmul(X.T, X))\n",
    "    return sigma"
   ]
  },
  {
   "cell_type": "code",
   "execution_count": 40,
   "metadata": {
    "scrolled": false
   },
   "outputs": [
    {
     "data": {
      "text/plain": [
       "array([[ 0.10268342,  0.00924046,  0.008902  ,  0.00692302,  0.01322595],\n",
       "       [ 0.00924046,  0.05505274, -0.0164029 , -0.00792936,  0.01056287],\n",
       "       [ 0.008902  , -0.0164029 ,  0.12680872,  0.04214535, -0.03957255],\n",
       "       [ 0.00692302, -0.00792936,  0.04214535,  0.06838055,  0.00582246],\n",
       "       [ 0.01322595,  0.01056287, -0.03957255,  0.00582246,  0.06681612]])"
      ]
     },
     "execution_count": 40,
     "metadata": {},
     "output_type": "execute_result"
    }
   ],
   "source": [
    "sigma = CovarMatrix(X_norm)\n",
    "sigma"
   ]
  },
  {
   "cell_type": "code",
   "execution_count": 41,
   "metadata": {},
   "outputs": [
    {
     "data": {
      "text/plain": [
       "array([0.16481435, 0.11077492, 0.06800704, 0.04927063, 0.02687461])"
      ]
     },
     "execution_count": 41,
     "metadata": {},
     "output_type": "execute_result"
    }
   ],
   "source": [
    "eig_values[dsc_index]"
   ]
  },
  {
   "cell_type": "code",
   "execution_count": 42,
   "metadata": {},
   "outputs": [
    {
     "data": {
      "text/plain": [
       "array([[ 0.06547121,  0.91071581,  0.33871318,  0.20172465,  0.10435886],\n",
       "       [-0.17959443,  0.18220659,  0.09137318, -0.95906899,  0.07990124],\n",
       "       [ 0.84704515,  0.01786857,  0.05386661, -0.1911382 , -0.49270662],\n",
       "       [ 0.36969855,  0.17706164, -0.69659441, -0.05310044,  0.58643732],\n",
       "       [-0.33060076,  0.32515743, -0.6235214 ,  0.01184741, -0.62933018]])"
      ]
     },
     "execution_count": 42,
     "metadata": {},
     "output_type": "execute_result"
    }
   ],
   "source": [
    "eig_vectors[:, dsc_index]"
   ]
  },
  {
   "cell_type": "code",
   "execution_count": 43,
   "metadata": {},
   "outputs": [],
   "source": [
    "def find_eig(sigma):\n",
    "    eig_value, eig_vector = np.linalg.eig(sigma)\n",
    "    ac_index = np.argsort(eig_value)\n",
    "    dc_index = ac_index[::-1]\n",
    "    eig_vector = eig_vector[:, dc_index]\n",
    "    eig_value = eig_value[dc_index]\n",
    "    return eig_vector, eig_value"
   ]
  },
  {
   "cell_type": "code",
   "execution_count": 44,
   "metadata": {},
   "outputs": [],
   "source": [
    "eig_vec, eig_val = find_eig(sigma)"
   ]
  },
  {
   "cell_type": "code",
   "execution_count": 45,
   "metadata": {},
   "outputs": [
    {
     "data": {
      "text/plain": [
       "array([[ 0.77963232,  0.83804544, -1.37471673],\n",
       "       [-0.55034996, -1.16203867, -1.60417949],\n",
       "       [-0.16668271, -1.10565999,  1.16149798],\n",
       "       ...,\n",
       "       [-1.55159447, -0.9456552 ,  0.45362166],\n",
       "       [-0.193384  , -1.25970111, -1.65609334],\n",
       "       [ 0.73478073,  0.59540331, -1.40500513]])"
      ]
     },
     "execution_count": 45,
     "metadata": {},
     "output_type": "execute_result"
    }
   ],
   "source": [
    "X_norm"
   ]
  },
  {
   "cell_type": "code",
   "execution_count": 46,
   "metadata": {
    "scrolled": true
   },
   "outputs": [
    {
     "data": {
      "text/plain": [
       "(5, 2)"
      ]
     },
     "execution_count": 46,
     "metadata": {},
     "output_type": "execute_result"
    }
   ],
   "source": [
    "eig_vec[:, :2].shape"
   ]
  },
  {
   "cell_type": "code",
   "execution_count": 47,
   "metadata": {},
   "outputs": [
    {
     "data": {
      "text/plain": [
       "(1000, 3)"
      ]
     },
     "execution_count": 47,
     "metadata": {},
     "output_type": "execute_result"
    }
   ],
   "source": [
    "X_norm.shape"
   ]
  },
  {
   "cell_type": "code",
   "execution_count": 48,
   "metadata": {},
   "outputs": [
    {
     "data": {
      "text/plain": [
       "(3, 2)"
      ]
     },
     "execution_count": 48,
     "metadata": {},
     "output_type": "execute_result"
    }
   ],
   "source": [
    "eig_vec[:3, :2].shape"
   ]
  },
  {
   "cell_type": "code",
   "execution_count": 49,
   "metadata": {},
   "outputs": [
    {
     "data": {
      "text/plain": [
       "array([[ 0.06547121,  0.91071581,  0.33871318,  0.20172465,  0.10435886],\n",
       "       [-0.17959443,  0.18220659,  0.09137318, -0.95906899,  0.07990124],\n",
       "       [ 0.84704515,  0.01786857,  0.05386661, -0.1911382 , -0.49270662],\n",
       "       [ 0.36969855,  0.17706164, -0.69659441, -0.05310044,  0.58643732],\n",
       "       [-0.33060076,  0.32515743, -0.6235214 ,  0.01184741, -0.62933018]])"
      ]
     },
     "execution_count": 49,
     "metadata": {},
     "output_type": "execute_result"
    }
   ],
   "source": [
    "eig_vec"
   ]
  },
  {
   "cell_type": "code",
   "execution_count": 50,
   "metadata": {},
   "outputs": [
    {
     "data": {
      "text/plain": [
       "<matplotlib.collections.PathCollection at 0x25af9069e08>"
      ]
     },
     "execution_count": 50,
     "metadata": {},
     "output_type": "execute_result"
    },
    {
     "data": {
      "image/png": "[encoded data removed]",
      "text/plain": [
       "<Figure size 432x288 with 1 Axes>"
      ]
     },
     "metadata": {
      "needs_background": "light"
     },
     "output_type": "display_data"
    }
   ],
   "source": [
    "X_2d = np.matmul(X_norm, eig_vec[:3, :2])\n",
    "plt.scatter(X_2d[:, 0], X_2d[:, 1])"
   ]
  },
  {
   "cell_type": "code",
   "execution_count": 51,
   "metadata": {},
   "outputs": [
    {
     "data": {
      "text/plain": [
       "array([ 39.26567521,  65.65689598,  81.85901798,  93.59734248,\n",
       "       100.        ])"
      ]
     },
     "execution_count": 51,
     "metadata": {},
     "output_type": "execute_result"
    }
   ],
   "source": [
    "# Cumulative variance\n",
    "cum_var = (np.cumsum(eig_val) / eig_val.sum())*100\n",
    "cum_var"
   ]
  },
  {
   "cell_type": "code",
   "execution_count": 52,
   "metadata": {},
   "outputs": [
    {
     "data": {
      "text/plain": [
       "array([39.26567521, 26.39122076, 16.20212201, 11.7383245 ,  6.40265752])"
      ]
     },
     "execution_count": 52,
     "metadata": {},
     "output_type": "execute_result"
    }
   ],
   "source": [
    "variance = eig_val/eig_val.sum()*100\n",
    "variance"
   ]
  },
  {
   "cell_type": "code",
   "execution_count": 53,
   "metadata": {
    "scrolled": true
   },
   "outputs": [
    {
     "data": {
      "text/plain": [
       "3"
      ]
     },
     "execution_count": 53,
     "metadata": {},
     "output_type": "execute_result"
    }
   ],
   "source": [
    "X_norm.shape[1]"
   ]
  },
  {
   "cell_type": "code",
   "execution_count": 54,
   "metadata": {},
   "outputs": [
    {
     "data": {
      "text/plain": [
       "3"
      ]
     },
     "execution_count": 54,
     "metadata": {},
     "output_type": "execute_result"
    }
   ],
   "source": [
    "X_norm.shape[1] "
   ]
  },
  {
   "cell_type": "code",
   "execution_count": 55,
   "metadata": {},
   "outputs": [
    {
     "data": {
      "text/plain": [
       "array([1, 2, 3])"
      ]
     },
     "execution_count": 55,
     "metadata": {},
     "output_type": "execute_result"
    }
   ],
   "source": [
    "np.arange(1, X_norm.shape[1] + 1)"
   ]
  },
  {
   "cell_type": "code",
   "execution_count": 56,
   "metadata": {},
   "outputs": [],
   "source": [
    "def eig_svd(sigma):\n",
    "    # u = eigenvector, d = eigenvalue\n",
    "    u, d, v = np.linalg.svd(sigma)\n",
    "    ac_index = np.argsort(d)\n",
    "    dc_index = ac_index[::-1]\n",
    "    eigen_vector = u[:, dc_index]\n",
    "    eigen_value = d[dc_index]\n",
    "    return eigen_vector, eigen_value"
   ]
  },
  {
   "cell_type": "code",
   "execution_count": 57,
   "metadata": {},
   "outputs": [],
   "source": [
    "eigen_vector, eigen_value = eig_svd(sigma)"
   ]
  },
  {
   "cell_type": "code",
   "execution_count": 58,
   "metadata": {},
   "outputs": [],
   "source": [
    "# Cumulative variance\n",
    "\n",
    "cum_var = (np.cumsum(eigen_value) / eigen_value.sum())*100\n",
    "cum_var\n",
    "variance = eigen_value/eigen_value.sum()*100"
   ]
  },
  {
   "cell_type": "code",
   "execution_count": 59,
   "metadata": {},
   "outputs": [
    {
     "data": {
      "text/plain": [
       "array([ 39.26567521,  65.65689598,  81.85901798,  93.59734248,\n",
       "       100.        ])"
      ]
     },
     "execution_count": 59,
     "metadata": {},
     "output_type": "execute_result"
    }
   ],
   "source": [
    "cum_var"
   ]
  },
  {
   "cell_type": "code",
   "execution_count": 60,
   "metadata": {
    "scrolled": true
   },
   "outputs": [
    {
     "data": {
      "image/png": "[encoded data removed]",
      "text/plain": [
       "<Figure size 432x288 with 1 Axes>"
      ]
     },
     "metadata": {
      "needs_background": "light"
     },
     "output_type": "display_data"
    }
   ],
   "source": [
    "plt.plot(np.arange(1, X_norm.shape[1] + 3), cum_var, c= 'red', marker = 'o')\n",
    "plt.bar(np.arange(1, X_norm.shape[1] + 3), variance)\n",
    "plt.xticks(np.arange(1, X_norm.shape[1] + 3))\n",
    "plt.show()"
   ]
  },
  {
   "cell_type": "code",
   "execution_count": 61,
   "metadata": {},
   "outputs": [
    {
     "data": {
      "text/plain": [
       "Text(0.5, 1.0, 'Plot by eig method')"
      ]
     },
     "execution_count": 61,
     "metadata": {},
     "output_type": "execute_result"
    },
    {
     "data": {
      "image/png": "[encoded data removed]",
      "text/plain": [
       "<Figure size 432x288 with 1 Axes>"
      ]
     },
     "metadata": {
      "needs_background": "light"
     },
     "output_type": "display_data"
    }
   ],
   "source": [
    "# eig method\n",
    "X_2d = np.matmul(X_norm, eig_vec[:3, :2])\n",
    "plt.scatter(X_2d[:, 0], X_2d[:, 1])\n",
    "plt.title('Plot by eig method')"
   ]
  },
  {
   "cell_type": "code",
   "execution_count": 62,
   "metadata": {},
   "outputs": [
    {
     "data": {
      "text/plain": [
       "Text(0.5, 1.0, 'Plot by svd method')"
      ]
     },
     "execution_count": 62,
     "metadata": {},
     "output_type": "execute_result"
    },
    {
     "data": {
      "image/png": "[encoded data removed]",
      "text/plain": [
       "<Figure size 432x288 with 1 Axes>"
      ]
     },
     "metadata": {
      "needs_background": "light"
     },
     "output_type": "display_data"
    }
   ],
   "source": [
    "# svd method\n",
    "X_2d = np.matmul(X_norm, eigen_vector[:3, :2])\n",
    "plt.scatter(X_2d[:, 0], X_2d[:, 1])\n",
    "plt.title('Plot by svd method')"
   ]
  },
  {
   "cell_type": "code",
   "execution_count": 63,
   "metadata": {},
   "outputs": [
    {
     "data": {
      "text/plain": [
       "(array([[-0.06547121,  0.91071581, -0.33871318, -0.20172465, -0.10435886],\n",
       "        [ 0.17959443,  0.18220659, -0.09137318,  0.95906899, -0.07990124],\n",
       "        [-0.84704515,  0.01786857, -0.05386661,  0.1911382 ,  0.49270662],\n",
       "        [-0.36969855,  0.17706164,  0.69659441,  0.05310044, -0.58643732],\n",
       "        [ 0.33060076,  0.32515743,  0.6235214 , -0.01184741,  0.62933018]]),\n",
       " array([0.16481435, 0.11077492, 0.06800704, 0.04927063, 0.02687461]))"
      ]
     },
     "execution_count": 63,
     "metadata": {},
     "output_type": "execute_result"
    }
   ],
   "source": [
    "eigen_vector, eigen_value"
   ]
  },
  {
   "cell_type": "code",
   "execution_count": 64,
   "metadata": {
    "scrolled": true
   },
   "outputs": [
    {
     "data": {
      "text/plain": [
       "(array([[ 0.06547121,  0.91071581,  0.33871318,  0.20172465,  0.10435886],\n",
       "        [-0.17959443,  0.18220659,  0.09137318, -0.95906899,  0.07990124],\n",
       "        [ 0.84704515,  0.01786857,  0.05386661, -0.1911382 , -0.49270662],\n",
       "        [ 0.36969855,  0.17706164, -0.69659441, -0.05310044,  0.58643732],\n",
       "        [-0.33060076,  0.32515743, -0.6235214 ,  0.01184741, -0.62933018]]),\n",
       " array([0.16481435, 0.11077492, 0.06800704, 0.04927063, 0.02687461]))"
      ]
     },
     "execution_count": 64,
     "metadata": {},
     "output_type": "execute_result"
    }
   ],
   "source": [
    "eig_vec, eig_val"
   ]
  },
  {
   "cell_type": "code",
   "execution_count": 65,
   "metadata": {
    "scrolled": true
   },
   "outputs": [
    {
     "data": {
      "text/plain": [
       "array([-0.08086604, -0.02682661,  0.01594127,  0.03467768,  0.0570737 ])"
      ]
     },
     "execution_count": 65,
     "metadata": {},
     "output_type": "execute_result"
    }
   ],
   "source": [
    "np.mean(eigen_value) - eig_val"
   ]
  },
  {
   "cell_type": "markdown",
   "metadata": {},
   "source": [
    "## Import Iris dataset\n",
    "<hr>"
   ]
  },
  {
   "cell_type": "code",
   "execution_count": 1,
   "metadata": {},
   "outputs": [],
   "source": [
    "from sklearn.datasets import load_iris\n",
    "from sklearn.model_selection import train_test_split"
   ]
  },
  {
   "cell_type": "code",
   "execution_count": 2,
   "metadata": {},
   "outputs": [
    {
     "data": {
      "text/plain": [
       "(array(['setosa', 'versicolor', 'virginica'], dtype='<U10'),\n",
       " ['sepal length (cm)',\n",
       "  'sepal width (cm)',\n",
       "  'petal length (cm)',\n",
       "  'petal width (cm)'])"
      ]
     },
     "execution_count": 2,
     "metadata": {},
     "output_type": "execute_result"
    }
   ],
   "source": [
    "iris = load_iris()\n",
    "iris.target_names, iris.feature_names"
   ]
  },
  {
   "cell_type": "code",
   "execution_count": 9,
   "metadata": {},
   "outputs": [],
   "source": [
    "X = iris.data\n",
    "y = iris.target"
   ]
  },
  {
   "cell_type": "code",
   "execution_count": 10,
   "metadata": {},
   "outputs": [],
   "source": [
    "X_norm = normalise_data(X)"
   ]
  },
  {
   "cell_type": "code",
   "execution_count": 11,
   "metadata": {},
   "outputs": [],
   "source": [
    "X_train, X_test, y_train, y_test = train_test_split(X_norm, y, test_size=0.3, shuffle=True)"
   ]
  },
  {
   "cell_type": "code",
   "execution_count": 12,
   "metadata": {},
   "outputs": [
    {
     "data": {
      "text/plain": [
       "PCA(copy=True, iterated_power='auto', n_components=2, random_state=None,\n",
       "    svd_solver='auto', tol=0.0, whiten=False)"
      ]
     },
     "execution_count": 12,
     "metadata": {},
     "output_type": "execute_result"
    }
   ],
   "source": [
    "from sklearn.decomposition import PCA\n",
    "pca = PCA(n_components=2).fit(X_train)\n",
    "pca"
   ]
  },
  {
   "cell_type": "code",
   "execution_count": 13,
   "metadata": {},
   "outputs": [
    {
     "data": {
      "text/plain": [
       "array([0.72268589, 0.23450772])"
      ]
     },
     "execution_count": 13,
     "metadata": {},
     "output_type": "execute_result"
    }
   ],
   "source": [
    "pca.explained_variance_ratio_"
   ]
  },
  {
   "cell_type": "code",
   "execution_count": 14,
   "metadata": {},
   "outputs": [
    {
     "data": {
      "text/plain": [
       "4"
      ]
     },
     "execution_count": 14,
     "metadata": {},
     "output_type": "execute_result"
    }
   ],
   "source": [
    "X_norm.shape[1]"
   ]
  },
  {
   "cell_type": "code",
   "execution_count": 15,
   "metadata": {},
   "outputs": [
    {
     "ename": "NameError",
     "evalue": "name 'cum_var' is not defined",
     "output_type": "error",
     "traceback": [
      "\u001b[1;31m---------------------------------------------------------------------------\u001b[0m",
      "\u001b[1;31mNameError\u001b[0m                                 Traceback (most recent call last)",
      "\u001b[1;32m<ipython-input-15-5e94ea9cc15f>\u001b[0m in \u001b[0;36m<module>\u001b[1;34m\u001b[0m\n\u001b[1;32m----> 1\u001b[1;33m \u001b[0mcum_var\u001b[0m\u001b[1;33m.\u001b[0m\u001b[0mshape\u001b[0m\u001b[1;33m\u001b[0m\u001b[1;33m\u001b[0m\u001b[0m\n\u001b[0m",
      "\u001b[1;31mNameError\u001b[0m: name 'cum_var' is not defined"
     ]
    }
   ],
   "source": [
    "cum_var.shape"
   ]
  },
  {
   "cell_type": "code",
   "execution_count": 16,
   "metadata": {},
   "outputs": [
    {
     "ename": "NameError",
     "evalue": "name 'plt' is not defined",
     "output_type": "error",
     "traceback": [
      "\u001b[1;31m---------------------------------------------------------------------------\u001b[0m",
      "\u001b[1;31mNameError\u001b[0m                                 Traceback (most recent call last)",
      "\u001b[1;32m<ipython-input-16-bf23c512a0c1>\u001b[0m in \u001b[0;36m<module>\u001b[1;34m\u001b[0m\n\u001b[1;32m----> 1\u001b[1;33m \u001b[0mplt\u001b[0m\u001b[1;33m.\u001b[0m\u001b[0mplot\u001b[0m\u001b[1;33m(\u001b[0m\u001b[0mnp\u001b[0m\u001b[1;33m.\u001b[0m\u001b[0marange\u001b[0m\u001b[1;33m(\u001b[0m\u001b[1;36m1\u001b[0m\u001b[1;33m,\u001b[0m \u001b[0mX_norm\u001b[0m\u001b[1;33m.\u001b[0m\u001b[0mshape\u001b[0m\u001b[1;33m[\u001b[0m\u001b[1;36m1\u001b[0m\u001b[1;33m]\u001b[0m \u001b[1;33m+\u001b[0m \u001b[1;36m2\u001b[0m\u001b[1;33m)\u001b[0m\u001b[1;33m,\u001b[0m \u001b[0mcum_var\u001b[0m\u001b[1;33m,\u001b[0m \u001b[0mc\u001b[0m\u001b[1;33m=\u001b[0m \u001b[1;34m'red'\u001b[0m\u001b[1;33m,\u001b[0m \u001b[0mmarker\u001b[0m \u001b[1;33m=\u001b[0m \u001b[1;34m'o'\u001b[0m\u001b[1;33m)\u001b[0m\u001b[1;33m\u001b[0m\u001b[1;33m\u001b[0m\u001b[0m\n\u001b[0m\u001b[0;32m      2\u001b[0m \u001b[0mplt\u001b[0m\u001b[1;33m.\u001b[0m\u001b[0mbar\u001b[0m\u001b[1;33m(\u001b[0m\u001b[0mnp\u001b[0m\u001b[1;33m.\u001b[0m\u001b[0marange\u001b[0m\u001b[1;33m(\u001b[0m\u001b[1;36m1\u001b[0m\u001b[1;33m,\u001b[0m \u001b[0mX_norm\u001b[0m\u001b[1;33m.\u001b[0m\u001b[0mshape\u001b[0m\u001b[1;33m[\u001b[0m\u001b[1;36m1\u001b[0m\u001b[1;33m]\u001b[0m \u001b[1;33m+\u001b[0m \u001b[1;36m2\u001b[0m\u001b[1;33m)\u001b[0m\u001b[1;33m,\u001b[0m \u001b[0mvariance\u001b[0m\u001b[1;33m)\u001b[0m\u001b[1;33m\u001b[0m\u001b[1;33m\u001b[0m\u001b[0m\n\u001b[0;32m      3\u001b[0m \u001b[0mplt\u001b[0m\u001b[1;33m.\u001b[0m\u001b[0mxticks\u001b[0m\u001b[1;33m(\u001b[0m\u001b[0mnp\u001b[0m\u001b[1;33m.\u001b[0m\u001b[0marange\u001b[0m\u001b[1;33m(\u001b[0m\u001b[1;36m1\u001b[0m\u001b[1;33m,\u001b[0m \u001b[0mX_norm\u001b[0m\u001b[1;33m.\u001b[0m\u001b[0mshape\u001b[0m\u001b[1;33m[\u001b[0m\u001b[1;36m1\u001b[0m\u001b[1;33m]\u001b[0m \u001b[1;33m+\u001b[0m \u001b[1;36m2\u001b[0m\u001b[1;33m)\u001b[0m\u001b[1;33m)\u001b[0m\u001b[1;33m\u001b[0m\u001b[1;33m\u001b[0m\u001b[0m\n\u001b[0;32m      4\u001b[0m \u001b[0mplt\u001b[0m\u001b[1;33m.\u001b[0m\u001b[0mshow\u001b[0m\u001b[1;33m(\u001b[0m\u001b[1;33m)\u001b[0m\u001b[1;33m\u001b[0m\u001b[1;33m\u001b[0m\u001b[0m\n",
      "\u001b[1;31mNameError\u001b[0m: name 'plt' is not defined"
     ]
    }
   ],
   "source": [
    "plt.plot(np.arange(1, X_norm.shape[1] + 2), cum_var, c= 'red', marker = 'o')\n",
    "plt.bar(np.arange(1, X_norm.shape[1] + 2), variance)\n",
    "plt.xticks(np.arange(1, X_norm.shape[1] + 2))\n",
    "plt.show()"
   ]
  },
  {
   "cell_type": "code",
   "execution_count": 17,
   "metadata": {},
   "outputs": [
    {
     "data": {
      "text/plain": [
       "(105, 4)"
      ]
     },
     "execution_count": 17,
     "metadata": {},
     "output_type": "execute_result"
    }
   ],
   "source": [
    "X_train.shape"
   ]
  },
  {
   "cell_type": "code",
   "execution_count": 18,
   "metadata": {},
   "outputs": [
    {
     "ename": "NameError",
     "evalue": "name 'CovarMatrix' is not defined",
     "output_type": "error",
     "traceback": [
      "\u001b[1;31m---------------------------------------------------------------------------\u001b[0m",
      "\u001b[1;31mNameError\u001b[0m                                 Traceback (most recent call last)",
      "\u001b[1;32m<ipython-input-18-2c654d45cb52>\u001b[0m in \u001b[0;36m<module>\u001b[1;34m\u001b[0m\n\u001b[0;32m      1\u001b[0m \u001b[1;31m# using writing method\u001b[0m\u001b[1;33m\u001b[0m\u001b[1;33m\u001b[0m\u001b[1;33m\u001b[0m\u001b[0m\n\u001b[1;32m----> 2\u001b[1;33m \u001b[0msigma_i\u001b[0m \u001b[1;33m=\u001b[0m \u001b[0mCovarMatrix\u001b[0m\u001b[1;33m(\u001b[0m\u001b[0mX_train\u001b[0m\u001b[1;33m)\u001b[0m\u001b[1;33m\u001b[0m\u001b[1;33m\u001b[0m\u001b[0m\n\u001b[0m\u001b[0;32m      3\u001b[0m \u001b[0msigma_i\u001b[0m\u001b[1;33m\u001b[0m\u001b[1;33m\u001b[0m\u001b[0m\n",
      "\u001b[1;31mNameError\u001b[0m: name 'CovarMatrix' is not defined"
     ]
    }
   ],
   "source": [
    "# using writing method\n",
    "sigma_i = CovarMatrix(X_train)\n",
    "sigma_i"
   ]
  },
  {
   "cell_type": "code",
   "execution_count": 125,
   "metadata": {},
   "outputs": [],
   "source": [
    "eig_vectors, eig_values = eig_svd(sigma_i)\n"
   ]
  },
  {
   "cell_type": "code",
   "execution_count": 126,
   "metadata": {
    "scrolled": true
   },
   "outputs": [
    {
     "data": {
      "text/plain": [
       "(array([ 39.26567521,  65.65689598,  81.85901798,  93.59734248,\n",
       "        100.        ]),\n",
       " array([39.26567521, 26.39122076, 16.20212201, 11.7383245 ,  6.40265752]))"
      ]
     },
     "execution_count": 126,
     "metadata": {},
     "output_type": "execute_result"
    }
   ],
   "source": [
    "# Cumulative variance\n",
    "cum_var = (np.cumsum(eig_values) / eig_values.sum())*100\n",
    "variance = eig_values/eig_values.sum()*100\n",
    "cum_var, variance"
   ]
  },
  {
   "cell_type": "code",
   "execution_count": 127,
   "metadata": {
    "scrolled": true
   },
   "outputs": [
    {
     "data": {
      "text/plain": [
       "4"
      ]
     },
     "execution_count": 127,
     "metadata": {},
     "output_type": "execute_result"
    }
   ],
   "source": [
    "X_train.shape[1]"
   ]
  },
  {
   "cell_type": "code",
   "execution_count": 128,
   "metadata": {},
   "outputs": [
    {
     "data": {
      "text/plain": [
       "array([ 39.26567521,  65.65689598,  81.85901798,  93.59734248,\n",
       "       100.        ])"
      ]
     },
     "execution_count": 128,
     "metadata": {},
     "output_type": "execute_result"
    }
   ],
   "source": [
    "cum_var"
   ]
  },
  {
   "cell_type": "code",
   "execution_count": 129,
   "metadata": {
    "scrolled": false
   },
   "outputs": [
    {
     "data": {
      "image/png": "[encoded data removed]",
      "text/plain": [
       "<Figure size 432x288 with 1 Axes>"
      ]
     },
     "metadata": {
      "needs_background": "light"
     },
     "output_type": "display_data"
    }
   ],
   "source": [
    "plt.plot(np.arange(1, X_train.shape[1] + 2), cum_var, c= 'red', marker = 'o')\n",
    "plt.bar(np.arange(1, X_train.shape[1] + 2), variance)\n",
    "plt.xticks(np.arange(1, X_train.shape[1] + 2))\n",
    "plt.show()"
   ]
  },
  {
   "cell_type": "code",
   "execution_count": 130,
   "metadata": {},
   "outputs": [
    {
     "data": {
      "text/plain": [
       "array([[-0.06547121,  0.91071581],\n",
       "       [ 0.17959443,  0.18220659],\n",
       "       [-0.84704515,  0.01786857]])"
      ]
     },
     "execution_count": 130,
     "metadata": {},
     "output_type": "execute_result"
    }
   ],
   "source": [
    "eig_vectors[:3, :2]"
   ]
  },
  {
   "cell_type": "code",
   "execution_count": 131,
   "metadata": {},
   "outputs": [
    {
     "data": {
      "text/plain": [
       "array([[-0.06547121,  0.91071581, -0.33871318, -0.20172465, -0.10435886],\n",
       "       [ 0.17959443,  0.18220659, -0.09137318,  0.95906899, -0.07990124],\n",
       "       [-0.84704515,  0.01786857, -0.05386661,  0.1911382 ,  0.49270662],\n",
       "       [-0.36969855,  0.17706164,  0.69659441,  0.05310044, -0.58643732],\n",
       "       [ 0.33060076,  0.32515743,  0.6235214 , -0.01184741,  0.62933018]])"
      ]
     },
     "execution_count": 131,
     "metadata": {},
     "output_type": "execute_result"
    }
   ],
   "source": [
    "eig_vectors"
   ]
  },
  {
   "cell_type": "code",
   "execution_count": 132,
   "metadata": {},
   "outputs": [
    {
     "data": {
      "text/plain": [
       "(3, 2)"
      ]
     },
     "execution_count": 132,
     "metadata": {},
     "output_type": "execute_result"
    }
   ],
   "source": [
    "eig_vectors[:3, :2].shape"
   ]
  },
  {
   "cell_type": "code",
   "execution_count": 133,
   "metadata": {},
   "outputs": [
    {
     "data": {
      "text/plain": [
       "(105, 4)"
      ]
     },
     "execution_count": 133,
     "metadata": {},
     "output_type": "execute_result"
    }
   ],
   "source": [
    "X_train.shape"
   ]
  },
  {
   "cell_type": "code",
   "execution_count": 134,
   "metadata": {},
   "outputs": [
    {
     "data": {
      "text/plain": [
       "['sepal length (cm)',\n",
       " 'sepal width (cm)',\n",
       " 'petal length (cm)',\n",
       " 'petal width (cm)']"
      ]
     },
     "execution_count": 134,
     "metadata": {},
     "output_type": "execute_result"
    }
   ],
   "source": [
    "feature_names = iris.feature_names\n",
    "feature_names"
   ]
  },
  {
   "cell_type": "code",
   "execution_count": 135,
   "metadata": {
    "scrolled": true
   },
   "outputs": [
    {
     "name": "stdout",
     "output_type": "stream",
     "text": [
      "0 and\n",
      "sepal length (cm)\n",
      "1 and\n",
      "sepal width (cm)\n",
      "2 and\n",
      "petal length (cm)\n",
      "3 and\n",
      "petal width (cm)\n"
     ]
    }
   ],
   "source": [
    "for i, feature in enumerate(feature_names):\n",
    "    print(i, 'and')\n",
    "    print(feature)"
   ]
  },
  {
   "cell_type": "code",
   "execution_count": 136,
   "metadata": {},
   "outputs": [
    {
     "data": {
      "image/png": "[encoded data removed]",
      "text/plain": [
       "<Figure size 432x288 with 1 Axes>"
      ]
     },
     "metadata": {
      "needs_background": "light"
     },
     "output_type": "display_data"
    },
    {
     "data": {
      "image/png": "[encoded data removed]",
      "text/plain": [
       "<Figure size 432x288 with 1 Axes>"
      ]
     },
     "metadata": {
      "needs_background": "light"
     },
     "output_type": "display_data"
    },
    {
     "data": {
      "image/png": "[encoded data removed]",
      "text/plain": [
       "<Figure size 432x288 with 1 Axes>"
      ]
     },
     "metadata": {
      "needs_background": "light"
     },
     "output_type": "display_data"
    },
    {
     "data": {
      "image/png": "[encoded data removed]",
      "text/plain": [
       "<Figure size 432x288 with 1 Axes>"
      ]
     },
     "metadata": {
      "needs_background": "light"
     },
     "output_type": "display_data"
    }
   ],
   "source": [
    "# plot combination of original training data\n",
    "X_train.shape\n",
    "for i, feature in enumerate(feature_names):\n",
    "    if i != 3:\n",
    "        plt.figure()\n",
    "        plt.scatter(X_train[:, i], X_train[:, i+1], c = y_train)\n",
    "        plt.xlabel(feature)\n",
    "        plt.ylabel(feature_names[i+1])\n",
    "    else:\n",
    "        plt.figure()\n",
    "        plt.scatter(X_train[:, i], X_train[:, 0], c = y_train)\n",
    "        plt.xlabel(feature)\n",
    "        plt.ylabel(feature_names[0])"
   ]
  },
  {
   "cell_type": "code",
   "execution_count": 137,
   "metadata": {},
   "outputs": [],
   "source": [
    "X_train_2d = np.matmul(X_train, eig_vectors[:-1, :])\n",
    "X_test_2d = np.matmul(X_test, eig_vectors[:-1, :])"
   ]
  },
  {
   "cell_type": "code",
   "execution_count": 138,
   "metadata": {
    "collapsed": true
   },
   "outputs": [
    {
     "data": {
      "text/plain": [
       "array([[ 1.18556721e+00,  1.15917263e+00],\n",
       "       [ 1.31719939e+00,  6.74501145e-01],\n",
       "       [-2.62386821e-01, -4.16009689e-01],\n",
       "       [-1.31544430e+00, -1.74885626e+00],\n",
       "       [ 1.32509732e-01,  6.74501145e-01],\n",
       "       [-1.31544430e+00, -5.37177559e-01],\n",
       "       [ 3.95774101e-01,  1.03800476e+00],\n",
       "       [ 3.95774101e-01,  4.32165405e-01],\n",
       "       [ 8.77547895e-04, -5.25060772e-02],\n",
       "       [-2.62386821e-01,  1.89829664e-01],\n",
       "       [-1.31544430e+00, -9.00681170e-01],\n",
       "       [ 1.32509732e-01, -1.73673948e-01],\n",
       "       [-1.31544430e+00, -1.74885626e+00],\n",
       "       [ 1.05393502e+00,  7.95669016e-01],\n",
       "       [ 1.44883158e+00,  1.15917263e+00],\n",
       "       [-1.18381211e+00, -1.62768839e+00],\n",
       "       [ 1.44883158e+00,  1.28034050e+00],\n",
       "       [ 2.64141916e-01,  3.10997534e-01],\n",
       "       [-1.31544430e+00, -1.14301691e+00],\n",
       "       [ 1.71209594e+00,  1.64384411e+00],\n",
       "       [ 1.31719939e+00,  2.24968346e+00],\n",
       "       [ 9.22302838e-01,  5.53333275e-01],\n",
       "       [-1.44707648e+00, -1.14301691e+00],\n",
       "       [-2.62386821e-01, -1.14301691e+00],\n",
       "       [-1.30754636e-01, -2.94841818e-01],\n",
       "       [ 1.58046376e+00,  5.53333275e-01],\n",
       "       [-9.20547742e-01, -9.00681170e-01],\n",
       "       [-1.05217993e+00, -5.37177559e-01],\n",
       "       [ 5.27406285e-01,  1.64384411e+00],\n",
       "       [ 9.22302838e-01,  6.74501145e-01],\n",
       "       [ 5.27406285e-01,  5.53333275e-01],\n",
       "       [ 1.44883158e+00,  1.03800476e+00],\n",
       "       [ 7.90670654e-01,  1.76501198e+00],\n",
       "       [ 8.77547895e-04,  3.10997534e-01],\n",
       "       [ 1.18556721e+00,  2.12851559e+00],\n",
       "       [-1.31544430e+00, -1.38535265e+00],\n",
       "       [-1.44707648e+00, -1.87002413e+00],\n",
       "       [ 8.77547895e-04, -5.25060772e-02],\n",
       "       [ 7.90670654e-01,  7.95669016e-01],\n",
       "       [-1.31544430e+00, -1.02184904e+00],\n",
       "       [-2.62386821e-01, -1.02184904e+00],\n",
       "       [ 1.44883158e+00,  6.74501145e-01],\n",
       "       [-1.31544430e+00, -1.26418478e+00],\n",
       "       [ 7.90670654e-01,  5.53333275e-01],\n",
       "       [-1.18381211e+00, -9.00681170e-01],\n",
       "       [ 1.18556721e+00,  1.03800476e+00],\n",
       "       [ 1.32509732e-01,  5.53333275e-01],\n",
       "       [ 3.95774101e-01,  1.28034050e+00],\n",
       "       [ 3.95774101e-01,  1.89829664e-01],\n",
       "       [ 1.71209594e+00,  1.03800476e+00],\n",
       "       [ 7.90670654e-01,  4.32165405e-01],\n",
       "       [-1.18381211e+00, -1.02184904e+00],\n",
       "       [-7.88915558e-01, -1.02184904e+00],\n",
       "       [-1.31544430e+00, -1.26418478e+00],\n",
       "       [ 1.32509732e-01, -2.94841818e-01],\n",
       "       [-1.44707648e+00, -1.26418478e+00],\n",
       "       [ 7.90670654e-01,  1.03800476e+00],\n",
       "       [-1.18381211e+00, -9.00681170e-01],\n",
       "       [-1.31544430e+00, -1.38535265e+00],\n",
       "       [ 7.90670654e-01,  1.89829664e-01],\n",
       "       [ 2.64141916e-01,  3.10997534e-01],\n",
       "       [ 3.95774101e-01,  6.86617933e-02],\n",
       "       [ 9.22302838e-01, -5.25060772e-02],\n",
       "       [-1.31544430e+00, -9.00681170e-01],\n",
       "       [ 1.05393502e+00, -1.73673948e-01],\n",
       "       [ 1.44883158e+00,  2.24968346e+00],\n",
       "       [-1.31544430e+00, -1.50652052e+00],\n",
       "       [-1.30754636e-01, -4.16009689e-01],\n",
       "       [ 3.95774101e-01,  6.74501145e-01],\n",
       "       [ 1.44883158e+00,  4.32165405e-01],\n",
       "       [ 1.32509732e-01, -4.16009689e-01],\n",
       "       [ 2.64141916e-01, -7.79513300e-01],\n",
       "       [-2.62386821e-01, -1.02184904e+00],\n",
       "       [-1.31544430e+00, -1.50652052e+00],\n",
       "       [ 8.77547895e-04, -4.16009689e-01],\n",
       "       [-1.31544430e+00, -1.02184904e+00],\n",
       "       [ 1.58046376e+00,  1.03800476e+00],\n",
       "       [ 1.31719939e+00,  7.95669016e-01],\n",
       "       [-1.31544430e+00, -4.16009689e-01],\n",
       "       [ 3.95774101e-01,  1.89829664e-01],\n",
       "       [ 1.05393502e+00,  7.95669016e-01],\n",
       "       [ 1.05393502e+00, -2.94841818e-01],\n",
       "       [ 7.90670654e-01,  5.53333275e-01],\n",
       "       [ 1.32509732e-01,  3.10997534e-01],\n",
       "       [-1.18381211e+00, -1.26418478e+00],\n",
       "       [-1.44707648e+00, -7.79513300e-01],\n",
       "       [ 5.27406285e-01,  1.89829664e-01],\n",
       "       [-1.31544430e+00, -7.79513300e-01],\n",
       "       [ 7.90670654e-01,  6.86617933e-02],\n",
       "       [-2.62386821e-01, -5.25060772e-02],\n",
       "       [-1.05217993e+00, -9.00681170e-01],\n",
       "       [-1.31544430e+00, -4.16009689e-01],\n",
       "       [ 9.22302838e-01,  1.88617985e+00],\n",
       "       [ 1.32509732e-01, -2.94841818e-01],\n",
       "       [-1.31544430e+00, -1.74885626e+00],\n",
       "       [ 3.95774101e-01,  5.53333275e-01],\n",
       "       [-1.31544430e+00, -1.26418478e+00],\n",
       "       [ 3.95774101e-01,  5.53333275e-01],\n",
       "       [ 1.32509732e-01,  9.16836886e-01],\n",
       "       [-1.44707648e+00, -1.14301691e+00],\n",
       "       [ 1.05393502e+00,  2.49201920e+00],\n",
       "       [ 9.22302838e-01, -5.25060772e-02],\n",
       "       [ 7.90670654e-01,  6.86617933e-02],\n",
       "       [-1.05217993e+00, -5.37177559e-01],\n",
       "       [ 1.18556721e+00,  1.28034050e+00]])"
      ]
     },
     "execution_count": 138,
     "metadata": {},
     "output_type": "execute_result"
    }
   ],
   "source": [
    "X_train[:, [-1, 0]]"
   ]
  },
  {
   "cell_type": "code",
   "execution_count": 139,
   "metadata": {
    "scrolled": true
   },
   "outputs": [
    {
     "data": {
      "image/png": "[encoded data removed]",
      "text/plain": [
       "<Figure size 432x288 with 1 Axes>"
      ]
     },
     "metadata": {
      "needs_background": "light"
     },
     "output_type": "display_data"
    },
    {
     "data": {
      "image/png": "[encoded data removed]",
      "text/plain": [
       "<Figure size 432x288 with 1 Axes>"
      ]
     },
     "metadata": {
      "needs_background": "light"
     },
     "output_type": "display_data"
    },
    {
     "data": {
      "image/png": "[encoded data removed]",
      "text/plain": [
       "<Figure size 432x288 with 1 Axes>"
      ]
     },
     "metadata": {
      "needs_background": "light"
     },
     "output_type": "display_data"
    },
    {
     "data": {
      "image/png": "[encoded data removed]",
      "text/plain": [
       "<Figure size 432x288 with 1 Axes>"
      ]
     },
     "metadata": {
      "needs_background": "light"
     },
     "output_type": "display_data"
    }
   ],
   "source": [
    "for i, feature in enumerate(feature_names):\n",
    "    if i != 3:\n",
    "        X_train_2d = np.matmul(X_train[:, i:i+2], eig_vectors[i:i+2, :])\n",
    "        plt.figure()\n",
    "        plt.scatter(X_train_2d[:, i], X_train_2d[:, i+1])\n",
    "        plt.xlabel(feature)\n",
    "        plt.ylabel(feature_names[i+1])\n",
    "    else:\n",
    "        X_train_2d = np.matmul(X_train[:, [-1, 0]], eig_vectors[[-1, 0], :])\n",
    "        plt.figure()\n",
    "        plt.scatter(X_train_2d[:, 0], X_train_2d[:, 1])\n",
    "        plt.xlabel(feature)\n",
    "        plt.ylabel(feature_names[0])"
   ]
  },
  {
   "cell_type": "code",
   "execution_count": 97,
   "metadata": {},
   "outputs": [
    {
     "data": {
      "text/plain": [
       "(105, 5)"
      ]
     },
     "execution_count": 97,
     "metadata": {},
     "output_type": "execute_result"
    }
   ],
   "source": [
    "# plot combination of projected training data\n",
    "X_train_2d.shape"
   ]
  },
  {
   "cell_type": "code",
   "execution_count": 98,
   "metadata": {
    "collapsed": true
   },
   "outputs": [
    {
     "data": {
      "text/plain": [
       "Text(0.5, 1.0, 'Project Training data')"
      ]
     },
     "execution_count": 98,
     "metadata": {},
     "output_type": "execute_result"
    },
    {
     "data": {
      "image/png": "[encoded data removed]",
      "text/plain": [
       "<Figure size 432x288 with 1 Axes>"
      ]
     },
     "metadata": {
      "needs_background": "light"
     },
     "output_type": "display_data"
    }
   ],
   "source": [
    "# Project training set to 2 dimension\n",
    "X_train_2d = np.matmul(X_train[:,:-1], eig_vectors[:3, :2])\n",
    "X_test_2d = np.matmul(X_test[:,:-1], eig_vectors[:3, :2])\n",
    "\n",
    "\n",
    "plt.scatter(X_2d[:, 0], X_2d[:, 1])\n",
    "plt.title('Project Training data')"
   ]
  },
  {
   "cell_type": "code",
   "execution_count": 140,
   "metadata": {},
   "outputs": [
    {
     "data": {
      "text/plain": [
       "Text(0.5, 1.0, 'Project Training data')"
      ]
     },
     "execution_count": 140,
     "metadata": {},
     "output_type": "execute_result"
    },
    {
     "data": {
      "image/png": "[encoded data removed]",
      "text/plain": [
       "<Figure size 432x288 with 1 Axes>"
      ]
     },
     "metadata": {
      "needs_background": "light"
     },
     "output_type": "display_data"
    }
   ],
   "source": [
    "plt.scatter(X_train_2d[:, 0], X_train_2d[:, 1])\n",
    "plt.title('Project Training data')"
   ]
  },
  {
   "cell_type": "code",
   "execution_count": 141,
   "metadata": {},
   "outputs": [
    {
     "data": {
      "text/plain": [
       "Text(0.5, 1.0, 'Real Training data')"
      ]
     },
     "execution_count": 141,
     "metadata": {},
     "output_type": "execute_result"
    },
    {
     "data": {
      "image/png": "[encoded data removed]",
      "text/plain": [
       "<Figure size 432x288 with 1 Axes>"
      ]
     },
     "metadata": {
      "needs_background": "light"
     },
     "output_type": "display_data"
    }
   ],
   "source": [
    "plt.scatter(X_train[:, 0], X_train[:, 1])\n",
    "plt.title('Real Training data')"
   ]
  },
  {
   "cell_type": "markdown",
   "metadata": {},
   "source": [
    "## Logistic regression classifiers"
   ]
  },
  {
   "cell_type": "markdown",
   "metadata": {},
   "source": [
    "#### Training set"
   ]
  },
  {
   "cell_type": "code",
   "execution_count": 142,
   "metadata": {},
   "outputs": [],
   "source": [
    "from sklearn.linear_model import LogisticRegression\n",
    "from sklearn.metrics import accuracy_score\n",
    "from sklearn.metrics import classification_report\n",
    "from sklearn.model_selection import train_test_split"
   ]
  },
  {
   "cell_type": "code",
   "execution_count": 143,
   "metadata": {
    "scrolled": true
   },
   "outputs": [
    {
     "data": {
      "text/plain": [
       "LogisticRegression(C=1.0, class_weight=None, dual=False, fit_intercept=True,\n",
       "                   intercept_scaling=1, l1_ratio=None, max_iter=100,\n",
       "                   multi_class='auto', n_jobs=None, penalty='l2',\n",
       "                   random_state=None, solver='lbfgs', tol=0.0001, verbose=0,\n",
       "                   warm_start=False)"
      ]
     },
     "execution_count": 143,
     "metadata": {},
     "output_type": "execute_result"
    }
   ],
   "source": [
    "model = LogisticRegression()\n",
    "model.fit(X_train, y_train)"
   ]
  },
  {
   "cell_type": "code",
   "execution_count": 145,
   "metadata": {
    "scrolled": true
   },
   "outputs": [
    {
     "name": "stdout",
     "output_type": "stream",
     "text": [
      "[1 1 0 0 2 1 0 0 2 1 1 0 2 1 1 0 1 2 2 1 0 1 1 2 0 0 2 0 1 0 1 1 0 1 2 1 2\n",
      " 1 0 2 0 2 0 0 1]\n",
      "\n",
      "              precision    recall  f1-score   support\n",
      "\n",
      "           0       1.00      1.00      1.00        16\n",
      "           1       0.94      0.94      0.94        18\n",
      "           2       0.91      0.91      0.91        11\n",
      "\n",
      "    accuracy                           0.96        45\n",
      "   macro avg       0.95      0.95      0.95        45\n",
      "weighted avg       0.96      0.96      0.96        45\n",
      "\n",
      "0.9555555555555556\n"
     ]
    }
   ],
   "source": [
    "predictions = model.predict(X_test)\n",
    "print(predictions)\n",
    "print()\n",
    "print(classification_report(y_test, predictions))\n",
    "print(accuracy_score(y_test, predictions))"
   ]
  },
  {
   "cell_type": "markdown",
   "metadata": {},
   "source": [
    "#### Project data"
   ]
  },
  {
   "cell_type": "code",
   "execution_count": 163,
   "metadata": {},
   "outputs": [
    {
     "data": {
      "text/plain": [
       "(45, 4)"
      ]
     },
     "execution_count": 163,
     "metadata": {},
     "output_type": "execute_result"
    }
   ],
   "source": [
    "X_test.shape"
   ]
  },
  {
   "cell_type": "code",
   "execution_count": 171,
   "metadata": {},
   "outputs": [
    {
     "data": {
      "text/plain": [
       "(4, 4)"
      ]
     },
     "execution_count": 171,
     "metadata": {},
     "output_type": "execute_result"
    }
   ],
   "source": [
    "eig_vectors[:-1, :-1].shape"
   ]
  },
  {
   "cell_type": "code",
   "execution_count": 172,
   "metadata": {},
   "outputs": [],
   "source": [
    "X_train_pr = np.matmul(X_train, eig_vectors[:-1, :-1])\n",
    "X_test_pr = np.matmul(X_test, eig_vectors[:-1, :-1])"
   ]
  },
  {
   "cell_type": "code",
   "execution_count": 173,
   "metadata": {},
   "outputs": [
    {
     "data": {
      "text/plain": [
       "LogisticRegression(C=1.0, class_weight=None, dual=False, fit_intercept=True,\n",
       "                   intercept_scaling=1, l1_ratio=None, max_iter=100,\n",
       "                   multi_class='auto', n_jobs=None, penalty='l2',\n",
       "                   random_state=None, solver='lbfgs', tol=0.0001, verbose=0,\n",
       "                   warm_start=False)"
      ]
     },
     "execution_count": 173,
     "metadata": {},
     "output_type": "execute_result"
    }
   ],
   "source": [
    "model = LogisticRegression()\n",
    "model.fit(X_train, y_train)"
   ]
  },
  {
   "cell_type": "code",
   "execution_count": 174,
   "metadata": {},
   "outputs": [
    {
     "name": "stdout",
     "output_type": "stream",
     "text": [
      "[1 1 1 2 1 1 1 1 0 1 1 2 0 0 1 2 1 0 0 0 1 1 1 0 1 1 0 1 1 1 0 1 2 1 0 0 1\n",
      " 0 2 2 1 0 1 2 1]\n",
      "\n",
      "              precision    recall  f1-score   support\n",
      "\n",
      "           0       0.00      0.00      0.00        16\n",
      "           1       0.48      0.67      0.56        18\n",
      "           2       0.14      0.09      0.11        11\n",
      "\n",
      "    accuracy                           0.29        45\n",
      "   macro avg       0.21      0.25      0.22        45\n",
      "weighted avg       0.23      0.29      0.25        45\n",
      "\n",
      "0.28888888888888886\n"
     ]
    }
   ],
   "source": [
    "predictions = model.predict(X_test_pr)\n",
    "print(predictions)\n",
    "print()\n",
    "print(classification_report(y_test, predictions))\n",
    "print(accuracy_score(y_test, predictions))"
   ]
  },
  {
   "cell_type": "code",
   "execution_count": 155,
   "metadata": {},
   "outputs": [
    {
     "data": {
      "text/plain": [
       "(5, 5)"
      ]
     },
     "execution_count": 155,
     "metadata": {},
     "output_type": "execute_result"
    }
   ],
   "source": [
    "eig_vectors.shape"
   ]
  },
  {
   "cell_type": "code",
   "execution_count": null,
   "metadata": {},
   "outputs": [],
   "source": []
  },
  {
   "cell_type": "code",
   "execution_count": null,
   "metadata": {},
   "outputs": [],
   "source": []
  },
  {
   "cell_type": "code",
   "execution_count": null,
   "metadata": {},
   "outputs": [],
   "source": []
  },
  {
   "cell_type": "code",
   "execution_count": null,
   "metadata": {},
   "outputs": [],
   "source": []
  },
  {
   "cell_type": "code",
   "execution_count": null,
   "metadata": {},
   "outputs": [],
   "source": [
    "from mpl_toolkits.mplot3d import Axes3D\n",
    "iris = datasets.load_iris()\n",
    "X = iris.data[:, :2]  # we only take the first two features.\n",
    "y = iris.target\n",
    "\n",
    "x_min, x_max = X[:, 0].min() - .5, X[:, 0].max() + .5\n",
    "y_min, y_max = X[:, 1].min() - .5, X[:, 1].max() + .5\n",
    "\n",
    "plt.figure(2, figsize=(8, 6))\n",
    "plt.clf()\n",
    "\n",
    "# Plot the training points\n",
    "plt.scatter(X[:, 0], X[:, 1], c=y, cmap=plt.cm.Set1,\n",
    "            edgecolor='k')\n",
    "plt.xlabel('Sepal length')\n",
    "plt.ylabel('Sepal width')\n",
    "\n",
    "plt.xlim(x_min, x_max)\n",
    "plt.ylim(y_min, y_max)\n",
    "plt.xticks(())\n",
    "plt.yticks(())\n",
    "\n",
    "# To getter a better understanding of interaction of the dimensions\n",
    "# plot the first three PCA dimensions\n",
    "fig = plt.figure(1, figsize=(8, 6))\n",
    "ax = Axes3D(fig, elev=-150, azim=110)\n",
    "X_reduced = PCA(n_components=3).fit_transform(iris.data)\n",
    "ax.scatter(X_reduced[:, 0], X_reduced[:, 1], X_reduced[:, 2], c=y,\n",
    "           cmap=plt.cm.Set1, edgecolor='k', s=40)\n",
    "ax.set_title(\"First three PCA directions\")\n",
    "ax.set_xlabel(\"1st eigenvector\")\n",
    "ax.w_xaxis.set_ticklabels([])\n",
    "ax.set_ylabel(\"2nd eigenvector\")\n",
    "ax.w_yaxis.set_ticklabels([])\n",
    "ax.set_zlabel(\"3rd eigenvector\")\n",
    "ax.w_zaxis.set_ticklabels([])\n",
    "\n",
    "plt.show()"
   ]
  }
 ],
 "metadata": {
  "kernelspec": {
   "display_name": "Python 3",
   "language": "python",
   "name": "python3"
  },
  "language_info": {
   "codemirror_mode": {
    "name": "ipython",
    "version": 3
   },
   "file_extension": ".py",
   "mimetype": "text/x-python",
   "name": "python",
   "nbconvert_exporter": "python",
   "pygments_lexer": "ipython3",
   "version": "3.7.6"
  }
 },
 "nbformat": 4,
 "nbformat_minor": 4
}

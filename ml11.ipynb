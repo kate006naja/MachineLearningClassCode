{
 "cells": [
  {
   "cell_type": "markdown",
   "metadata": {},
   "source": [
    "# PCA Demo"
   ]
  },
  {
   "cell_type": "markdown",
   "metadata": {},
   "source": [
    "<hr>"
   ]
  },
  {
   "cell_type": "code",
   "execution_count": 138,
   "metadata": {},
   "outputs": [],
   "source": [
    "import numpy as np\n",
    "from numpy import cov\n",
    "from numpy.linalg import eig"
   ]
  },
  {
   "cell_type": "code",
   "execution_count": 139,
   "metadata": {},
   "outputs": [
    {
     "data": {
      "text/plain": [
       "array([[0.47187007, 0.78851027, 0.78959118, 0.92471391, 0.75879737],\n",
       "       [0.82798313, 0.63212273, 0.45014952, 0.0866226 , 0.90903321],\n",
       "       [0.66253658, 0.60322523, 0.62440946, 0.32879956, 0.26143514],\n",
       "       [0.00504443, 0.04372439, 0.16220897, 0.27832789, 0.41062473],\n",
       "       [0.72274482, 0.59477935, 0.31838416, 0.8830858 , 0.39654985],\n",
       "       [0.14183364, 0.14490749, 0.7217167 , 0.79668205, 0.15915425],\n",
       "       [0.88150994, 0.45566739, 0.65411154, 0.62728901, 0.4245572 ],\n",
       "       [0.65897941, 0.82534003, 0.8327678 , 0.50981789, 0.59834416],\n",
       "       [0.38244625, 0.50051539, 0.69166824, 0.88971169, 0.89991494],\n",
       "       [0.24303221, 0.65481923, 0.94260984, 0.73659076, 0.20250905]])"
      ]
     },
     "execution_count": 139,
     "metadata": {},
     "output_type": "execute_result"
    }
   ],
   "source": [
    "A = np.random.rand(10, 5)\n",
    "A"
   ]
  },
  {
   "cell_type": "code",
   "execution_count": 140,
   "metadata": {},
   "outputs": [
    {
     "data": {
      "text/plain": [
       "array([0.28431268, 0.24092684, 0.22894381, 0.27855465, 0.26264337])"
      ]
     },
     "execution_count": 140,
     "metadata": {},
     "output_type": "execute_result"
    }
   ],
   "source": [
    "np.std(A, axis=0)"
   ]
  },
  {
   "cell_type": "code",
   "execution_count": 141,
   "metadata": {},
   "outputs": [],
   "source": [
    "# 1. Normalize data\n",
    "M = np.mean(A, axis=0)"
   ]
  },
  {
   "cell_type": "code",
   "execution_count": 142,
   "metadata": {},
   "outputs": [
    {
     "data": {
      "text/plain": [
       "array([[ 0.09822979, -1.09638728, -0.74616317, -1.14358096, -0.97739143],\n",
       "       [-1.15431039, -0.44727929,  0.73647861,  1.86513315, -1.54940605],\n",
       "       [-0.5723928 , -0.32733621, -0.02466857,  0.99572762,  0.91628758],\n",
       "       [ 1.74017432,  1.99494903,  1.99416956,  1.17691886,  0.3482565 ],\n",
       "       [-0.7841605 , -0.29228042,  1.31201443, -0.9941377 ,  0.4018458 ],\n",
       "       [ 1.25905187,  1.57497466, -0.44969534, -0.68395172,  1.30571635],\n",
       "       [-1.34257781,  0.28512292, -0.15440383, -0.07583753,  0.2952094 ],\n",
       "       [-0.55988134, -1.24925427, -0.93475364,  0.34587909, -0.36647478],\n",
       "       [ 0.41275612,  0.09897509, -0.31844712, -1.01792439, -1.51468873],\n",
       "       [ 0.90311075, -0.54148422, -1.41453094, -0.46822641,  1.14064535]])"
      ]
     },
     "execution_count": 142,
     "metadata": {},
     "output_type": "execute_result"
    }
   ],
   "source": [
    "X = (M - A)/np.std(A, axis=0)\n",
    "X"
   ]
  },
  {
   "cell_type": "code",
   "execution_count": 143,
   "metadata": {},
   "outputs": [],
   "source": [
    "X = M-A"
   ]
  },
  {
   "cell_type": "code",
   "execution_count": 144,
   "metadata": {},
   "outputs": [
    {
     "data": {
      "text/plain": [
       "array([[ 0.02792797, -0.26414912, -0.17082944, -0.3185498 , -0.25670538],\n",
       "       [-0.32818508, -0.10776158,  0.16861222,  0.51954152, -0.40694122],\n",
       "       [-0.16273853, -0.07886408, -0.00564772,  0.27736456,  0.24065685],\n",
       "       [ 0.49475362,  0.48063676,  0.45655277,  0.32783622,  0.09146726],\n",
       "       [-0.22294677, -0.0704182 ,  0.30037758, -0.27692168,  0.10554213],\n",
       "       [ 0.35796441,  0.37945366, -0.10295496, -0.19051793,  0.34293774],\n",
       "       [-0.38171189,  0.06869376, -0.0353498 , -0.0211249 ,  0.07753479],\n",
       "       [-0.15918136, -0.30097888, -0.21400606,  0.09634623, -0.09625217],\n",
       "       [ 0.1173518 ,  0.02384576, -0.07290649, -0.28354758, -0.39782295],\n",
       "       [ 0.25676584, -0.13045808, -0.3238481 , -0.13042665,  0.29958294]])"
      ]
     },
     "execution_count": 144,
     "metadata": {},
     "output_type": "execute_result"
    }
   ],
   "source": [
    "X"
   ]
  },
  {
   "cell_type": "code",
   "execution_count": 145,
   "metadata": {},
   "outputs": [],
   "source": [
    "# 2. Find covariance\n",
    "def sigma(X):\n",
    "    m = X.shape[0]\n",
    "    cov = (1/(m-1)) * (np.matmul(X.T, X))\n",
    "    return cov"
   ]
  },
  {
   "cell_type": "code",
   "execution_count": 146,
   "metadata": {},
   "outputs": [],
   "source": [
    "sigma = sigma(X)"
   ]
  },
  {
   "cell_type": "code",
   "execution_count": 147,
   "metadata": {},
   "outputs": [
    {
     "data": {
      "text/plain": [
       "array([[ 0.08981522,  0.04679335,  0.00208014, -0.01587096,  0.02751829],\n",
       "       [ 0.04679335,  0.06449527,  0.03212337,  0.01009624,  0.02722978],\n",
       "       [ 0.00208014,  0.03212337,  0.05823919,  0.0299555 , -0.00423604],\n",
       "       [-0.01587096,  0.01009624,  0.0299555 ,  0.08621411, -0.00718438],\n",
       "       [ 0.02751829,  0.02722978, -0.00423604, -0.00718438,  0.07664615]])"
      ]
     },
     "execution_count": 147,
     "metadata": {},
     "output_type": "execute_result"
    }
   ],
   "source": [
    "sigma"
   ]
  },
  {
   "cell_type": "code",
   "execution_count": 148,
   "metadata": {},
   "outputs": [],
   "source": [
    "# Find eigenvalues and eigenvectors\n",
    "\n",
    "eig_values, eig_vectors = np.linalg.eig(sigma)"
   ]
  },
  {
   "cell_type": "code",
   "execution_count": 149,
   "metadata": {},
   "outputs": [],
   "source": [
    "acs_index = np.argsort(eig_values)"
   ]
  },
  {
   "cell_type": "code",
   "execution_count": 150,
   "metadata": {},
   "outputs": [
    {
     "data": {
      "text/plain": [
       "array([0.01204867, 0.03905127, 0.05851771, 0.11558965, 0.15020263])"
      ]
     },
     "execution_count": 150,
     "metadata": {},
     "output_type": "execute_result"
    }
   ],
   "source": [
    "eig_values[acs_index]"
   ]
  },
  {
   "cell_type": "code",
   "execution_count": 151,
   "metadata": {},
   "outputs": [
    {
     "data": {
      "text/plain": [
       "array([0, 1, 3, 4, 2], dtype=int64)"
      ]
     },
     "execution_count": 151,
     "metadata": {},
     "output_type": "execute_result"
    }
   ],
   "source": [
    "dsc_index = acs_index[::-1]\n",
    "dsc_index"
   ]
  },
  {
   "cell_type": "code",
   "execution_count": 152,
   "metadata": {},
   "outputs": [
    {
     "data": {
      "text/plain": [
       "array([0.15020263, 0.11558965, 0.05851771, 0.03905127, 0.01204867])"
      ]
     },
     "execution_count": 152,
     "metadata": {},
     "output_type": "execute_result"
    }
   ],
   "source": [
    "eig_values[dsc_index]"
   ]
  },
  {
   "cell_type": "code",
   "execution_count": 153,
   "metadata": {},
   "outputs": [
    {
     "data": {
      "text/plain": [
       "array([[ 0.66306614,  0.18355152,  0.38266318,  0.49935729,  0.36175034],\n",
       "       [ 0.56770595, -0.23416243,  0.13196234, -0.23047732, -0.74319853],\n",
       "       [ 0.17882528, -0.53906996,  0.22008597, -0.5910491 ,  0.52881776],\n",
       "       [-0.0419208 , -0.77012783, -0.28490372,  0.56895218, -0.01640318],\n",
       "       [ 0.45201483,  0.16668384, -0.84056342, -0.15645088,  0.19202956]])"
      ]
     },
     "execution_count": 153,
     "metadata": {},
     "output_type": "execute_result"
    }
   ],
   "source": [
    "eig_vectors[:, dsc_index]"
   ]
  },
  {
   "cell_type": "code",
   "execution_count": 154,
   "metadata": {},
   "outputs": [],
   "source": [
    "dsc_eigVec = eig_vectors[:, dsc_index]"
   ]
  },
  {
   "cell_type": "code",
   "execution_count": 155,
   "metadata": {},
   "outputs": [],
   "source": [
    "new_x = np.matmul(X, dsc_eigVec)"
   ]
  },
  {
   "cell_type": "code",
   "execution_count": 156,
   "metadata": {},
   "outputs": [
    {
     "data": {
      "text/plain": [
       "(5, 5)"
      ]
     },
     "execution_count": 156,
     "metadata": {},
     "output_type": "execute_result"
    }
   ],
   "source": [
    "dsc_eigVec.shape"
   ]
  },
  {
   "cell_type": "code",
   "execution_count": 157,
   "metadata": {},
   "outputs": [],
   "source": [
    "new_2d_x = np.matmul(X, dsc_eigVec[:, :2])"
   ]
  },
  {
   "cell_type": "code",
   "execution_count": 158,
   "metadata": {},
   "outputs": [
    {
     "data": {
      "text/plain": [
       "(10, 5)"
      ]
     },
     "execution_count": 158,
     "metadata": {},
     "output_type": "execute_result"
    }
   ],
   "source": [
    "new_x.shape"
   ]
  },
  {
   "cell_type": "code",
   "execution_count": 159,
   "metadata": {},
   "outputs": [
    {
     "data": {
      "text/plain": [
       "(10, 2)"
      ]
     },
     "execution_count": 159,
     "metadata": {},
     "output_type": "execute_result"
    }
   ],
   "source": [
    "new_2d_x.shape"
   ]
  },
  {
   "cell_type": "code",
   "execution_count": 160,
   "metadata": {},
   "outputs": [],
   "source": [
    "import matplotlib.pyplot as plt"
   ]
  },
  {
   "cell_type": "code",
   "execution_count": 161,
   "metadata": {},
   "outputs": [
    {
     "data": {
      "text/plain": [
       "<matplotlib.collections.PathCollection at 0x1f01266b908>"
      ]
     },
     "execution_count": 161,
     "metadata": {},
     "output_type": "execute_result"
    },
    {
     "data": {
      "image/png": "[encoded data removed]",
      "text/plain": [
       "<Figure size 432x288 with 1 Axes>"
      ]
     },
     "metadata": {
      "needs_background": "light"
     },
     "output_type": "display_data"
    }
   ],
   "source": [
    "plt.scatter(new_2d_x[:, 0], new_2d_x[:, 1])"
   ]
  },
  {
   "cell_type": "code",
   "execution_count": 162,
   "metadata": {},
   "outputs": [],
   "source": [
    "u, d, v = np.linalg.svd(sigma)"
   ]
  },
  {
   "cell_type": "code",
   "execution_count": 163,
   "metadata": {},
   "outputs": [
    {
     "data": {
      "text/plain": [
       "array([[-0.66306614,  0.18355152, -0.38266318, -0.49935729,  0.36175034],\n",
       "       [-0.56770595, -0.23416243, -0.13196234,  0.23047732, -0.74319853],\n",
       "       [-0.17882528, -0.53906996, -0.22008597,  0.5910491 ,  0.52881776],\n",
       "       [ 0.0419208 , -0.77012783,  0.28490372, -0.56895218, -0.01640318],\n",
       "       [-0.45201483,  0.16668384,  0.84056342,  0.15645088,  0.19202956]])"
      ]
     },
     "execution_count": 163,
     "metadata": {},
     "output_type": "execute_result"
    }
   ],
   "source": [
    "# u = eigenvector\n",
    "u"
   ]
  },
  {
   "cell_type": "code",
   "execution_count": 164,
   "metadata": {},
   "outputs": [
    {
     "data": {
      "text/plain": [
       "array([0.15020263, 0.11558965, 0.05851771, 0.03905127, 0.01204867])"
      ]
     },
     "execution_count": 164,
     "metadata": {},
     "output_type": "execute_result"
    }
   ],
   "source": [
    "# d = eigenvalues\n",
    "d"
   ]
  },
  {
   "cell_type": "code",
   "execution_count": 165,
   "metadata": {},
   "outputs": [
    {
     "data": {
      "text/plain": [
       "array([[ 0.26467033,  0.36160446],\n",
       "       [ 0.45435625, -0.59384284],\n",
       "       [ 0.05653485, -0.18185195],\n",
       "       [-0.7101593 , -0.50507786],\n",
       "       [ 0.0747748 ,  0.04449981],\n",
       "       [-0.59736084,  0.23623639],\n",
       "       [ 0.18449137, -0.03790061],\n",
       "       [ 0.36223129,  0.06638161],\n",
       "       [ 0.08962347,  0.20731525],\n",
       "       [-0.1791622 ,  0.40263575]])"
      ]
     },
     "execution_count": 165,
     "metadata": {},
     "output_type": "execute_result"
    }
   ],
   "source": [
    "svd_x = np.matmul(X, u[:, :2])\n",
    "svd_x"
   ]
  },
  {
   "cell_type": "code",
   "execution_count": 166,
   "metadata": {},
   "outputs": [
    {
     "data": {
      "text/plain": [
       "<matplotlib.collections.PathCollection at 0x1f0126d0148>"
      ]
     },
     "execution_count": 166,
     "metadata": {},
     "output_type": "execute_result"
    },
    {
     "data": {
      "image/png": "[encoded data removed]",
      "text/plain": [
       "<Figure size 432x288 with 1 Axes>"
      ]
     },
     "metadata": {
      "needs_background": "light"
     },
     "output_type": "display_data"
    }
   ],
   "source": [
    "plt.scatter(svd_x[:, 0], svd_x[:, 1])"
   ]
  },
  {
   "cell_type": "code",
   "execution_count": 167,
   "metadata": {},
   "outputs": [
    {
     "data": {
      "text/plain": [
       "array([ 40.01029756,  70.80054655,  86.3882293 ,  96.79052963,\n",
       "       100.        ])"
      ]
     },
     "execution_count": 167,
     "metadata": {},
     "output_type": "execute_result"
    }
   ],
   "source": [
    "# Cumulative variance\n",
    "cum_var = (np.cumsum(eig_values[dsc_index]) / eig_values[dsc_index].sum())*100\n",
    "cum_var"
   ]
  },
  {
   "cell_type": "code",
   "execution_count": 168,
   "metadata": {},
   "outputs": [
    {
     "data": {
      "text/plain": [
       "array([40.01029756, 30.79024899, 15.58768274, 10.40230034,  3.20947037])"
      ]
     },
     "execution_count": 168,
     "metadata": {},
     "output_type": "execute_result"
    }
   ],
   "source": [
    "variance = eig_values[dsc_index]/eig_values[dsc_index].sum()*100\n",
    "variance"
   ]
  },
  {
   "cell_type": "code",
   "execution_count": 169,
   "metadata": {},
   "outputs": [
    {
     "data": {
      "image/png": "[encoded data removed]",
      "text/plain": [
       "<Figure size 432x288 with 1 Axes>"
      ]
     },
     "metadata": {
      "needs_background": "light"
     },
     "output_type": "display_data"
    }
   ],
   "source": [
    "plt.plot(np.arange(1, X.shape[1] + 1), cum_var, c= 'red', marker = 'o')\n",
    "plt.bar(np.arange(1, X.shape[1] + 1), variance)\n",
    "plt.xticks(np.arange(1, X.shape[1] + 1))\n",
    "plt.show()"
   ]
  },
  {
   "cell_type": "markdown",
   "metadata": {},
   "source": [
    "# PCA Lab part\n",
    "<hr>"
   ]
  },
  {
   "cell_type": "code",
   "execution_count": 170,
   "metadata": {
    "scrolled": true
   },
   "outputs": [
    {
     "data": {
      "text/plain": [
       "(1000, 3)"
      ]
     },
     "execution_count": 170,
     "metadata": {},
     "output_type": "execute_result"
    }
   ],
   "source": [
    "from sklearn import datasets\n",
    "X, color = datasets.make_swiss_roll(n_samples=1000, noise=0.05, random_state=None)\n",
    "X.shape"
   ]
  },
  {
   "cell_type": "code",
   "execution_count": 171,
   "metadata": {},
   "outputs": [
    {
     "data": {
      "text/plain": [
       "array([[-9.21582195, 18.60235832, -3.26075003],\n",
       "       [-9.32529678, 19.40884645,  0.83575898],\n",
       "       [-2.12188566,  3.48391037,  7.8322499 ],\n",
       "       ...,\n",
       "       [-9.35411285,  3.12566847, -2.35602308],\n",
       "       [12.59996061,  1.15054253, -0.4477829 ],\n",
       "       [ 1.91707994, 13.56759825, 13.8582377 ]])"
      ]
     },
     "execution_count": 171,
     "metadata": {},
     "output_type": "execute_result"
    }
   ],
   "source": [
    "X"
   ]
  },
  {
   "cell_type": "code",
   "execution_count": 172,
   "metadata": {},
   "outputs": [
    {
     "data": {
      "text/plain": [
       "(1000,)"
      ]
     },
     "execution_count": 172,
     "metadata": {},
     "output_type": "execute_result"
    }
   ],
   "source": [
    "color.shape"
   ]
  },
  {
   "cell_type": "code",
   "execution_count": 173,
   "metadata": {},
   "outputs": [
    {
     "data": {
      "text/plain": [
       "array([ 1.88468499, 10.54188615,  0.20823813])"
      ]
     },
     "execution_count": 173,
     "metadata": {},
     "output_type": "execute_result"
    }
   ],
   "source": [
    "np.mean(X, axis=0)"
   ]
  },
  {
   "cell_type": "code",
   "execution_count": 174,
   "metadata": {},
   "outputs": [],
   "source": [
    "def normalise_data(X):\n",
    "    mu = np.mean(X, axis=0)\n",
    "    std = np.std(X, axis=0)\n",
    "    norm = (X-mu)/std\n",
    "    return norm"
   ]
  },
  {
   "cell_type": "code",
   "execution_count": 175,
   "metadata": {},
   "outputs": [],
   "source": [
    "X_norm = normalise_data(X)"
   ]
  },
  {
   "cell_type": "code",
   "execution_count": 176,
   "metadata": {},
   "outputs": [],
   "source": [
    "def CovarMatrix(norm):\n",
    "    m = X.shape[0]\n",
    "    cov = (1/(m-1)) * (np.matmul(X.T, X))\n",
    "    return sigma"
   ]
  },
  {
   "cell_type": "code",
   "execution_count": 177,
   "metadata": {
    "scrolled": false
   },
   "outputs": [
    {
     "data": {
      "text/plain": [
       "array([[ 0.08981522,  0.04679335,  0.00208014, -0.01587096,  0.02751829],\n",
       "       [ 0.04679335,  0.06449527,  0.03212337,  0.01009624,  0.02722978],\n",
       "       [ 0.00208014,  0.03212337,  0.05823919,  0.0299555 , -0.00423604],\n",
       "       [-0.01587096,  0.01009624,  0.0299555 ,  0.08621411, -0.00718438],\n",
       "       [ 0.02751829,  0.02722978, -0.00423604, -0.00718438,  0.07664615]])"
      ]
     },
     "execution_count": 177,
     "metadata": {},
     "output_type": "execute_result"
    }
   ],
   "source": [
    "sigma = CovarMatrix(X_norm)\n",
    "sigma"
   ]
  },
  {
   "cell_type": "code",
   "execution_count": 178,
   "metadata": {},
   "outputs": [
    {
     "data": {
      "text/plain": [
       "array([0.15020263, 0.11558965, 0.05851771, 0.03905127, 0.01204867])"
      ]
     },
     "execution_count": 178,
     "metadata": {},
     "output_type": "execute_result"
    }
   ],
   "source": [
    "eig_values[dsc_index]"
   ]
  },
  {
   "cell_type": "code",
   "execution_count": 179,
   "metadata": {},
   "outputs": [
    {
     "data": {
      "text/plain": [
       "array([[ 0.66306614,  0.18355152,  0.38266318,  0.49935729,  0.36175034],\n",
       "       [ 0.56770595, -0.23416243,  0.13196234, -0.23047732, -0.74319853],\n",
       "       [ 0.17882528, -0.53906996,  0.22008597, -0.5910491 ,  0.52881776],\n",
       "       [-0.0419208 , -0.77012783, -0.28490372,  0.56895218, -0.01640318],\n",
       "       [ 0.45201483,  0.16668384, -0.84056342, -0.15645088,  0.19202956]])"
      ]
     },
     "execution_count": 179,
     "metadata": {},
     "output_type": "execute_result"
    }
   ],
   "source": [
    "eig_vectors[:, dsc_index]"
   ]
  },
  {
   "cell_type": "code",
   "execution_count": 180,
   "metadata": {},
   "outputs": [],
   "source": [
    "def find_eig(sigma):\n",
    "    eig_value, eig_vector = np.linalg.eig(sigma)\n",
    "    ac_index = np.argsort(eig_value)\n",
    "    dc_index = ac_index[::-1]\n",
    "    eig_vector = eig_vector[:, dc_index]\n",
    "    eig_value = eig_value[dc_index]\n",
    "    return eig_vector, eig_value"
   ]
  },
  {
   "cell_type": "code",
   "execution_count": 181,
   "metadata": {},
   "outputs": [],
   "source": [
    "eig_vec, eig_val = find_eig(sigma)"
   ]
  },
  {
   "cell_type": "code",
   "execution_count": 182,
   "metadata": {},
   "outputs": [
    {
     "data": {
      "text/plain": [
       "array([[-1.72319675,  1.3191011 , -0.48961668],\n",
       "       [-1.74019117,  1.45108336,  0.08856896],\n",
       "       [-0.62196344, -1.15504196,  1.07606114],\n",
       "       ...,\n",
       "       [-1.74466446, -1.21366846, -0.36192256],\n",
       "       [ 1.66339503, -1.53689901, -0.09259151],\n",
       "       [ 0.00502886,  0.4951596 ,  1.92657548]])"
      ]
     },
     "execution_count": 182,
     "metadata": {},
     "output_type": "execute_result"
    }
   ],
   "source": [
    "X_norm"
   ]
  },
  {
   "cell_type": "code",
   "execution_count": 183,
   "metadata": {
    "scrolled": true
   },
   "outputs": [
    {
     "data": {
      "text/plain": [
       "(5, 2)"
      ]
     },
     "execution_count": 183,
     "metadata": {},
     "output_type": "execute_result"
    }
   ],
   "source": [
    "eig_vec[:, :2].shape"
   ]
  },
  {
   "cell_type": "code",
   "execution_count": 184,
   "metadata": {},
   "outputs": [
    {
     "data": {
      "text/plain": [
       "(1000, 3)"
      ]
     },
     "execution_count": 184,
     "metadata": {},
     "output_type": "execute_result"
    }
   ],
   "source": [
    "X_norm.shape"
   ]
  },
  {
   "cell_type": "code",
   "execution_count": 185,
   "metadata": {},
   "outputs": [
    {
     "data": {
      "text/plain": [
       "(3, 2)"
      ]
     },
     "execution_count": 185,
     "metadata": {},
     "output_type": "execute_result"
    }
   ],
   "source": [
    "eig_vec[:3, :2].shape"
   ]
  },
  {
   "cell_type": "code",
   "execution_count": 186,
   "metadata": {},
   "outputs": [
    {
     "data": {
      "text/plain": [
       "array([[ 0.66306614,  0.18355152,  0.38266318,  0.49935729,  0.36175034],\n",
       "       [ 0.56770595, -0.23416243,  0.13196234, -0.23047732, -0.74319853],\n",
       "       [ 0.17882528, -0.53906996,  0.22008597, -0.5910491 ,  0.52881776],\n",
       "       [-0.0419208 , -0.77012783, -0.28490372,  0.56895218, -0.01640318],\n",
       "       [ 0.45201483,  0.16668384, -0.84056342, -0.15645088,  0.19202956]])"
      ]
     },
     "execution_count": 186,
     "metadata": {},
     "output_type": "execute_result"
    }
   ],
   "source": [
    "eig_vec"
   ]
  },
  {
   "cell_type": "code",
   "execution_count": 187,
   "metadata": {},
   "outputs": [
    {
     "data": {
      "text/plain": [
       "<matplotlib.collections.PathCollection at 0x1f0128f5f08>"
      ]
     },
     "execution_count": 187,
     "metadata": {},
     "output_type": "execute_result"
    },
    {
     "data": {
      "image/png": "[encoded data removed]",
      "text/plain": [
       "<Figure size 432x288 with 1 Axes>"
      ]
     },
     "metadata": {
      "needs_background": "light"
     },
     "output_type": "display_data"
    }
   ],
   "source": [
    "X_2d = np.matmul(X_norm, eig_vec[:3, :2])\n",
    "plt.scatter(X_2d[:, 0], X_2d[:, 1])"
   ]
  },
  {
   "cell_type": "code",
   "execution_count": 188,
   "metadata": {},
   "outputs": [
    {
     "data": {
      "text/plain": [
       "array([ 40.01029756,  70.80054655,  86.3882293 ,  96.79052963,\n",
       "       100.        ])"
      ]
     },
     "execution_count": 188,
     "metadata": {},
     "output_type": "execute_result"
    }
   ],
   "source": [
    "# Cumulative variance\n",
    "cum_var = (np.cumsum(eig_val) / eig_val.sum())*100\n",
    "cum_var"
   ]
  },
  {
   "cell_type": "code",
   "execution_count": 189,
   "metadata": {},
   "outputs": [
    {
     "data": {
      "text/plain": [
       "array([40.01029756, 30.79024899, 15.58768274, 10.40230034,  3.20947037])"
      ]
     },
     "execution_count": 189,
     "metadata": {},
     "output_type": "execute_result"
    }
   ],
   "source": [
    "variance = eig_val/eig_val.sum()*100\n",
    "variance"
   ]
  },
  {
   "cell_type": "code",
   "execution_count": 190,
   "metadata": {
    "scrolled": true
   },
   "outputs": [
    {
     "data": {
      "text/plain": [
       "3"
      ]
     },
     "execution_count": 190,
     "metadata": {},
     "output_type": "execute_result"
    }
   ],
   "source": [
    "X_norm.shape[1]"
   ]
  },
  {
   "cell_type": "code",
   "execution_count": 191,
   "metadata": {},
   "outputs": [
    {
     "data": {
      "text/plain": [
       "3"
      ]
     },
     "execution_count": 191,
     "metadata": {},
     "output_type": "execute_result"
    }
   ],
   "source": [
    "X_norm.shape[1] "
   ]
  },
  {
   "cell_type": "code",
   "execution_count": 192,
   "metadata": {},
   "outputs": [
    {
     "data": {
      "text/plain": [
       "array([1, 2, 3])"
      ]
     },
     "execution_count": 192,
     "metadata": {},
     "output_type": "execute_result"
    }
   ],
   "source": [
    "np.arange(1, X_norm.shape[1] + 1)"
   ]
  },
  {
   "cell_type": "code",
   "execution_count": 193,
   "metadata": {},
   "outputs": [],
   "source": [
    "def eig_svd(sigma):\n",
    "    # u = eigenvector, d = eigenvalue\n",
    "    u, d, v = np.linalg.svd(sigma)\n",
    "    ac_index = np.argsort(d)\n",
    "    dc_index = ac_index[::-1]\n",
    "    eigen_vector = u[:, dc_index]\n",
    "    eigen_value = d[dc_index]\n",
    "    return eigen_vector, eigen_value"
   ]
  },
  {
   "cell_type": "code",
   "execution_count": 194,
   "metadata": {},
   "outputs": [],
   "source": [
    "eigen_vector, eigen_value = eig_svd(sigma)"
   ]
  },
  {
   "cell_type": "code",
   "execution_count": 195,
   "metadata": {},
   "outputs": [],
   "source": [
    "# Cumulative variance\n",
    "cum_var = (np.cumsum(eigen_value) / eigen_value.sum())*100\n",
    "variance = eigen_value/eigen_value.sum()*100"
   ]
  },
  {
   "cell_type": "code",
   "execution_count": 196,
   "metadata": {
    "scrolled": true
   },
   "outputs": [
    {
     "data": {
      "image/png": "[encoded data removed]",
      "text/plain": [
       "<Figure size 432x288 with 1 Axes>"
      ]
     },
     "metadata": {
      "needs_background": "light"
     },
     "output_type": "display_data"
    }
   ],
   "source": [
    "plt.plot(np.arange(1, X_norm.shape[1] + 3), cum_var, c= 'red', marker = 'o')\n",
    "plt.bar(np.arange(1, X_norm.shape[1] + 3), variance)\n",
    "plt.xticks(np.arange(1, X_norm.shape[1] + 3))\n",
    "plt.show()"
   ]
  },
  {
   "cell_type": "code",
   "execution_count": 201,
   "metadata": {},
   "outputs": [
    {
     "data": {
      "text/plain": [
       "Text(0.5, 1.0, 'Plot by eig method')"
      ]
     },
     "execution_count": 201,
     "metadata": {},
     "output_type": "execute_result"
    },
    {
     "data": {
      "image/png": "[encoded data removed]",
      "text/plain": [
       "<Figure size 432x288 with 1 Axes>"
      ]
     },
     "metadata": {
      "needs_background": "light"
     },
     "output_type": "display_data"
    }
   ],
   "source": [
    "# eig method\n",
    "X_2d = np.matmul(X_norm, eig_vec[:3, :2])\n",
    "plt.scatter(X_2d[:, 0], X_2d[:, 1])\n",
    "plt.title('Plot by eig method')"
   ]
  },
  {
   "cell_type": "code",
   "execution_count": 202,
   "metadata": {},
   "outputs": [
    {
     "data": {
      "text/plain": [
       "Text(0.5, 1.0, 'Plot by svd method')"
      ]
     },
     "execution_count": 202,
     "metadata": {},
     "output_type": "execute_result"
    },
    {
     "data": {
      "image/png": "[encoded data removed]",
      "text/plain": [
       "<Figure size 432x288 with 1 Axes>"
      ]
     },
     "metadata": {
      "needs_background": "light"
     },
     "output_type": "display_data"
    }
   ],
   "source": [
    "# svd method\n",
    "X_2d = np.matmul(X_norm, eigen_vector[:3, :2])\n",
    "plt.scatter(X_2d[:, 0], X_2d[:, 1])\n",
    "plt.title('Plot by svd method')"
   ]
  },
  {
   "cell_type": "code",
   "execution_count": 203,
   "metadata": {},
   "outputs": [
    {
     "data": {
      "text/plain": [
       "(array([[-0.66306614,  0.18355152, -0.38266318, -0.49935729,  0.36175034],\n",
       "        [-0.56770595, -0.23416243, -0.13196234,  0.23047732, -0.74319853],\n",
       "        [-0.17882528, -0.53906996, -0.22008597,  0.5910491 ,  0.52881776],\n",
       "        [ 0.0419208 , -0.77012783,  0.28490372, -0.56895218, -0.01640318],\n",
       "        [-0.45201483,  0.16668384,  0.84056342,  0.15645088,  0.19202956]]),\n",
       " array([0.15020263, 0.11558965, 0.05851771, 0.03905127, 0.01204867]))"
      ]
     },
     "execution_count": 203,
     "metadata": {},
     "output_type": "execute_result"
    }
   ],
   "source": [
    "eigen_vector, eigen_value"
   ]
  },
  {
   "cell_type": "code",
   "execution_count": 204,
   "metadata": {
    "scrolled": true
   },
   "outputs": [
    {
     "data": {
      "text/plain": [
       "(array([[ 0.66306614,  0.18355152,  0.38266318,  0.49935729,  0.36175034],\n",
       "        [ 0.56770595, -0.23416243,  0.13196234, -0.23047732, -0.74319853],\n",
       "        [ 0.17882528, -0.53906996,  0.22008597, -0.5910491 ,  0.52881776],\n",
       "        [-0.0419208 , -0.77012783, -0.28490372,  0.56895218, -0.01640318],\n",
       "        [ 0.45201483,  0.16668384, -0.84056342, -0.15645088,  0.19202956]]),\n",
       " array([0.15020263, 0.11558965, 0.05851771, 0.03905127, 0.01204867]))"
      ]
     },
     "execution_count": 204,
     "metadata": {},
     "output_type": "execute_result"
    }
   ],
   "source": [
    "eig_vec, eig_val"
   ]
  },
  {
   "cell_type": "code",
   "execution_count": 206,
   "metadata": {
    "scrolled": true
   },
   "outputs": [
    {
     "data": {
      "text/plain": [
       "-1.942890293094024e-16"
      ]
     },
     "execution_count": 206,
     "metadata": {},
     "output_type": "execute_result"
    }
   ],
   "source": [
    "np.mean(eigen_value) - eig_val"
   ]
  },
  {
   "cell_type": "markdown",
   "metadata": {},
   "source": [
    "## Import Iris dataset\n",
    "<hr>"
   ]
  },
  {
   "cell_type": "code",
   "execution_count": 220,
   "metadata": {},
   "outputs": [],
   "source": [
    "from sklearn.datasets import load_iris\n"
   ]
  },
  {
   "cell_type": "code",
   "execution_count": 222,
   "metadata": {},
   "outputs": [
    {
     "data": {
      "text/plain": [
       "(array(['setosa', 'versicolor', 'virginica'], dtype='<U10'),\n",
       " ['sepal length (cm)',\n",
       "  'sepal width (cm)',\n",
       "  'petal length (cm)',\n",
       "  'petal width (cm)'])"
      ]
     },
     "execution_count": 222,
     "metadata": {},
     "output_type": "execute_result"
    }
   ],
   "source": [
    "iris = load_iris()\n",
    "iris.target_names, iris.feature_names"
   ]
  },
  {
   "cell_type": "code",
   "execution_count": 223,
   "metadata": {},
   "outputs": [],
   "source": [
    "X = iris.data\n",
    "y = iris.target"
   ]
  },
  {
   "cell_type": "code",
   "execution_count": 227,
   "metadata": {},
   "outputs": [],
   "source": [
    "from sklearn.model_selection import train_test_split"
   ]
  },
  {
   "cell_type": "code",
   "execution_count": 228,
   "metadata": {},
   "outputs": [],
   "source": [
    "X_norm = normalise_data(X)"
   ]
  },
  {
   "cell_type": "code",
   "execution_count": 230,
   "metadata": {},
   "outputs": [],
   "source": [
    "X_train, X_test, y_train, y_test = train_test_split(X_norm, y, test_size=0.3, shuffle=False)"
   ]
  },
  {
   "cell_type": "code",
   "execution_count": 246,
   "metadata": {},
   "outputs": [
    {
     "data": {
      "text/plain": [
       "PCA(copy=True, iterated_power='auto', n_components=2, random_state=None,\n",
       "    svd_solver='auto', tol=0.0, whiten=False)"
      ]
     },
     "execution_count": 246,
     "metadata": {},
     "output_type": "execute_result"
    }
   ],
   "source": [
    "from sklearn.decomposition import PCA\n",
    "pca = PCA(n_components=2).fit(X_train)\n",
    "pca"
   ]
  },
  {
   "cell_type": "code",
   "execution_count": null,
   "metadata": {},
   "outputs": [],
   "source": []
  },
  {
   "cell_type": "code",
   "execution_count": null,
   "metadata": {},
   "outputs": [],
   "source": []
  },
  {
   "cell_type": "code",
   "execution_count": null,
   "metadata": {},
   "outputs": [],
   "source": []
  },
  {
   "cell_type": "code",
   "execution_count": null,
   "metadata": {},
   "outputs": [],
   "source": []
  },
  {
   "cell_type": "code",
   "execution_count": null,
   "metadata": {},
   "outputs": [],
   "source": []
  },
  {
   "cell_type": "code",
   "execution_count": null,
   "metadata": {},
   "outputs": [],
   "source": []
  },
  {
   "cell_type": "code",
   "execution_count": null,
   "metadata": {},
   "outputs": [],
   "source": []
  },
  {
   "cell_type": "code",
   "execution_count": null,
   "metadata": {},
   "outputs": [],
   "source": []
  },
  {
   "cell_type": "code",
   "execution_count": null,
   "metadata": {},
   "outputs": [],
   "source": []
  },
  {
   "cell_type": "code",
   "execution_count": null,
   "metadata": {},
   "outputs": [],
   "source": []
  },
  {
   "cell_type": "code",
   "execution_count": null,
   "metadata": {},
   "outputs": [],
   "source": []
  },
  {
   "cell_type": "code",
   "execution_count": null,
   "metadata": {},
   "outputs": [],
   "source": []
  },
  {
   "cell_type": "code",
   "execution_count": 241,
   "metadata": {},
   "outputs": [
    {
     "data": {
      "image/png": "[encoded data removed]",
      "text/plain": [
       "<Figure size 576x432 with 1 Axes>"
      ]
     },
     "metadata": {},
     "output_type": "display_data"
    },
    {
     "data": {
      "image/png": "[encoded data removed]",
      "text/plain": [
       "<Figure size 576x432 with 1 Axes>"
      ]
     },
     "metadata": {
      "needs_background": "light"
     },
     "output_type": "display_data"
    }
   ],
   "source": [
    "from mpl_toolkits.mplot3d import Axes3D\n",
    "iris = datasets.load_iris()\n",
    "X = iris.data[:, :2]  # we only take the first two features.\n",
    "y = iris.target\n",
    "\n",
    "x_min, x_max = X[:, 0].min() - .5, X[:, 0].max() + .5\n",
    "y_min, y_max = X[:, 1].min() - .5, X[:, 1].max() + .5\n",
    "\n",
    "plt.figure(2, figsize=(8, 6))\n",
    "plt.clf()\n",
    "\n",
    "# Plot the training points\n",
    "plt.scatter(X[:, 0], X[:, 1], c=y, cmap=plt.cm.Set1,\n",
    "            edgecolor='k')\n",
    "plt.xlabel('Sepal length')\n",
    "plt.ylabel('Sepal width')\n",
    "\n",
    "plt.xlim(x_min, x_max)\n",
    "plt.ylim(y_min, y_max)\n",
    "plt.xticks(())\n",
    "plt.yticks(())\n",
    "\n",
    "# To getter a better understanding of interaction of the dimensions\n",
    "# plot the first three PCA dimensions\n",
    "fig = plt.figure(1, figsize=(8, 6))\n",
    "ax = Axes3D(fig, elev=-150, azim=110)\n",
    "X_reduced = PCA(n_components=3).fit_transform(iris.data)\n",
    "ax.scatter(X_reduced[:, 0], X_reduced[:, 1], X_reduced[:, 2], c=y,\n",
    "           cmap=plt.cm.Set1, edgecolor='k', s=40)\n",
    "ax.set_title(\"First three PCA directions\")\n",
    "ax.set_xlabel(\"1st eigenvector\")\n",
    "ax.w_xaxis.set_ticklabels([])\n",
    "ax.set_ylabel(\"2nd eigenvector\")\n",
    "ax.w_yaxis.set_ticklabels([])\n",
    "ax.set_zlabel(\"3rd eigenvector\")\n",
    "ax.w_zaxis.set_ticklabels([])\n",
    "\n",
    "plt.show()"
   ]
  }
 ],
 "metadata": {
  "kernelspec": {
   "display_name": "Python 3",
   "language": "python",
   "name": "python3"
  },
  "language_info": {
   "codemirror_mode": {
    "name": "ipython",
    "version": 3
   },
   "file_extension": ".py",
   "mimetype": "text/x-python",
   "name": "python",
   "nbconvert_exporter": "python",
   "pygments_lexer": "ipython3",
   "version": "3.7.6"
  }
 },
 "nbformat": 4,
 "nbformat_minor": 4
}

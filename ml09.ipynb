{
 "cells": [
  {
   "cell_type": "markdown",
   "metadata": {},
   "source": [
    "# Demo SVM <br> <hr>"
   ]
  },
  {
   "cell_type": "markdown",
   "metadata": {},
   "source": [
    "### Support Vector machine\n",
    "### binary classification"
   ]
  },
  {
   "cell_type": "code",
   "execution_count": 49,
   "metadata": {},
   "outputs": [],
   "source": [
    "X = iris.data\n",
    "y = (iris.target == 2).astype(np.int)"
   ]
  },
  {
   "cell_type": "code",
   "execution_count": 51,
   "metadata": {},
   "outputs": [],
   "source": [
    "X_train, X_test, y_train, y_test = train_test_split(X, y, test_size=0.2, shuffle=True,\n",
    "                                                   random_state=1)"
   ]
  },
  {
   "cell_type": "code",
   "execution_count": 52,
   "metadata": {},
   "outputs": [
    {
     "name": "stdout",
     "output_type": "stream",
     "text": [
      "[LibSVM]"
     ]
    },
    {
     "data": {
      "text/plain": [
       "SVC(C=1.0, cache_size=200, class_weight=None, coef0=0.0,\n",
       "    decision_function_shape='ovr', degree=3, gamma='auto_deprecated',\n",
       "    kernel='linear', max_iter=-1, probability=False, random_state=10,\n",
       "    shrinking=True, tol=0.001, verbose=2)"
      ]
     },
     "execution_count": 52,
     "metadata": {},
     "output_type": "execute_result"
    }
   ],
   "source": [
    "clf = SVC(random_state=10, kernel = 'linear', verbose=2)\n",
    "clf.fit(X_train, y_train)"
   ]
  },
  {
   "cell_type": "code",
   "execution_count": 53,
   "metadata": {},
   "outputs": [
    {
     "name": "stdout",
     "output_type": "stream",
     "text": [
      "Training set score : 0.983333\n",
      "Testing set score : 1.000000\n",
      "\n"
     ]
    }
   ],
   "source": [
    "print('Training set score : %f' % clf.score(X_train, y_train))\n",
    "print('Testing set score : %f\\n' % clf.score(X_test, y_test))"
   ]
  },
  {
   "cell_type": "code",
   "execution_count": 54,
   "metadata": {},
   "outputs": [
    {
     "data": {
      "text/plain": [
       "array([[-0.77526888, -0.51743394,  2.03205246,  2.0729412 ]])"
      ]
     },
     "execution_count": 54,
     "metadata": {},
     "output_type": "execute_result"
    }
   ],
   "source": [
    "clf.coef_"
   ]
  },
  {
   "cell_type": "code",
   "execution_count": 60,
   "metadata": {},
   "outputs": [],
   "source": [
    "def features_important(coef, feature_names):\n",
    "    imp = coef\n",
    "    imp, names = zip(*sorted(zip(imp, feature_names)))\n",
    "    plt.barh(range(len(feature_names)), imp, align='center')\n",
    "    plt.yticks(range(len(feature_names)), feature_names)\n",
    "    plt.show()"
   ]
  },
  {
   "cell_type": "code",
   "execution_count": 61,
   "metadata": {},
   "outputs": [
    {
     "data": {
      "image/png": "[encoded data removed]",
      "text/plain": [
       "<Figure size 432x288 with 1 Axes>"
      ]
     },
     "metadata": {
      "needs_background": "light"
     },
     "output_type": "display_data"
    }
   ],
   "source": [
    "features_important(clf.coef_.ravel(), iris.feature_names)"
   ]
  },
  {
   "cell_type": "markdown",
   "metadata": {},
   "source": [
    "### multiclass one-v-one"
   ]
  },
  {
   "cell_type": "code",
   "execution_count": 16,
   "metadata": {},
   "outputs": [],
   "source": [
    "import matplotlib.pyplot as plt\n",
    "import numpy as np\n",
    "from sklearn import datasets\n",
    "from sklearn.model_selection import train_test_split\n",
    "from sklearn.svm import SVC"
   ]
  },
  {
   "cell_type": "code",
   "execution_count": 5,
   "metadata": {},
   "outputs": [],
   "source": [
    "iris = datasets.load_iris()"
   ]
  },
  {
   "cell_type": "code",
   "execution_count": 12,
   "metadata": {},
   "outputs": [
    {
     "name": "stdout",
     "output_type": "stream",
     "text": [
      "['setosa' 'versicolor' 'virginica']\n",
      "['sepal length (cm)', 'sepal width (cm)', 'petal length (cm)', 'petal width (cm)']\n"
     ]
    },
    {
     "data": {
      "text/plain": [
       "(None, None)"
      ]
     },
     "execution_count": 12,
     "metadata": {},
     "output_type": "execute_result"
    }
   ],
   "source": [
    "print(iris.target_names), print(iris.feature_names)"
   ]
  },
  {
   "cell_type": "code",
   "execution_count": 13,
   "metadata": {},
   "outputs": [],
   "source": [
    "X = iris.data\n",
    "y = iris.target"
   ]
  },
  {
   "cell_type": "code",
   "execution_count": 15,
   "metadata": {},
   "outputs": [],
   "source": [
    "X_train, X_test, y_train, y_test = train_test_split(X, y, test_size=0.2,\n",
    "                                                   shuffle=True, random_state=1)"
   ]
  },
  {
   "cell_type": "code",
   "execution_count": 17,
   "metadata": {},
   "outputs": [
    {
     "data": {
      "text/plain": [
       "SVC(C=1.0, cache_size=200, class_weight=None, coef0=0.0,\n",
       "    decision_function_shape='ovo', degree=3, gamma='auto_deprecated',\n",
       "    kernel='linear', max_iter=-1, probability=False, random_state=10,\n",
       "    shrinking=True, tol=0.001, verbose=False)"
      ]
     },
     "execution_count": 17,
     "metadata": {},
     "output_type": "execute_result"
    }
   ],
   "source": [
    "clf = SVC(decision_function_shape='ovo', random_state = 10, kernel = 'linear')\n",
    "clf.fit(X_train, y_train)"
   ]
  },
  {
   "cell_type": "code",
   "execution_count": 18,
   "metadata": {},
   "outputs": [
    {
     "data": {
      "text/plain": [
       "'ovo'"
      ]
     },
     "execution_count": 18,
     "metadata": {},
     "output_type": "execute_result"
    }
   ],
   "source": [
    "clf.decision_function_shape"
   ]
  },
  {
   "cell_type": "code",
   "execution_count": 19,
   "metadata": {},
   "outputs": [
    {
     "name": "stdout",
     "output_type": "stream",
     "text": [
      "Training set score : 0.983333\n",
      "Testing set score : 1.000000\n"
     ]
    }
   ],
   "source": [
    "print('Training set score : %f' % clf.score(X_train, y_train))\n",
    "print('Testing set score : %f' % clf.score(X_test, y_test))"
   ]
  },
  {
   "cell_type": "markdown",
   "metadata": {},
   "source": [
    "### multiclass one-v-all"
   ]
  },
  {
   "cell_type": "code",
   "execution_count": 20,
   "metadata": {},
   "outputs": [
    {
     "data": {
      "text/plain": [
       "SVC(C=1.0, cache_size=200, class_weight=None, coef0=0.0,\n",
       "    decision_function_shape='ovr', degree=3, gamma='auto_deprecated',\n",
       "    kernel='linear', max_iter=-1, probability=False, random_state=10,\n",
       "    shrinking=True, tol=0.001, verbose=False)"
      ]
     },
     "execution_count": 20,
     "metadata": {},
     "output_type": "execute_result"
    }
   ],
   "source": [
    "clf = SVC(decision_function_shape='ovr', random_state=10, kernel='linear')\n",
    "clf.fit(X_train, y_train)"
   ]
  },
  {
   "cell_type": "code",
   "execution_count": 21,
   "metadata": {},
   "outputs": [
    {
     "data": {
      "text/plain": [
       "'ovr'"
      ]
     },
     "execution_count": 21,
     "metadata": {},
     "output_type": "execute_result"
    }
   ],
   "source": [
    "clf.decision_function_shape"
   ]
  },
  {
   "cell_type": "code",
   "execution_count": 22,
   "metadata": {},
   "outputs": [
    {
     "name": "stdout",
     "output_type": "stream",
     "text": [
      "Training set score : 0.983333\n",
      "Testing set score : 1.000000\n"
     ]
    }
   ],
   "source": [
    "print('Training set score : %f' % clf.score(X_train, y_train))\n",
    "print('Testing set score : %f' % clf.score(X_test, y_test))"
   ]
  },
  {
   "cell_type": "code",
   "execution_count": 24,
   "metadata": {},
   "outputs": [
    {
     "data": {
      "text/plain": [
       "array([[-0.03647945,  0.45194491, -0.87644639, -0.39672978],\n",
       "       [-0.00704245,  0.17887143, -0.53845563, -0.29219651],\n",
       "       [ 0.77520826,  0.51760113, -2.03199066, -2.07311894]])"
      ]
     },
     "execution_count": 24,
     "metadata": {},
     "output_type": "execute_result"
    }
   ],
   "source": [
    "clf.coef_ # because it one versus all in the first line would be first class vs all"
   ]
  },
  {
   "cell_type": "code",
   "execution_count": 63,
   "metadata": {},
   "outputs": [
    {
     "name": "stdout",
     "output_type": "stream",
     "text": [
      "setosa vs all\n"
     ]
    },
    {
     "data": {
      "image/png": "[encoded data removed]",
      "text/plain": [
       "<Figure size 432x288 with 1 Axes>"
      ]
     },
     "metadata": {
      "needs_background": "light"
     },
     "output_type": "display_data"
    }
   ],
   "source": [
    "iris_class = 0\n",
    "print(iris.target_names[iris_class], 'vs all')\n",
    "features_important(clf.coef_[iris_class], iris['feature_names'])"
   ]
  },
  {
   "cell_type": "code",
   "execution_count": 30,
   "metadata": {},
   "outputs": [
    {
     "data": {
      "text/plain": [
       "[-0.03647944867942732,\n",
       " 0.4519449107545561,\n",
       " -0.8764463854962624,\n",
       " -0.39672977888831185]"
      ]
     },
     "execution_count": 30,
     "metadata": {},
     "output_type": "execute_result"
    }
   ],
   "source": [
    "clf.coef_[0].tolist()"
   ]
  },
  {
   "cell_type": "markdown",
   "metadata": {},
   "source": [
    "### C hyper parameter"
   ]
  },
  {
   "cell_type": "code",
   "execution_count": 35,
   "metadata": {},
   "outputs": [
    {
     "name": "stdout",
     "output_type": "stream",
     "text": [
      "kernel : linear\n",
      "Training set score : 0.983333\n",
      "Testing set score : 1.000000\n",
      "\n",
      "kernel : rbf\n",
      "Training set score : 0.983333\n",
      "Testing set score : 0.966667\n",
      "\n",
      "kernel : poly\n",
      "Training set score : 0.975000\n",
      "Testing set score : 1.000000\n",
      "\n"
     ]
    }
   ],
   "source": [
    "kernel_list = ['linear', 'rbf', 'poly']\n",
    "for kernel in kernel_list:\n",
    "    clf = SVC(C = 1, decision_function_shape='ovr', random_state=10, kernel = kernel, gamma='auto')\n",
    "    clf.fit(X_train, y_train)\n",
    "    \n",
    "    print('kernel :', kernel)\n",
    "    print('Training set score : %f' % clf.score(X_train, y_train))\n",
    "    print('Testing set score : %f\\n' % clf.score(X_test, y_test))"
   ]
  },
  {
   "cell_type": "code",
   "execution_count": 36,
   "metadata": {},
   "outputs": [],
   "source": [
    "from sklearn.model_selection import cross_val_score"
   ]
  },
  {
   "cell_type": "code",
   "execution_count": 40,
   "metadata": {},
   "outputs": [
    {
     "name": "stdout",
     "output_type": "stream",
     "text": [
      "Best cv score : 0.9836666666666666 with Hyper parameter C : 1\n"
     ]
    }
   ],
   "source": [
    "c_list = [10**c for c in range(-6, 7)]\n",
    "\n",
    "best_score = 0\n",
    "best_c = 0\n",
    "\n",
    "# find best c parameter\n",
    "for c in c_list:\n",
    "    clf = SVC( C = c, decision_function_shape='ovr', random_state=10, kernel='linear', gamma='auto')\n",
    "    cv_score = cross_val_score(clf, X_train, y_train, cv=5)\n",
    "    mean_cv = cv_score.mean()\n",
    "    \n",
    "    if mean_cv > best_score:\n",
    "        best_score = mean_cv\n",
    "        best_c = c\n",
    "\n",
    "print(f'Best cv score : {best_score} with Hyper parameter C : {best_c}')"
   ]
  },
  {
   "cell_type": "code",
   "execution_count": 41,
   "metadata": {},
   "outputs": [
    {
     "data": {
      "text/plain": [
       "SVC(C=1, cache_size=200, class_weight=None, coef0=0.0,\n",
       "    decision_function_shape='ovr', degree=3, gamma='auto', kernel='linear',\n",
       "    max_iter=-1, probability=False, random_state=10, shrinking=True, tol=0.001,\n",
       "    verbose=False)"
      ]
     },
     "execution_count": 41,
     "metadata": {},
     "output_type": "execute_result"
    }
   ],
   "source": [
    "clf = SVC( C = best_c, decision_function_shape='ovr', random_state=10, kernel='linear', gamma='auto')\n",
    "clf.fit(X_train, y_train)"
   ]
  },
  {
   "cell_type": "code",
   "execution_count": 42,
   "metadata": {},
   "outputs": [
    {
     "name": "stdout",
     "output_type": "stream",
     "text": [
      "Training set score : 0.983333\n",
      "Testing set score : 1.000000\n",
      "\n"
     ]
    }
   ],
   "source": [
    "print('Training set score : %f' % clf.score(X_train, y_train))\n",
    "print('Testing set score : %f\\n' % clf.score(X_test, y_test))"
   ]
  },
  {
   "cell_type": "code",
   "execution_count": 43,
   "metadata": {
    "scrolled": true
   },
   "outputs": [
    {
     "name": "stdout",
     "output_type": "stream",
     "text": [
      "Training set score : 0.958333\n",
      "Testing set score : 0.833333\n",
      "\n"
     ]
    }
   ],
   "source": [
    "from sklearn.linear_model import LogisticRegression\n",
    "\n",
    "clf = LogisticRegression(random_state=10, multi_class='ovr', solver='liblinear')\n",
    "clf.fit(X_train, y_train)\n",
    "\n",
    "print('Training set score : %f' % clf.score(X_train, y_train))\n",
    "print('Testing set score : %f\\n' % clf.score(X_test, y_test))"
   ]
  },
  {
   "cell_type": "markdown",
   "metadata": {},
   "source": [
    "# Digital Image Classification <br> <hr>"
   ]
  },
  {
   "cell_type": "code",
   "execution_count": 67,
   "metadata": {},
   "outputs": [],
   "source": [
    "from sklearn.datasets import load_digits\n",
    "digits = load_digits()"
   ]
  },
  {
   "cell_type": "code",
   "execution_count": 70,
   "metadata": {},
   "outputs": [],
   "source": [
    "X = digits.data\n",
    "y = digits.target"
   ]
  },
  {
   "cell_type": "code",
   "execution_count": 73,
   "metadata": {},
   "outputs": [],
   "source": [
    "X_train, X_test, y_train, y_test = train_test_split(X, y,test_size=0.3,\n",
    "                                                   shuffle = True)"
   ]
  },
  {
   "cell_type": "code",
   "execution_count": null,
   "metadata": {},
   "outputs": [],
   "source": [
    "c_list = [10**-6, 1, 10**6]\n",
    "for c in c_list:\n",
    "    clf = SVC( C = c, decision_function_shape='ovr', random_state=10,\n",
    "              kernel='linear', gamma='auto', verbose=2)\n",
    "    cv_score = cross_val_score(clf, X_train, y_train, cv=5)\n",
    "    mean_cv = cv_score.mean()\n",
    "    \n",
    "    if mean_cv > best_score:\n",
    "        best_score = mean_cv\n",
    "        best_c = c\n",
    "\n",
    "print(f'Best cv score : {best_score} with Hyper parameter C : {best_c}')"
   ]
  },
  {
   "cell_type": "code",
   "execution_count": 81,
   "metadata": {
    "scrolled": true
   },
   "outputs": [
    {
     "name": "stdout",
     "output_type": "stream",
     "text": [
      "[LibSVM]C : 1e-06 and Gamma : 1000000\n",
      "Training set score : 1.000000\n",
      "Testing set score : 0.418519\n",
      "\n",
      "-----------------------------------------------\n"
     ]
    }
   ],
   "source": [
    "c_list = [10**-6, 1, 10**6]\n",
    "gamma = [10**-6, 1, 10**6]\n",
    "\n",
    "clf = SVC( C = c_list[2], decision_function_shape='ovr', random_state=10,\n",
    "kernel='rbf', gamma='auto', verbose=2, max_iter = -1)\n",
    "clf.fit(X_train, y_train)\n",
    "\n",
    "print('C :', c_list[0], 'and Gamma :', gamma[2])\n",
    "print('Training set score : %f' % clf.score(X_train, y_train))\n",
    "print('Testing set score : %f\\n' % clf.score(X_test, y_test))\n",
    "print(\"-----------------------------------------------\")"
   ]
  },
  {
   "cell_type": "code",
   "execution_count": 83,
   "metadata": {},
   "outputs": [],
   "source": [
    "\n",
    "c_list = [10**-6, 1, 10**6]\n",
    "degree = [1, 2, 3, 4, 5, 6]\n",
    "gamma = [10**-6, 1, 10**6]\n",
    "kernel_list = ['linear', 'poly', 'rbf']\n",
    "best_score = 0\n",
    "best_c = 0\n",
    "best_gamma = 0\n",
    "best_degree = 0\n",
    "best_kernel = 0\n"
   ]
  },
  {
   "cell_type": "code",
   "execution_count": 85,
   "metadata": {
    "collapsed": true
   },
   "outputs": [
    {
     "name": "stdout",
     "output_type": "stream",
     "text": [
      "linear 1e-06 1e-06\n",
      "linear 1e-06 1\n",
      "linear 1e-06 1000000\n",
      "linear 1 1e-06\n",
      "linear 1 1\n",
      "linear 1 1000000\n",
      "linear 1000000 1e-06\n",
      "linear 1000000 1\n",
      "linear 1000000 1000000\n",
      "poly 1e-06 1e-06 1\n",
      "poly 1e-06 1e-06 2\n",
      "poly 1e-06 1e-06 3\n",
      "poly 1e-06 1e-06 4\n",
      "poly 1e-06 1e-06 5\n",
      "poly 1e-06 1e-06 6\n",
      "poly 1e-06 1 1\n",
      "poly 1e-06 1 2\n",
      "poly 1e-06 1 3\n",
      "poly 1e-06 1 4\n",
      "poly 1e-06 1 5\n",
      "poly 1e-06 1 6\n",
      "poly 1e-06 1000000 1\n",
      "poly 1e-06 1000000 2\n",
      "poly 1e-06 1000000 3\n",
      "poly 1e-06 1000000 4\n",
      "poly 1e-06 1000000 5\n",
      "poly 1e-06 1000000 6\n",
      "poly 1 1e-06 1\n",
      "poly 1 1e-06 2\n",
      "poly 1 1e-06 3\n",
      "poly 1 1e-06 4\n",
      "poly 1 1e-06 5\n",
      "poly 1 1e-06 6\n",
      "poly 1 1 1\n",
      "poly 1 1 2\n",
      "poly 1 1 3\n",
      "poly 1 1 4\n",
      "poly 1 1 5\n",
      "poly 1 1 6\n",
      "poly 1 1000000 1\n",
      "poly 1 1000000 2\n",
      "poly 1 1000000 3\n",
      "poly 1 1000000 4\n",
      "poly 1 1000000 5\n",
      "poly 1 1000000 6\n",
      "poly 1000000 1e-06 1\n",
      "poly 1000000 1e-06 2\n",
      "poly 1000000 1e-06 3\n",
      "poly 1000000 1e-06 4\n",
      "poly 1000000 1e-06 5\n",
      "poly 1000000 1e-06 6\n",
      "poly 1000000 1 1\n",
      "poly 1000000 1 2\n",
      "poly 1000000 1 3\n",
      "poly 1000000 1 4\n",
      "poly 1000000 1 5\n",
      "poly 1000000 1 6\n",
      "poly 1000000 1000000 1\n",
      "poly 1000000 1000000 2\n",
      "poly 1000000 1000000 3\n",
      "poly 1000000 1000000 4\n",
      "poly 1000000 1000000 5\n",
      "poly 1000000 1000000 6\n",
      "rbf 1e-06 1e-06\n",
      "rbf 1e-06 1\n",
      "rbf 1e-06 1000000\n",
      "rbf 1 1e-06\n",
      "rbf 1 1\n",
      "rbf 1 1000000\n",
      "rbf 1000000 1e-06\n",
      "rbf 1000000 1\n",
      "rbf 1000000 1000000\n"
     ]
    }
   ],
   "source": [
    "for kernel in kernel_list:\n",
    "    for i in c_list:\n",
    "        for j in gamma:\n",
    "            if kernel == 'poly':\n",
    "                for d in degree:\n",
    "                    print(kernel, i, j, d)\n",
    "\n",
    "            else:\n",
    "                print(kernel, i, j)\n",
    "      # verbose=2\n",
    "    "
   ]
  },
  {
   "cell_type": "code",
   "execution_count": 87,
   "metadata": {},
   "outputs": [],
   "source": [
    "from sklearn import datasets\n",
    "iris = datasets.load_iris()"
   ]
  },
  {
   "cell_type": "code",
   "execution_count": 88,
   "metadata": {},
   "outputs": [
    {
     "name": "stdout",
     "output_type": "stream",
     "text": [
      "['setosa' 'versicolor' 'virginica']\n",
      "['sepal length (cm)', 'sepal width (cm)', 'petal length (cm)', 'petal width (cm)']\n"
     ]
    },
    {
     "data": {
      "text/plain": [
       "(None, None)"
      ]
     },
     "execution_count": 88,
     "metadata": {},
     "output_type": "execute_result"
    }
   ],
   "source": [
    "print(iris.target_names), print(iris.feature_names)"
   ]
  },
  {
   "cell_type": "code",
   "execution_count": 90,
   "metadata": {},
   "outputs": [],
   "source": [
    "X = iris.data\n",
    "y = iris.target"
   ]
  },
  {
   "cell_type": "code",
   "execution_count": 91,
   "metadata": {},
   "outputs": [],
   "source": [
    "X_train, X_test, y_train, y_test = train_test_split(X, y, test_size = 0.3,\n",
    "                                                   shuffle = True)"
   ]
  },
  {
   "cell_type": "code",
   "execution_count": 95,
   "metadata": {},
   "outputs": [
    {
     "data": {
      "text/plain": [
       "SVC(C=1, cache_size=200, class_weight=None, coef0=0.0,\n",
       "    decision_function_shape='ovr', degree=3, gamma='auto_deprecated',\n",
       "    kernel='linear', max_iter=-1, probability=False, random_state=10,\n",
       "    shrinking=True, tol=0.001, verbose=False)"
      ]
     },
     "execution_count": 95,
     "metadata": {},
     "output_type": "execute_result"
    }
   ],
   "source": [
    "clf = SVC(C=1, decision_function_shape='ovr', random_state=10,\n",
    "          kernel='linear')\n",
    "clf.fit(X_train, y_train)"
   ]
  },
  {
   "cell_type": "code",
   "execution_count": 104,
   "metadata": {},
   "outputs": [
    {
     "name": "stdout",
     "output_type": "stream",
     "text": [
      "versicolor vs all\n"
     ]
    },
    {
     "data": {
      "image/png": "[encoded data removed]",
      "text/plain": [
       "<Figure size 432x288 with 1 Axes>"
      ]
     },
     "metadata": {
      "needs_background": "light"
     },
     "output_type": "display_data"
    }
   ],
   "source": [
    "iris_class = 1\n",
    "print(iris.target_names[iris_class], 'vs all')\n",
    "features_important(clf.coef_[iris_class], iris['feature_names'])"
   ]
  },
  {
   "cell_type": "code",
   "execution_count": null,
   "metadata": {},
   "outputs": [],
   "source": []
  }
 ],
 "metadata": {
  "kernelspec": {
   "display_name": "Python 3",
   "language": "python",
   "name": "python3"
  },
  "language_info": {
   "codemirror_mode": {
    "name": "ipython",
    "version": 3
   },
   "file_extension": ".py",
   "mimetype": "text/x-python",
   "name": "python",
   "nbconvert_exporter": "python",
   "pygments_lexer": "ipython3",
   "version": "3.7.4"
  }
 },
 "nbformat": 4,
 "nbformat_minor": 2
}
